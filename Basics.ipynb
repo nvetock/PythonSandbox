{
 "cells": [
  {
   "cell_type": "markdown",
   "id": "5bb864da-d066-4489-99a6-5c93e1026d41",
   "metadata": {},
   "source": [
    "# Jupyter Quick Commands\n",
    "esc :: switches to command mode\n",
    "Enter :: switches to edit mode\n",
    "\n",
    "## Command Mode\n",
    "m :: set curr cell to markdown\n",
    "y :: set curr cell to code\n"
   ]
  },
  {
   "cell_type": "markdown",
   "id": "653cf62f-ee24-4fba-ac33-510d935e52e2",
   "metadata": {},
   "source": [
    "# Math"
   ]
  },
  {
   "cell_type": "markdown",
   "id": "4ba3fc8a-c66a-43c6-83eb-77f5c25c3de6",
   "metadata": {},
   "source": [
    "### Default Division"
   ]
  },
  {
   "cell_type": "code",
   "execution_count": 2,
   "id": "ca5b2bb8-04ab-495d-87b5-be9ae2645b18",
   "metadata": {},
   "outputs": [
    {
     "data": {
      "text/plain": [
       "0.75"
      ]
     },
     "execution_count": 2,
     "metadata": {},
     "output_type": "execute_result"
    }
   ],
   "source": [
    "3/4"
   ]
  },
  {
   "cell_type": "markdown",
   "id": "52891040-30a4-4d3f-bb45-986c6d9a9276",
   "metadata": {},
   "source": [
    "### Integer Division"
   ]
  },
  {
   "cell_type": "code",
   "execution_count": 4,
   "id": "4b412f54-5b22-41fd-8be8-db05b199b6f0",
   "metadata": {},
   "outputs": [
    {
     "data": {
      "text/plain": [
       "0"
      ]
     },
     "execution_count": 4,
     "metadata": {},
     "output_type": "execute_result"
    }
   ],
   "source": [
    "3//4"
   ]
  },
  {
   "cell_type": "markdown",
   "id": "73eda749-d88e-4300-ab61-30e19a5f4726",
   "metadata": {},
   "source": [
    "### Multiplication"
   ]
  },
  {
   "cell_type": "code",
   "execution_count": 5,
   "id": "53e2f6c4-9fc3-46ad-9a37-4ec71316947e",
   "metadata": {},
   "outputs": [
    {
     "data": {
      "text/plain": [
       "12"
      ]
     },
     "execution_count": 5,
     "metadata": {},
     "output_type": "execute_result"
    }
   ],
   "source": [
    "3*4"
   ]
  },
  {
   "cell_type": "markdown",
   "id": "60f7794f-bdaa-47fe-a55b-3cabb0508057",
   "metadata": {},
   "source": [
    "### Power"
   ]
  },
  {
   "cell_type": "code",
   "execution_count": 7,
   "id": "fde073bb-06d4-459c-ae69-e81a0c2880a7",
   "metadata": {},
   "outputs": [
    {
     "data": {
      "text/plain": [
       "16"
      ]
     },
     "execution_count": 7,
     "metadata": {},
     "output_type": "execute_result"
    }
   ],
   "source": [
    "2**4"
   ]
  },
  {
   "cell_type": "markdown",
   "id": "8ca35d7c-4c9e-4598-b494-dba646f44fc0",
   "metadata": {},
   "source": [
    "### Using the last outputs results\n",
    "This applies to more than math.\n",
    "- Example below takes the most recent output result and adds 2"
   ]
  },
  {
   "cell_type": "code",
   "execution_count": 13,
   "id": "199447ca-4a9f-4ad3-8851-0a3133a4b0dc",
   "metadata": {},
   "outputs": [
    {
     "data": {
      "text/plain": [
       "18"
      ]
     },
     "execution_count": 13,
     "metadata": {},
     "output_type": "execute_result"
    }
   ],
   "source": [
    "_+2"
   ]
  },
  {
   "cell_type": "markdown",
   "id": "a145a160-5f90-4add-bf84-45230527d880",
   "metadata": {},
   "source": [
    "# IO\n",
    "## Output\n",
    "print() accepts argument for end char"
   ]
  },
  {
   "cell_type": "code",
   "execution_count": 3,
   "id": "1f5d9534-1bf1-4a73-a3b0-99f8f915aa57",
   "metadata": {},
   "outputs": [
    {
     "name": "stdout",
     "output_type": "stream",
     "text": [
      "output\n",
      "again\n"
     ]
    }
   ],
   "source": [
    "print(\"output\")\n",
    "print(\"again\")"
   ]
  },
  {
   "cell_type": "code",
   "execution_count": 4,
   "id": "57093e40-8d63-43f6-8540-e8ddca140b6f",
   "metadata": {},
   "outputs": [
    {
     "name": "stdout",
     "output_type": "stream",
     "text": [
      "output again\n"
     ]
    }
   ],
   "source": [
    "print(\"output\", end=' ')\n",
    "print(\"again\")"
   ]
  },
  {
   "cell_type": "markdown",
   "id": "61e74885-3f0f-4728-92d2-964bc88b0023",
   "metadata": {},
   "source": [
    "comma adds space between string literal and variable"
   ]
  },
  {
   "cell_type": "code",
   "execution_count": 6,
   "id": "39e46cff-90e0-4f51-a7aa-c49a6b3b94fa",
   "metadata": {},
   "outputs": [
    {
     "name": "stdout",
     "output_type": "stream",
     "text": [
      "hello world!\n"
     ]
    }
   ],
   "source": [
    "outVar = \"world!\"\n",
    "print(\"hello\", outVar)"
   ]
  },
  {
   "cell_type": "markdown",
   "id": "14e983a3-fe68-4a25-9b0c-14e025386e27",
   "metadata": {},
   "source": [
    "## Input"
   ]
  },
  {
   "cell_type": "code",
   "execution_count": 5,
   "id": "55479b6a-c50c-4eb3-beb4-2d94211d8744",
   "metadata": {},
   "outputs": [
    {
     "name": "stdin",
     "output_type": "stream",
     "text": [
      " 10\n"
     ]
    },
    {
     "name": "stdout",
     "output_type": "stream",
     "text": [
      "10\n"
     ]
    }
   ],
   "source": [
    "new_sal = int(input())\n",
    "print(new_sal)"
   ]
  },
  {
   "cell_type": "code",
   "execution_count": null,
   "id": "f44dc0ee-b3ae-4b89-b41a-acc271dd031c",
   "metadata": {},
   "outputs": [],
   "source": []
  },
  {
   "cell_type": "markdown",
   "id": "f93c7d84-ef9b-4f8c-8d82-24d887996c6e",
   "metadata": {},
   "source": [
    "# String Stuff"
   ]
  },
  {
   "cell_type": "code",
   "execution_count": 7,
   "id": "cf18893b-7867-491f-8bf9-af37f1c3d167",
   "metadata": {},
   "outputs": [],
   "source": [
    "mystring = \"Hello World\""
   ]
  },
  {
   "cell_type": "code",
   "execution_count": 8,
   "id": "763f8c0e-ecb3-45c3-8e59-f6b792913c7b",
   "metadata": {},
   "outputs": [
    {
     "data": {
      "text/plain": [
       "'Hello World'"
      ]
     },
     "execution_count": 8,
     "metadata": {},
     "output_type": "execute_result"
    }
   ],
   "source": [
    "mystring"
   ]
  },
  {
   "cell_type": "code",
   "execution_count": 9,
   "id": "9e4d9049-4eb3-4d89-9281-7b8ef9fd3862",
   "metadata": {},
   "outputs": [
    {
     "data": {
      "text/plain": [
       "'H'"
      ]
     },
     "execution_count": 9,
     "metadata": {},
     "output_type": "execute_result"
    }
   ],
   "source": [
    "mystring[0]"
   ]
  },
  {
   "cell_type": "code",
   "execution_count": 10,
   "id": "bbe3c5b3-7047-4b1c-b2f8-e7639bd7b79f",
   "metadata": {},
   "outputs": [
    {
     "data": {
      "text/plain": [
       "'r'"
      ]
     },
     "execution_count": 10,
     "metadata": {},
     "output_type": "execute_result"
    }
   ],
   "source": [
    "mystring[8]"
   ]
  },
  {
   "cell_type": "code",
   "execution_count": 11,
   "id": "cead0c95-f6bc-473e-a21e-14d4ab97d8f6",
   "metadata": {},
   "outputs": [
    {
     "data": {
      "text/plain": [
       "'l'"
      ]
     },
     "execution_count": 11,
     "metadata": {},
     "output_type": "execute_result"
    }
   ],
   "source": [
    "mystring[-2]"
   ]
  },
  {
   "cell_type": "markdown",
   "id": "f7c4b20c-4fd7-4dc3-b45d-227e857e0b2b",
   "metadata": {},
   "source": [
    "## Slicing\n",
    "Grabs a subsection of the string\n",
    "stringName\\[start\\:stop:jump]"
   ]
  },
  {
   "cell_type": "code",
   "execution_count": 12,
   "id": "6a807d32-f5ee-4142-b8cb-45982742f767",
   "metadata": {},
   "outputs": [],
   "source": [
    "mystring = 'abcdefghijk'"
   ]
  },
  {
   "cell_type": "markdown",
   "id": "e3b4c269-bb1c-4811-a550-2b4a247c823a",
   "metadata": {},
   "source": [
    "n:m specifies position n through exclusive m\n",
    "- go *up to* but *not including* m"
   ]
  },
  {
   "cell_type": "code",
   "execution_count": 15,
   "id": "a9968bed-cf4e-487d-9c2b-8d868f08c1e8",
   "metadata": {},
   "outputs": [
    {
     "data": {
      "text/plain": [
       "'abc'"
      ]
     },
     "execution_count": 15,
     "metadata": {},
     "output_type": "execute_result"
    }
   ],
   "source": [
    "mystring[0:3]"
   ]
  },
  {
   "cell_type": "code",
   "execution_count": 13,
   "id": "a47b9e5b-ec85-4e43-9b50-ca538ce35df0",
   "metadata": {},
   "outputs": [
    {
     "data": {
      "text/plain": [
       "'cdefghijk'"
      ]
     },
     "execution_count": 13,
     "metadata": {},
     "output_type": "execute_result"
    }
   ],
   "source": [
    "mystring[2:]"
   ]
  },
  {
   "cell_type": "code",
   "execution_count": 14,
   "id": "65b7d696-a317-46ad-897e-0068d2413f6b",
   "metadata": {},
   "outputs": [
    {
     "data": {
      "text/plain": [
       "'abc'"
      ]
     },
     "execution_count": 14,
     "metadata": {},
     "output_type": "execute_result"
    }
   ],
   "source": [
    "mystring[:3]"
   ]
  },
  {
   "cell_type": "code",
   "execution_count": 16,
   "id": "eebd5cc9-96c0-414d-80cb-ec994f3d6760",
   "metadata": {},
   "outputs": [
    {
     "data": {
      "text/plain": [
       "'def'"
      ]
     },
     "execution_count": 16,
     "metadata": {},
     "output_type": "execute_result"
    }
   ],
   "source": [
    "mystring[3:6]"
   ]
  },
  {
   "cell_type": "markdown",
   "id": "09fc23b0-6463-4197-8e32-1a7aff65affb",
   "metadata": {},
   "source": [
    "Grab every other letter"
   ]
  },
  {
   "cell_type": "code",
   "execution_count": 17,
   "id": "a76daf87-23d0-4df8-9c99-64eccd21feca",
   "metadata": {},
   "outputs": [
    {
     "data": {
      "text/plain": [
       "'acegik'"
      ]
     },
     "execution_count": 17,
     "metadata": {},
     "output_type": "execute_result"
    }
   ],
   "source": [
    "mystring[::2]"
   ]
  },
  {
   "cell_type": "raw",
   "id": "4baaa4ee-67de-41a7-ac0a-e53125ec205c",
   "metadata": {},
   "source": [
    "Grab every other letter backwards"
   ]
  },
  {
   "cell_type": "code",
   "execution_count": 18,
   "id": "fd17d5ae-2a59-44d7-89cf-386f2db4b080",
   "metadata": {},
   "outputs": [
    {
     "data": {
      "text/plain": [
       "'kigeca'"
      ]
     },
     "execution_count": 18,
     "metadata": {},
     "output_type": "execute_result"
    }
   ],
   "source": [
    "mystring[::-2]"
   ]
  },
  {
   "cell_type": "markdown",
   "id": "139ffe38-a605-4583-a95e-ace343a51b9f",
   "metadata": {},
   "source": [
    "Reverse a string"
   ]
  },
  {
   "cell_type": "code",
   "execution_count": 19,
   "id": "44a2bf0c-cbdf-4a48-bc57-fcb2736221cb",
   "metadata": {},
   "outputs": [
    {
     "data": {
      "text/plain": [
       "'kjihgfedcba'"
      ]
     },
     "execution_count": 19,
     "metadata": {},
     "output_type": "execute_result"
    }
   ],
   "source": [
    "mystring[::-1]"
   ]
  },
  {
   "cell_type": "markdown",
   "id": "485f1e00-174a-4b90-89f0-6d76720149e9",
   "metadata": {},
   "source": [
    "\\"
   ]
  },
  {
   "cell_type": "markdown",
   "id": "270d97ea-e2bc-462b-b908-684c39a71743",
   "metadata": {},
   "source": [
    "Strings are immutable. Modifications need to create a new string through concatenation or reassigning"
   ]
  },
  {
   "cell_type": "code",
   "execution_count": 20,
   "id": "e0e27f9a-6f21-4935-ad2c-4a3fb39061ed",
   "metadata": {},
   "outputs": [],
   "source": [
    "mystring = 'Sam'\n",
    "# mystring[0] = 'P' #this won't work"
   ]
  },
  {
   "cell_type": "code",
   "execution_count": 21,
   "id": "d088eedb-f7f4-4f75-a033-3df6f7f6bd28",
   "metadata": {},
   "outputs": [
    {
     "data": {
      "text/plain": [
       "'Sam says hi'"
      ]
     },
     "execution_count": 21,
     "metadata": {},
     "output_type": "execute_result"
    }
   ],
   "source": [
    "mystring + ' says hi'"
   ]
  },
  {
   "cell_type": "code",
   "execution_count": 22,
   "id": "0803ec1c-03a3-45e9-992e-d54e7b846f53",
   "metadata": {},
   "outputs": [],
   "source": [
    "mystring += ' says hi'"
   ]
  },
  {
   "cell_type": "code",
   "execution_count": 23,
   "id": "cbb4d0f0-3136-42fe-af6f-a55b58af88d6",
   "metadata": {},
   "outputs": [
    {
     "data": {
      "text/plain": [
       "'Sam says hi'"
      ]
     },
     "execution_count": 23,
     "metadata": {},
     "output_type": "execute_result"
    }
   ],
   "source": [
    "mystring"
   ]
  },
  {
   "cell_type": "code",
   "execution_count": 24,
   "id": "740d8a93-830f-45e2-bdc6-e1b50b94495a",
   "metadata": {},
   "outputs": [],
   "source": [
    "letter = 'Z'"
   ]
  },
  {
   "cell_type": "code",
   "execution_count": 25,
   "id": "5938447c-c669-43c2-807b-61ff27bba299",
   "metadata": {},
   "outputs": [
    {
     "data": {
      "text/plain": [
       "'ZZZZZZZZZZ'"
      ]
     },
     "execution_count": 25,
     "metadata": {},
     "output_type": "execute_result"
    }
   ],
   "source": [
    "letter * 10"
   ]
  },
  {
   "cell_type": "code",
   "execution_count": 27,
   "id": "ac58dd64-4c33-4ba7-9408-34806b7fb15c",
   "metadata": {},
   "outputs": [
    {
     "data": {
      "text/plain": [
       "5"
      ]
     },
     "execution_count": 27,
     "metadata": {},
     "output_type": "execute_result"
    }
   ],
   "source": [
    "2 + 3"
   ]
  },
  {
   "cell_type": "code",
   "execution_count": 28,
   "id": "5a317399-6a1f-4425-bbc0-f9aa866fca0e",
   "metadata": {},
   "outputs": [
    {
     "data": {
      "text/plain": [
       "'23'"
      ]
     },
     "execution_count": 28,
     "metadata": {},
     "output_type": "execute_result"
    }
   ],
   "source": [
    "'2' + '3'"
   ]
  },
  {
   "cell_type": "code",
   "execution_count": 29,
   "id": "2b37d8b6-4237-4ae2-b14b-c3d227dd5e12",
   "metadata": {},
   "outputs": [],
   "source": [
    "x = 'Hello World'"
   ]
  },
  {
   "cell_type": "code",
   "execution_count": 30,
   "id": "0f175e47-e296-48b5-89d2-8e6d73998089",
   "metadata": {},
   "outputs": [
    {
     "data": {
      "text/plain": [
       "'HELLO WORLD'"
      ]
     },
     "execution_count": 30,
     "metadata": {},
     "output_type": "execute_result"
    }
   ],
   "source": [
    "x.upper()"
   ]
  },
  {
   "cell_type": "code",
   "execution_count": 31,
   "id": "137cb321-ec70-4a45-959f-a96caacd8eb3",
   "metadata": {},
   "outputs": [],
   "source": [
    "x = 'This is a string'"
   ]
  },
  {
   "cell_type": "code",
   "execution_count": 32,
   "id": "bd0314ee-b340-4f0f-9cf4-c540cb799f56",
   "metadata": {},
   "outputs": [
    {
     "data": {
      "text/plain": [
       "['This', 'is', 'a', 'string']"
      ]
     },
     "execution_count": 32,
     "metadata": {},
     "output_type": "execute_result"
    }
   ],
   "source": [
    "x.split()"
   ]
  },
  {
   "cell_type": "code",
   "execution_count": 33,
   "id": "79b8c665-08e4-47b5-9815-abb45c26fcfd",
   "metadata": {},
   "outputs": [],
   "source": [
    "y = '5:2:3:1:this:is:delimited:by:colons'"
   ]
  },
  {
   "cell_type": "code",
   "execution_count": 34,
   "id": "3b710fb4-215b-499f-b200-43a021d76964",
   "metadata": {},
   "outputs": [
    {
     "data": {
      "text/plain": [
       "['5', '2', '3', '1', 'this', 'is', 'delimited', 'by', 'colons']"
      ]
     },
     "execution_count": 34,
     "metadata": {},
     "output_type": "execute_result"
    }
   ],
   "source": [
    "y.split(':')"
   ]
  },
  {
   "cell_type": "markdown",
   "id": "0c65525b-6737-49f5-8d91-41569e8687f9",
   "metadata": {},
   "source": [
    "# Print Formatting\n",
    "\n",
    "Format objects into strings for print statements with the str.format() method. Use within print()\n",
    "'String {} like this {} this.'.format('works', 'and')"
   ]
  },
  {
   "cell_type": "code",
   "execution_count": 1,
   "id": "8dd896e3-297b-4a79-a533-67db8b3b4c52",
   "metadata": {},
   "outputs": [
    {
     "name": "stdout",
     "output_type": "stream",
     "text": [
      "This is the string to add words to.\n"
     ]
    }
   ],
   "source": [
    "print('This is {} string to {} words to.'.format('the', 'add'))"
   ]
  },
  {
   "cell_type": "markdown",
   "id": "22f50c23-a6c7-4d83-afb0-d64590eb793f",
   "metadata": {},
   "source": [
    "Words being formatted can have order specified..."
   ]
  },
  {
   "cell_type": "code",
   "execution_count": 2,
   "id": "239cd28a-e516-4519-8dbe-10072c6bb702",
   "metadata": {},
   "outputs": [
    {
     "name": "stdout",
     "output_type": "stream",
     "text": [
      "The fox quick brown.\n"
     ]
    }
   ],
   "source": [
    "print('The {} {} {}.'.format('fox','quick','brown'))"
   ]
  },
  {
   "cell_type": "code",
   "execution_count": 4,
   "id": "f2fb4170-6d2a-4f5a-83f9-10e855e1fde1",
   "metadata": {},
   "outputs": [
    {
     "name": "stdout",
     "output_type": "stream",
     "text": [
      "The quick brown fox.\n"
     ]
    }
   ],
   "source": [
    "print('The {1} {2} {0}.'.format('fox','quick','brown'))"
   ]
  },
  {
   "cell_type": "markdown",
   "id": "0259e849-6806-4890-b207-ff3a9cb220c9",
   "metadata": {},
   "source": [
    "Keywords can be assigned as well..."
   ]
  },
  {
   "cell_type": "code",
   "execution_count": 6,
   "id": "0a98b1ce-f69d-4a9f-a534-a39f3a401807",
   "metadata": {},
   "outputs": [
    {
     "name": "stdout",
     "output_type": "stream",
     "text": [
      "The fox fox fox.\n"
     ]
    }
   ],
   "source": [
    "print('The {f} {f} {f}.'.format(f='fox',b='brown',q='quick'))"
   ]
  },
  {
   "cell_type": "markdown",
   "id": "73450600-da73-44cc-be10-9299e1a97ffb",
   "metadata": {},
   "source": [
    "---\n",
    "## Float formatting\n",
    "{value\\:width\\:precision}\\\n",
    "width = total width of output area\\\n",
    "precision = num places *after* decimal"
   ]
  },
  {
   "cell_type": "code",
   "execution_count": 8,
   "id": "6d3d6170-b123-495f-a19d-6bc8ad311d9d",
   "metadata": {},
   "outputs": [],
   "source": [
    "result = 100/777"
   ]
  },
  {
   "cell_type": "code",
   "execution_count": 9,
   "id": "28217b6b-d2b5-497e-a49c-a7c6b2ac29f4",
   "metadata": {},
   "outputs": [
    {
     "data": {
      "text/plain": [
       "0.1287001287001287"
      ]
     },
     "execution_count": 9,
     "metadata": {},
     "output_type": "execute_result"
    }
   ],
   "source": [
    "result"
   ]
  },
  {
   "cell_type": "code",
   "execution_count": null,
   "id": "05060b9a-10c6-4ea5-8e78-87cb8832dd42",
   "metadata": {},
   "outputs": [],
   "source": [
    "print(\"The result was {r:1.3f}.\".format(r=result))"
   ]
  },
  {
   "cell_type": "markdown",
   "id": "d42b0570-5be3-40fe-91a5-713833920987",
   "metadata": {},
   "source": [
    "---\n",
    "## fstring formatting\n",
    "Allows writing the variable directly inline with the string being output"
   ]
  },
  {
   "cell_type": "code",
   "execution_count": 10,
   "id": "cd289dc8-a2b5-4b83-8253-b6dc8c0c7f34",
   "metadata": {},
   "outputs": [],
   "source": [
    "name = 'John'"
   ]
  },
  {
   "cell_type": "code",
   "execution_count": 11,
   "id": "6f605fbb-8fd2-4b34-8db1-2bdf96514d4e",
   "metadata": {},
   "outputs": [
    {
     "name": "stdout",
     "output_type": "stream",
     "text": [
      "Hello, his name is John\n"
     ]
    }
   ],
   "source": [
    "print(f'Hello, his name is {name}')"
   ]
  },
  {
   "cell_type": "code",
   "execution_count": null,
   "id": "d43145ed-4ec2-4914-aab9-9b34b08a0317",
   "metadata": {},
   "outputs": [],
   "source": []
  },
  {
   "cell_type": "code",
   "execution_count": null,
   "id": "14f693ec-c792-49d2-9897-04d4c95b0838",
   "metadata": {},
   "outputs": [],
   "source": []
  },
  {
   "cell_type": "code",
   "execution_count": null,
   "id": "494d0224-a965-4c41-a41f-0320d55310c3",
   "metadata": {},
   "outputs": [],
   "source": []
  },
  {
   "cell_type": "markdown",
   "id": "68ede1f1-4293-43c2-8e08-2066616ec977",
   "metadata": {},
   "source": [
    "---\n",
    "# Lists"
   ]
  },
  {
   "cell_type": "code",
   "execution_count": 12,
   "id": "5206f17a-3b08-4037-8ff1-d20f81f7d2b2",
   "metadata": {},
   "outputs": [],
   "source": [
    "mylist = ['one', 'two', 'three']"
   ]
  },
  {
   "cell_type": "code",
   "execution_count": 13,
   "id": "0089edf0-4745-41aa-894a-3392e8225fdc",
   "metadata": {},
   "outputs": [
    {
     "data": {
      "text/plain": [
       "['one', 'two', 'three']"
      ]
     },
     "execution_count": 13,
     "metadata": {},
     "output_type": "execute_result"
    }
   ],
   "source": [
    "mylist"
   ]
  },
  {
   "cell_type": "code",
   "execution_count": 14,
   "id": "11aef90c-07b4-4117-9d7a-aa57a9a9e3e6",
   "metadata": {},
   "outputs": [
    {
     "data": {
      "text/plain": [
       "3"
      ]
     },
     "execution_count": 14,
     "metadata": {},
     "output_type": "execute_result"
    }
   ],
   "source": [
    "len(mylist)"
   ]
  },
  {
   "cell_type": "code",
   "execution_count": 15,
   "id": "9b673f66-56d1-400e-8ee0-48b4ad8e6966",
   "metadata": {},
   "outputs": [],
   "source": [
    "yourlist = ['four', 'five', 'six']"
   ]
  },
  {
   "cell_type": "code",
   "execution_count": 16,
   "id": "2d02c3d6-fd6d-43dc-ae3c-215b01df9053",
   "metadata": {},
   "outputs": [
    {
     "data": {
      "text/plain": [
       "['one', 'two', 'three', 'four', 'five', 'six']"
      ]
     },
     "execution_count": 16,
     "metadata": {},
     "output_type": "execute_result"
    }
   ],
   "source": [
    "mylist + yourlist"
   ]
  },
  {
   "cell_type": "code",
   "execution_count": 17,
   "id": "ab786590-01e3-451e-a8d1-e4b2af4e36db",
   "metadata": {},
   "outputs": [],
   "source": [
    "unsorted_list = ['x', 'e', 'h', 's', 'b', 'r']"
   ]
  },
  {
   "cell_type": "code",
   "execution_count": 18,
   "id": "a90e7874-20fe-4801-957a-4a6599ed978a",
   "metadata": {},
   "outputs": [
    {
     "data": {
      "text/plain": [
       "['x', 'e', 'h', 's', 'b', 'r']"
      ]
     },
     "execution_count": 18,
     "metadata": {},
     "output_type": "execute_result"
    }
   ],
   "source": [
    "unsorted_list"
   ]
  },
  {
   "cell_type": "markdown",
   "id": "74e2370c-2cd2-4ec8-b068-dff7b82377d4",
   "metadata": {},
   "source": [
    "---\n",
    "## List Methods\n",
    "### Operations (non-destructive)\n",
    ".len()\\\n",
    "list+list2\\\n",
    ".min()\\\n",
    ".max()\\\n",
    ".sum()\\\n",
    ".count(val)\\\n",
    ".index(num)\n",
    "\n",
    "### Methods\n",
    ".append(x)\\\n",
    ".extend(\\[x]) - appends full list\\\n",
    ".insert(i, x) - inserts x *before* position i\\\n",
    ".remove(x) :: pop() :: pop(i) - x = val. i = position\\\n",
    ".sort(x, reverse = Boolean) - asc default\\\n",
    ".sorted(x, reverse = Boolean) - returns *new* list\\\n",
    "\n",
    "### Iterators\n",
    "#### Boolean returns\n",
    "all(list)\\\n",
    "any(list)\n",
    "#### Value returns\n",
    "max(list) :: min(list) :: sum(list)"
   ]
  },
  {
   "cell_type": "code",
   "execution_count": 19,
   "id": "cd25caf3-c025-4b52-9139-2b99cd0ceb35",
   "metadata": {},
   "outputs": [],
   "source": [
    "unsorted_list.sort()"
   ]
  },
  {
   "cell_type": "code",
   "execution_count": 20,
   "id": "5020f42a-f087-4505-87a2-1f5709d247ca",
   "metadata": {},
   "outputs": [
    {
     "data": {
      "text/plain": [
       "['b', 'e', 'h', 'r', 's', 'x']"
      ]
     },
     "execution_count": 20,
     "metadata": {},
     "output_type": "execute_result"
    }
   ],
   "source": [
    "unsorted_list"
   ]
  },
  {
   "cell_type": "code",
   "execution_count": 21,
   "id": "c624bb22-f2b9-4b28-a7d9-907f9b21932d",
   "metadata": {},
   "outputs": [],
   "source": [
    "unsorted_list.reverse()"
   ]
  },
  {
   "cell_type": "code",
   "execution_count": 22,
   "id": "43ef2598-23e7-4ffb-bad3-9238f2f4b603",
   "metadata": {},
   "outputs": [
    {
     "data": {
      "text/plain": [
       "['x', 's', 'r', 'h', 'e', 'b']"
      ]
     },
     "execution_count": 22,
     "metadata": {},
     "output_type": "execute_result"
    }
   ],
   "source": [
    "unsorted_list"
   ]
  },
  {
   "cell_type": "markdown",
   "id": "3d683266-348c-42b2-9659-fbf1571cbc93",
   "metadata": {},
   "source": [
    "## List Comprehension\n",
    "new_list = \\[expression for loop_var_name in iterable]"
   ]
  },
  {
   "cell_type": "code",
   "execution_count": 23,
   "id": "89282549-c319-45e4-ba68-02a7f5c68135",
   "metadata": {},
   "outputs": [],
   "source": [
    "num_list = [1, 2, 3, 4, 5]"
   ]
  },
  {
   "cell_type": "code",
   "execution_count": 31,
   "id": "78ce4b20-5c59-4504-918c-aa71139e532f",
   "metadata": {},
   "outputs": [],
   "source": [
    "add_two = 2"
   ]
  },
  {
   "cell_type": "code",
   "execution_count": 34,
   "id": "e69ac14b-652c-4771-94e3-fc662410a834",
   "metadata": {},
   "outputs": [],
   "source": [
    "add_two_list = [(i + 2) for i in num_list]"
   ]
  },
  {
   "cell_type": "code",
   "execution_count": 35,
   "id": "aab9b4f9-187f-4d93-8516-02b960b38163",
   "metadata": {},
   "outputs": [
    {
     "data": {
      "text/plain": [
       "[3, 4, 5, 6, 7]"
      ]
     },
     "execution_count": 35,
     "metadata": {},
     "output_type": "execute_result"
    }
   ],
   "source": [
    "add_two_list"
   ]
  },
  {
   "cell_type": "code",
   "execution_count": 38,
   "id": "0b1f5a26-86ec-4939-a5bb-5af29b8ee4be",
   "metadata": {},
   "outputs": [],
   "source": [
    "array_2d = [[1, 2, 3], [4, 5, 6], [1, 3, 5], [2, 5, 7]]"
   ]
  },
  {
   "cell_type": "code",
   "execution_count": 39,
   "id": "0320f660-5b99-431a-bb5d-92f1c090b48a",
   "metadata": {},
   "outputs": [
    {
     "data": {
      "text/plain": [
       "6"
      ]
     },
     "execution_count": 39,
     "metadata": {},
     "output_type": "execute_result"
    }
   ],
   "source": [
    "min([sum(row) for row in array_2d])"
   ]
  },
  {
   "cell_type": "code",
   "execution_count": null,
   "id": "fbfd4d2c-da45-414a-b6a5-95a02f9d3311",
   "metadata": {},
   "outputs": [],
   "source": []
  }
 ],
 "metadata": {
  "kernelspec": {
   "display_name": "Python 3 (ipykernel)",
   "language": "python",
   "name": "python3"
  },
  "language_info": {
   "codemirror_mode": {
    "name": "ipython",
    "version": 3
   },
   "file_extension": ".py",
   "mimetype": "text/x-python",
   "name": "python",
   "nbconvert_exporter": "python",
   "pygments_lexer": "ipython3",
   "version": "3.13.3"
  }
 },
 "nbformat": 4,
 "nbformat_minor": 5
}
