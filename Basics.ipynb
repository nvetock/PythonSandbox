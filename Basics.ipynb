{
 "cells": [
  {
   "cell_type": "markdown",
   "id": "5bb864da-d066-4489-99a6-5c93e1026d41",
   "metadata": {},
   "source": [
    "# Jupyter Quick Commands\n",
    "esc :: switches to command mode\\\n",
    "Enter :: switches to edit mode\\\n",
    "\n",
    "\n",
    "## Command Mode\n",
    "m :: set curr cell to markdown\\\n",
    "y :: set curr cell to code\n",
    "\n",
    "## Extras\n",
    "shift + tab (next to function) :: displays docstrings.\\"
   ]
  },
  {
   "cell_type": "code",
   "execution_count": null,
   "id": "e9c6ec2c-30d8-4618-8de4-2587f62794aa",
   "metadata": {},
   "outputs": [],
   "source": []
  },
  {
   "cell_type": "code",
   "execution_count": null,
   "id": "14dcee62-07e4-45a5-a247-03ddf223e4dd",
   "metadata": {},
   "outputs": [],
   "source": []
  },
  {
   "cell_type": "markdown",
   "id": "653cf62f-ee24-4fba-ac33-510d935e52e2",
   "metadata": {},
   "source": [
    "---\n",
    "# Math"
   ]
  },
  {
   "cell_type": "markdown",
   "id": "4ba3fc8a-c66a-43c6-83eb-77f5c25c3de6",
   "metadata": {},
   "source": [
    "### Default Division"
   ]
  },
  {
   "cell_type": "code",
   "execution_count": 2,
   "id": "ca5b2bb8-04ab-495d-87b5-be9ae2645b18",
   "metadata": {},
   "outputs": [
    {
     "data": {
      "text/plain": [
       "0.75"
      ]
     },
     "execution_count": 2,
     "metadata": {},
     "output_type": "execute_result"
    }
   ],
   "source": [
    "3/4"
   ]
  },
  {
   "cell_type": "markdown",
   "id": "52891040-30a4-4d3f-bb45-986c6d9a9276",
   "metadata": {},
   "source": [
    "### Integer Division"
   ]
  },
  {
   "cell_type": "code",
   "execution_count": 4,
   "id": "4b412f54-5b22-41fd-8be8-db05b199b6f0",
   "metadata": {},
   "outputs": [
    {
     "data": {
      "text/plain": [
       "0"
      ]
     },
     "execution_count": 4,
     "metadata": {},
     "output_type": "execute_result"
    }
   ],
   "source": [
    "3//4"
   ]
  },
  {
   "cell_type": "markdown",
   "id": "73eda749-d88e-4300-ab61-30e19a5f4726",
   "metadata": {},
   "source": [
    "### Multiplication"
   ]
  },
  {
   "cell_type": "code",
   "execution_count": 5,
   "id": "53e2f6c4-9fc3-46ad-9a37-4ec71316947e",
   "metadata": {},
   "outputs": [
    {
     "data": {
      "text/plain": [
       "12"
      ]
     },
     "execution_count": 5,
     "metadata": {},
     "output_type": "execute_result"
    }
   ],
   "source": [
    "3*4"
   ]
  },
  {
   "cell_type": "markdown",
   "id": "60f7794f-bdaa-47fe-a55b-3cabb0508057",
   "metadata": {},
   "source": [
    "### Power"
   ]
  },
  {
   "cell_type": "code",
   "execution_count": 7,
   "id": "fde073bb-06d4-459c-ae69-e81a0c2880a7",
   "metadata": {},
   "outputs": [
    {
     "data": {
      "text/plain": [
       "16"
      ]
     },
     "execution_count": 7,
     "metadata": {},
     "output_type": "execute_result"
    }
   ],
   "source": [
    "2**4"
   ]
  },
  {
   "cell_type": "markdown",
   "id": "8ca35d7c-4c9e-4598-b494-dba646f44fc0",
   "metadata": {},
   "source": [
    "### Using the last outputs results\n",
    "This applies to more than math.\n",
    "- Example below takes the most recent output result and adds 2"
   ]
  },
  {
   "cell_type": "code",
   "execution_count": 13,
   "id": "199447ca-4a9f-4ad3-8851-0a3133a4b0dc",
   "metadata": {},
   "outputs": [
    {
     "data": {
      "text/plain": [
       "18"
      ]
     },
     "execution_count": 13,
     "metadata": {},
     "output_type": "execute_result"
    }
   ],
   "source": [
    "_+2"
   ]
  },
  {
   "cell_type": "code",
   "execution_count": null,
   "id": "57295e3f-5757-4b96-8fdd-235b33512484",
   "metadata": {},
   "outputs": [],
   "source": []
  },
  {
   "cell_type": "code",
   "execution_count": null,
   "id": "4e7892bd-56c4-43dc-bcda-44246407ad11",
   "metadata": {},
   "outputs": [],
   "source": []
  },
  {
   "cell_type": "markdown",
   "id": "a145a160-5f90-4add-bf84-45230527d880",
   "metadata": {},
   "source": [
    "---\n",
    "# IO\n",
    "## Output\n",
    "print() accepts argument for end char"
   ]
  },
  {
   "cell_type": "code",
   "execution_count": 3,
   "id": "1f5d9534-1bf1-4a73-a3b0-99f8f915aa57",
   "metadata": {},
   "outputs": [
    {
     "name": "stdout",
     "output_type": "stream",
     "text": [
      "output\n",
      "again\n"
     ]
    }
   ],
   "source": [
    "print(\"output\")\n",
    "print(\"again\")"
   ]
  },
  {
   "cell_type": "code",
   "execution_count": 4,
   "id": "57093e40-8d63-43f6-8540-e8ddca140b6f",
   "metadata": {},
   "outputs": [
    {
     "name": "stdout",
     "output_type": "stream",
     "text": [
      "output again\n"
     ]
    }
   ],
   "source": [
    "print(\"output\", end=' ')\n",
    "print(\"again\")"
   ]
  },
  {
   "cell_type": "markdown",
   "id": "61e74885-3f0f-4728-92d2-964bc88b0023",
   "metadata": {},
   "source": [
    "comma adds space between string literal and variable"
   ]
  },
  {
   "cell_type": "code",
   "execution_count": null,
   "id": "3d8e1166-ce5e-4108-ab83-68fd79effd09",
   "metadata": {},
   "outputs": [],
   "source": []
  },
  {
   "cell_type": "markdown",
   "id": "14e983a3-fe68-4a25-9b0c-14e025386e27",
   "metadata": {},
   "source": [
    "## Input"
   ]
  },
  {
   "cell_type": "code",
   "execution_count": 5,
   "id": "55479b6a-c50c-4eb3-beb4-2d94211d8744",
   "metadata": {},
   "outputs": [
    {
     "name": "stdin",
     "output_type": "stream",
     "text": [
      " 10\n"
     ]
    },
    {
     "name": "stdout",
     "output_type": "stream",
     "text": [
      "10\n"
     ]
    }
   ],
   "source": [
    "new_sal = int(input())\n",
    "print(new_sal)"
   ]
  },
  {
   "cell_type": "code",
   "execution_count": null,
   "id": "020224aa-877d-4fef-b002-1306e75e01ca",
   "metadata": {},
   "outputs": [],
   "source": []
  },
  {
   "cell_type": "markdown",
   "id": "57f5f019-a8a9-4908-829e-b9a3212e6a18",
   "metadata": {},
   "source": [
    "## Files in Python\n",
    "(Jupyter NB only) To create a file use a magic command %%writefile file\\\n",
    "\\\n",
    "Full file path syntax: \"C:\\\\Users\\\\UserName\\\\Folder\\\\file.ext\"\\\n",
    "pwd command can be used."
   ]
  },
  {
   "cell_type": "code",
   "execution_count": null,
   "id": "4b43505f-b238-4f9b-8f9e-2057a6486e6d",
   "metadata": {},
   "outputs": [],
   "source": []
  },
  {
   "cell_type": "code",
   "execution_count": 53,
   "id": "ffd4b7ac-8b82-4965-8c0c-17ccae1e9e3f",
   "metadata": {},
   "outputs": [
    {
     "name": "stdout",
     "output_type": "stream",
     "text": [
      "Overwriting myfile.txt\n"
     ]
    }
   ],
   "source": [
    "%%writefile myfile.txt\n",
    "Hello this is a text file\n",
    "This is the second line\n",
    "This is the third line"
   ]
  },
  {
   "cell_type": "code",
   "execution_count": 39,
   "id": "8bba681c-7840-4f2a-975e-1ae29f41c1d0",
   "metadata": {},
   "outputs": [],
   "source": [
    "myfile = open('myfile.txt')"
   ]
  },
  {
   "cell_type": "code",
   "execution_count": null,
   "id": "1bb72467-2772-418b-991a-46583ec3a7e6",
   "metadata": {},
   "outputs": [],
   "source": []
  },
  {
   "cell_type": "markdown",
   "id": "57ec8b2a-6a9b-4eee-95ca-46978b9407d2",
   "metadata": {},
   "source": [
    "## Methods\n",
    ".read() :: reads full file type and outputs or stores to variable\\\n",
    ".seek(n) :: moves output buffer cursor to *n*\\\n",
    ".readlines() :: outputs a list split by '\\n', though keeps the endline char included per element\\\n",
    ".close() :: close file after finished with it."
   ]
  },
  {
   "cell_type": "code",
   "execution_count": 40,
   "id": "091fdc4b-31ec-40d2-b344-c5f0f40f50d8",
   "metadata": {},
   "outputs": [
    {
     "data": {
      "text/plain": [
       "'Hello this is a text file\\nThis is the second line\\nThis is the third line\\n'"
      ]
     },
     "execution_count": 40,
     "metadata": {},
     "output_type": "execute_result"
    }
   ],
   "source": [
    "myfile.read()"
   ]
  },
  {
   "cell_type": "markdown",
   "id": "e9392254-3564-4f21-a039-19e0bd1b4170",
   "metadata": {},
   "source": [
    "The output buffer needs to be reset in order to read the text file again."
   ]
  },
  {
   "cell_type": "code",
   "execution_count": 41,
   "id": "d1e7e280-2a99-4e2e-8484-ba870342b522",
   "metadata": {},
   "outputs": [
    {
     "data": {
      "text/plain": [
       "''"
      ]
     },
     "execution_count": 41,
     "metadata": {},
     "output_type": "execute_result"
    }
   ],
   "source": [
    "myfile.read()"
   ]
  },
  {
   "cell_type": "code",
   "execution_count": 42,
   "id": "0c1add44-e294-4c8a-8e83-df86db962218",
   "metadata": {},
   "outputs": [
    {
     "data": {
      "text/plain": [
       "0"
      ]
     },
     "execution_count": 42,
     "metadata": {},
     "output_type": "execute_result"
    }
   ],
   "source": [
    "myfile.seek(0)"
   ]
  },
  {
   "cell_type": "code",
   "execution_count": 43,
   "id": "62e0512d-a24c-43dd-a7b8-067f8e6489d1",
   "metadata": {},
   "outputs": [],
   "source": [
    "myfile.close()"
   ]
  },
  {
   "cell_type": "code",
   "execution_count": null,
   "id": "b5458da4-cc38-4487-8106-092e26834d53",
   "metadata": {},
   "outputs": [],
   "source": []
  },
  {
   "cell_type": "markdown",
   "id": "ff410b89-9184-41d4-8699-f97859bf5ce2",
   "metadata": {},
   "source": [
    "Using 'with' allows opening file to close itself."
   ]
  },
  {
   "cell_type": "code",
   "execution_count": 44,
   "id": "91802f19-8a72-4119-88d7-9e617c6d4525",
   "metadata": {},
   "outputs": [],
   "source": [
    "with open('myfile.txt') as my_new_file:\n",
    "    contents = my_new_file.readlines();"
   ]
  },
  {
   "cell_type": "code",
   "execution_count": 45,
   "id": "908928ea-890a-4733-83c1-2b7f51497f42",
   "metadata": {},
   "outputs": [
    {
     "data": {
      "text/plain": [
       "['Hello this is a text file\\n',\n",
       " 'This is the second line\\n',\n",
       " 'This is the third line\\n']"
      ]
     },
     "execution_count": 45,
     "metadata": {},
     "output_type": "execute_result"
    }
   ],
   "source": [
    "contents"
   ]
  },
  {
   "cell_type": "code",
   "execution_count": null,
   "id": "823a6d5d-e2e5-47a1-8c8e-056a7bb2ecd4",
   "metadata": {},
   "outputs": [],
   "source": []
  },
  {
   "cell_type": "markdown",
   "id": "431099c0-86e4-44bf-86f5-06b9337644b8",
   "metadata": {},
   "source": [
    "## Permission Modes\n",
    "mode='r' :: read only\\\n",
    "mode='w' :: write only (overwrites or creates new)\\\n",
    "mode='a' :: append only (adds to files)\\\n",
    "mode='r+' :: reading and writing\\\n",
    "mode='w+' :: writing and reading (overwrites or creates new)\\\n"
   ]
  },
  {
   "cell_type": "code",
   "execution_count": 56,
   "id": "d6e77e09-f32d-4401-b268-9a438327ca3a",
   "metadata": {},
   "outputs": [],
   "source": [
    "with open('myfile.txt',mode='a') as f:\n",
    "    f.write('Writing a new line\\n')"
   ]
  },
  {
   "cell_type": "code",
   "execution_count": 57,
   "id": "3b7c8617-c98a-47cf-a704-440e1a5949aa",
   "metadata": {},
   "outputs": [
    {
     "name": "stdout",
     "output_type": "stream",
     "text": [
      "Hello this is a text file\n",
      "This is the second line\n",
      "This is the third line\n",
      "Writing a new line\n",
      "Writing a new line\n",
      "\n"
     ]
    }
   ],
   "source": [
    "with open('myfile.txt',mode='r') as f:\n",
    "    print(f.read())"
   ]
  },
  {
   "cell_type": "code",
   "execution_count": 58,
   "id": "d9dad794-2035-4183-b3d9-3c17d92df500",
   "metadata": {},
   "outputs": [],
   "source": [
    "with open('newfile.txt',mode='w') as f:\n",
    "    f.write('This file has been created.')"
   ]
  },
  {
   "cell_type": "code",
   "execution_count": 59,
   "id": "f43dc2d9-f9b7-421a-a160-c189e7ae7a15",
   "metadata": {},
   "outputs": [
    {
     "name": "stdout",
     "output_type": "stream",
     "text": [
      "This file has been created.\n"
     ]
    }
   ],
   "source": [
    "with open('newfile.txt',mode='r') as f:\n",
    "    print(f.read())"
   ]
  },
  {
   "cell_type": "code",
   "execution_count": null,
   "id": "310c8fe7-2ad6-4d99-a485-263655a344bc",
   "metadata": {},
   "outputs": [],
   "source": []
  },
  {
   "cell_type": "code",
   "execution_count": null,
   "id": "75110602-f820-4dbd-92e3-056d2b1321b7",
   "metadata": {},
   "outputs": [],
   "source": []
  },
  {
   "cell_type": "markdown",
   "id": "f93c7d84-ef9b-4f8c-8d82-24d887996c6e",
   "metadata": {},
   "source": [
    "---\n",
    "# String Stuff"
   ]
  },
  {
   "cell_type": "code",
   "execution_count": 7,
   "id": "cf18893b-7867-491f-8bf9-af37f1c3d167",
   "metadata": {},
   "outputs": [],
   "source": [
    "mystring = \"Hello World\""
   ]
  },
  {
   "cell_type": "code",
   "execution_count": 8,
   "id": "763f8c0e-ecb3-45c3-8e59-f6b792913c7b",
   "metadata": {},
   "outputs": [
    {
     "data": {
      "text/plain": [
       "'Hello World'"
      ]
     },
     "execution_count": 8,
     "metadata": {},
     "output_type": "execute_result"
    }
   ],
   "source": [
    "mystring"
   ]
  },
  {
   "cell_type": "code",
   "execution_count": 9,
   "id": "9e4d9049-4eb3-4d89-9281-7b8ef9fd3862",
   "metadata": {},
   "outputs": [
    {
     "data": {
      "text/plain": [
       "'H'"
      ]
     },
     "execution_count": 9,
     "metadata": {},
     "output_type": "execute_result"
    }
   ],
   "source": [
    "mystring[0]"
   ]
  },
  {
   "cell_type": "code",
   "execution_count": 10,
   "id": "bbe3c5b3-7047-4b1c-b2f8-e7639bd7b79f",
   "metadata": {},
   "outputs": [
    {
     "data": {
      "text/plain": [
       "'r'"
      ]
     },
     "execution_count": 10,
     "metadata": {},
     "output_type": "execute_result"
    }
   ],
   "source": [
    "mystring[8]"
   ]
  },
  {
   "cell_type": "code",
   "execution_count": 11,
   "id": "cead0c95-f6bc-473e-a21e-14d4ab97d8f6",
   "metadata": {},
   "outputs": [
    {
     "data": {
      "text/plain": [
       "'l'"
      ]
     },
     "execution_count": 11,
     "metadata": {},
     "output_type": "execute_result"
    }
   ],
   "source": [
    "mystring[-2]"
   ]
  },
  {
   "cell_type": "code",
   "execution_count": 6,
   "id": "39e46cff-90e0-4f51-a7aa-c49a6b3b94fa",
   "metadata": {},
   "outputs": [
    {
     "name": "stdout",
     "output_type": "stream",
     "text": [
      "hello world!\n"
     ]
    }
   ],
   "source": [
    "outVar = \"world!\"\n",
    "print(\"hello\", outVar)"
   ]
  },
  {
   "cell_type": "code",
   "execution_count": null,
   "id": "75beaa88-43d2-4a78-b186-5f45a752d25e",
   "metadata": {},
   "outputs": [],
   "source": []
  },
  {
   "cell_type": "markdown",
   "id": "f7c4b20c-4fd7-4dc3-b45d-227e857e0b2b",
   "metadata": {},
   "source": [
    "## Slicing\n",
    "Grabs a subsection of the string\n",
    "stringName\\[start\\:stop:jump]"
   ]
  },
  {
   "cell_type": "code",
   "execution_count": 12,
   "id": "6a807d32-f5ee-4142-b8cb-45982742f767",
   "metadata": {},
   "outputs": [],
   "source": [
    "mystring = 'abcdefghijk'"
   ]
  },
  {
   "cell_type": "markdown",
   "id": "e3b4c269-bb1c-4811-a550-2b4a247c823a",
   "metadata": {},
   "source": [
    "n:m specifies position n through exclusive m\n",
    "- go *up to* but *not including* m"
   ]
  },
  {
   "cell_type": "code",
   "execution_count": 15,
   "id": "a9968bed-cf4e-487d-9c2b-8d868f08c1e8",
   "metadata": {},
   "outputs": [
    {
     "data": {
      "text/plain": [
       "'abc'"
      ]
     },
     "execution_count": 15,
     "metadata": {},
     "output_type": "execute_result"
    }
   ],
   "source": [
    "mystring[0:3]"
   ]
  },
  {
   "cell_type": "code",
   "execution_count": 13,
   "id": "a47b9e5b-ec85-4e43-9b50-ca538ce35df0",
   "metadata": {},
   "outputs": [
    {
     "data": {
      "text/plain": [
       "'cdefghijk'"
      ]
     },
     "execution_count": 13,
     "metadata": {},
     "output_type": "execute_result"
    }
   ],
   "source": [
    "mystring[2:]"
   ]
  },
  {
   "cell_type": "code",
   "execution_count": 14,
   "id": "65b7d696-a317-46ad-897e-0068d2413f6b",
   "metadata": {},
   "outputs": [
    {
     "data": {
      "text/plain": [
       "'abc'"
      ]
     },
     "execution_count": 14,
     "metadata": {},
     "output_type": "execute_result"
    }
   ],
   "source": [
    "mystring[:3]"
   ]
  },
  {
   "cell_type": "code",
   "execution_count": 16,
   "id": "eebd5cc9-96c0-414d-80cb-ec994f3d6760",
   "metadata": {},
   "outputs": [
    {
     "data": {
      "text/plain": [
       "'def'"
      ]
     },
     "execution_count": 16,
     "metadata": {},
     "output_type": "execute_result"
    }
   ],
   "source": [
    "mystring[3:6]"
   ]
  },
  {
   "cell_type": "markdown",
   "id": "09fc23b0-6463-4197-8e32-1a7aff65affb",
   "metadata": {},
   "source": [
    "Grab every other letter"
   ]
  },
  {
   "cell_type": "code",
   "execution_count": 17,
   "id": "a76daf87-23d0-4df8-9c99-64eccd21feca",
   "metadata": {},
   "outputs": [
    {
     "data": {
      "text/plain": [
       "'acegik'"
      ]
     },
     "execution_count": 17,
     "metadata": {},
     "output_type": "execute_result"
    }
   ],
   "source": [
    "mystring[::2]"
   ]
  },
  {
   "cell_type": "raw",
   "id": "4baaa4ee-67de-41a7-ac0a-e53125ec205c",
   "metadata": {},
   "source": [
    "Grab every other letter backwards"
   ]
  },
  {
   "cell_type": "code",
   "execution_count": 18,
   "id": "fd17d5ae-2a59-44d7-89cf-386f2db4b080",
   "metadata": {},
   "outputs": [
    {
     "data": {
      "text/plain": [
       "'kigeca'"
      ]
     },
     "execution_count": 18,
     "metadata": {},
     "output_type": "execute_result"
    }
   ],
   "source": [
    "mystring[::-2]"
   ]
  },
  {
   "cell_type": "markdown",
   "id": "139ffe38-a605-4583-a95e-ace343a51b9f",
   "metadata": {},
   "source": [
    "Reverse a string"
   ]
  },
  {
   "cell_type": "code",
   "execution_count": 19,
   "id": "44a2bf0c-cbdf-4a48-bc57-fcb2736221cb",
   "metadata": {},
   "outputs": [
    {
     "data": {
      "text/plain": [
       "'kjihgfedcba'"
      ]
     },
     "execution_count": 19,
     "metadata": {},
     "output_type": "execute_result"
    }
   ],
   "source": [
    "mystring[::-1]"
   ]
  },
  {
   "cell_type": "markdown",
   "id": "485f1e00-174a-4b90-89f0-6d76720149e9",
   "metadata": {},
   "source": [
    "\\"
   ]
  },
  {
   "cell_type": "markdown",
   "id": "270d97ea-e2bc-462b-b908-684c39a71743",
   "metadata": {},
   "source": [
    "Strings are immutable. Modifications need to create a new string through concatenation or reassigning"
   ]
  },
  {
   "cell_type": "code",
   "execution_count": 20,
   "id": "e0e27f9a-6f21-4935-ad2c-4a3fb39061ed",
   "metadata": {},
   "outputs": [],
   "source": [
    "mystring = 'Sam'\n",
    "# mystring[0] = 'P' #this won't work"
   ]
  },
  {
   "cell_type": "code",
   "execution_count": 21,
   "id": "d088eedb-f7f4-4f75-a033-3df6f7f6bd28",
   "metadata": {},
   "outputs": [
    {
     "data": {
      "text/plain": [
       "'Sam says hi'"
      ]
     },
     "execution_count": 21,
     "metadata": {},
     "output_type": "execute_result"
    }
   ],
   "source": [
    "mystring + ' says hi'"
   ]
  },
  {
   "cell_type": "code",
   "execution_count": 22,
   "id": "0803ec1c-03a3-45e9-992e-d54e7b846f53",
   "metadata": {},
   "outputs": [],
   "source": [
    "mystring += ' says hi'"
   ]
  },
  {
   "cell_type": "code",
   "execution_count": 23,
   "id": "cbb4d0f0-3136-42fe-af6f-a55b58af88d6",
   "metadata": {},
   "outputs": [
    {
     "data": {
      "text/plain": [
       "'Sam says hi'"
      ]
     },
     "execution_count": 23,
     "metadata": {},
     "output_type": "execute_result"
    }
   ],
   "source": [
    "mystring"
   ]
  },
  {
   "cell_type": "code",
   "execution_count": 24,
   "id": "740d8a93-830f-45e2-bdc6-e1b50b94495a",
   "metadata": {},
   "outputs": [],
   "source": [
    "letter = 'Z'"
   ]
  },
  {
   "cell_type": "code",
   "execution_count": 25,
   "id": "5938447c-c669-43c2-807b-61ff27bba299",
   "metadata": {},
   "outputs": [
    {
     "data": {
      "text/plain": [
       "'ZZZZZZZZZZ'"
      ]
     },
     "execution_count": 25,
     "metadata": {},
     "output_type": "execute_result"
    }
   ],
   "source": [
    "letter * 10"
   ]
  },
  {
   "cell_type": "code",
   "execution_count": 27,
   "id": "ac58dd64-4c33-4ba7-9408-34806b7fb15c",
   "metadata": {},
   "outputs": [
    {
     "data": {
      "text/plain": [
       "5"
      ]
     },
     "execution_count": 27,
     "metadata": {},
     "output_type": "execute_result"
    }
   ],
   "source": [
    "2 + 3"
   ]
  },
  {
   "cell_type": "code",
   "execution_count": 28,
   "id": "5a317399-6a1f-4425-bbc0-f9aa866fca0e",
   "metadata": {},
   "outputs": [
    {
     "data": {
      "text/plain": [
       "'23'"
      ]
     },
     "execution_count": 28,
     "metadata": {},
     "output_type": "execute_result"
    }
   ],
   "source": [
    "'2' + '3'"
   ]
  },
  {
   "cell_type": "code",
   "execution_count": 29,
   "id": "2b37d8b6-4237-4ae2-b14b-c3d227dd5e12",
   "metadata": {},
   "outputs": [],
   "source": [
    "x = 'Hello World'"
   ]
  },
  {
   "cell_type": "code",
   "execution_count": 30,
   "id": "0f175e47-e296-48b5-89d2-8e6d73998089",
   "metadata": {},
   "outputs": [
    {
     "data": {
      "text/plain": [
       "'HELLO WORLD'"
      ]
     },
     "execution_count": 30,
     "metadata": {},
     "output_type": "execute_result"
    }
   ],
   "source": [
    "x.upper()"
   ]
  },
  {
   "cell_type": "code",
   "execution_count": 31,
   "id": "137cb321-ec70-4a45-959f-a96caacd8eb3",
   "metadata": {},
   "outputs": [],
   "source": [
    "x = 'This is a string'"
   ]
  },
  {
   "cell_type": "code",
   "execution_count": 32,
   "id": "bd0314ee-b340-4f0f-9cf4-c540cb799f56",
   "metadata": {},
   "outputs": [
    {
     "data": {
      "text/plain": [
       "['This', 'is', 'a', 'string']"
      ]
     },
     "execution_count": 32,
     "metadata": {},
     "output_type": "execute_result"
    }
   ],
   "source": [
    "x.split()"
   ]
  },
  {
   "cell_type": "code",
   "execution_count": 33,
   "id": "79b8c665-08e4-47b5-9815-abb45c26fcfd",
   "metadata": {},
   "outputs": [],
   "source": [
    "y = '5:2:3:1:this:is:delimited:by:colons'"
   ]
  },
  {
   "cell_type": "code",
   "execution_count": 34,
   "id": "3b710fb4-215b-499f-b200-43a021d76964",
   "metadata": {},
   "outputs": [
    {
     "data": {
      "text/plain": [
       "['5', '2', '3', '1', 'this', 'is', 'delimited', 'by', 'colons']"
      ]
     },
     "execution_count": 34,
     "metadata": {},
     "output_type": "execute_result"
    }
   ],
   "source": [
    "y.split(':')"
   ]
  },
  {
   "cell_type": "code",
   "execution_count": null,
   "id": "b291a521-fcf2-4f55-a6eb-e9baacb41051",
   "metadata": {},
   "outputs": [],
   "source": []
  },
  {
   "cell_type": "code",
   "execution_count": null,
   "id": "0e4a6b27-548d-4651-a8ae-5894d3cc4416",
   "metadata": {},
   "outputs": [],
   "source": []
  },
  {
   "cell_type": "markdown",
   "id": "0c65525b-6737-49f5-8d91-41569e8687f9",
   "metadata": {},
   "source": [
    "# Print Formatting\n",
    "\n",
    "Format objects into strings for print statements with the str.format() method. Use within print()\n",
    "'String {} like this {} this.'.format('works', 'and')"
   ]
  },
  {
   "cell_type": "code",
   "execution_count": 1,
   "id": "8dd896e3-297b-4a79-a533-67db8b3b4c52",
   "metadata": {},
   "outputs": [
    {
     "name": "stdout",
     "output_type": "stream",
     "text": [
      "This is the string to add words to.\n"
     ]
    }
   ],
   "source": [
    "print('This is {} string to {} words to.'.format('the', 'add'))"
   ]
  },
  {
   "cell_type": "markdown",
   "id": "22f50c23-a6c7-4d83-afb0-d64590eb793f",
   "metadata": {},
   "source": [
    "Words being formatted can have order specified..."
   ]
  },
  {
   "cell_type": "code",
   "execution_count": 2,
   "id": "239cd28a-e516-4519-8dbe-10072c6bb702",
   "metadata": {},
   "outputs": [
    {
     "name": "stdout",
     "output_type": "stream",
     "text": [
      "The fox quick brown.\n"
     ]
    }
   ],
   "source": [
    "print('The {} {} {}.'.format('fox','quick','brown'))"
   ]
  },
  {
   "cell_type": "code",
   "execution_count": 4,
   "id": "f2fb4170-6d2a-4f5a-83f9-10e855e1fde1",
   "metadata": {},
   "outputs": [
    {
     "name": "stdout",
     "output_type": "stream",
     "text": [
      "The quick brown fox.\n"
     ]
    }
   ],
   "source": [
    "print('The {1} {2} {0}.'.format('fox','quick','brown'))"
   ]
  },
  {
   "cell_type": "markdown",
   "id": "0259e849-6806-4890-b207-ff3a9cb220c9",
   "metadata": {},
   "source": [
    "Keywords can be assigned as well..."
   ]
  },
  {
   "cell_type": "code",
   "execution_count": 30,
   "id": "0a98b1ce-f69d-4a9f-a534-a39f3a401807",
   "metadata": {},
   "outputs": [
    {
     "name": "stdout",
     "output_type": "stream",
     "text": [
      "The fox fox fox.\n"
     ]
    }
   ],
   "source": [
    "print('The {f} {f} {f}.'.format(f='fox',b='brown',q='quick'))"
   ]
  },
  {
   "cell_type": "code",
   "execution_count": null,
   "id": "b1feb690-fd0b-4686-b4f1-fc19db22cd37",
   "metadata": {},
   "outputs": [],
   "source": []
  },
  {
   "cell_type": "markdown",
   "id": "73450600-da73-44cc-be10-9299e1a97ffb",
   "metadata": {},
   "source": [
    "## Float formatting\n",
    "{value\\:width\\:precision}\\\n",
    "width = total width of output area\\\n",
    "precision = num places *after* decimal"
   ]
  },
  {
   "cell_type": "code",
   "execution_count": 8,
   "id": "6d3d6170-b123-495f-a19d-6bc8ad311d9d",
   "metadata": {},
   "outputs": [],
   "source": [
    "result = 100/777"
   ]
  },
  {
   "cell_type": "code",
   "execution_count": 9,
   "id": "28217b6b-d2b5-497e-a49c-a7c6b2ac29f4",
   "metadata": {},
   "outputs": [
    {
     "data": {
      "text/plain": [
       "0.1287001287001287"
      ]
     },
     "execution_count": 9,
     "metadata": {},
     "output_type": "execute_result"
    }
   ],
   "source": [
    "result"
   ]
  },
  {
   "cell_type": "code",
   "execution_count": null,
   "id": "05060b9a-10c6-4ea5-8e78-87cb8832dd42",
   "metadata": {},
   "outputs": [],
   "source": [
    "print(\"The result was {r:1.3f}.\".format(r=result))"
   ]
  },
  {
   "cell_type": "code",
   "execution_count": null,
   "id": "58e31e45-37f6-441f-97ff-0e24c32c77e5",
   "metadata": {},
   "outputs": [],
   "source": []
  },
  {
   "cell_type": "markdown",
   "id": "d42b0570-5be3-40fe-91a5-713833920987",
   "metadata": {},
   "source": [
    "## fstring formatting\n",
    "Allows writing the variable directly inline with the string being output"
   ]
  },
  {
   "cell_type": "code",
   "execution_count": 10,
   "id": "cd289dc8-a2b5-4b83-8253-b6dc8c0c7f34",
   "metadata": {},
   "outputs": [],
   "source": [
    "name = 'John'"
   ]
  },
  {
   "cell_type": "code",
   "execution_count": 11,
   "id": "6f605fbb-8fd2-4b34-8db1-2bdf96514d4e",
   "metadata": {},
   "outputs": [
    {
     "name": "stdout",
     "output_type": "stream",
     "text": [
      "Hello, his name is John\n"
     ]
    }
   ],
   "source": [
    "print(f'Hello, his name is {name}')"
   ]
  },
  {
   "cell_type": "code",
   "execution_count": null,
   "id": "14f693ec-c792-49d2-9897-04d4c95b0838",
   "metadata": {},
   "outputs": [],
   "source": []
  },
  {
   "cell_type": "code",
   "execution_count": null,
   "id": "494d0224-a965-4c41-a41f-0320d55310c3",
   "metadata": {},
   "outputs": [],
   "source": []
  },
  {
   "cell_type": "markdown",
   "id": "68ede1f1-4293-43c2-8e08-2066616ec977",
   "metadata": {},
   "source": [
    "---\n",
    "# Lists"
   ]
  },
  {
   "cell_type": "code",
   "execution_count": 12,
   "id": "5206f17a-3b08-4037-8ff1-d20f81f7d2b2",
   "metadata": {},
   "outputs": [],
   "source": [
    "mylist = ['one', 'two', 'three']"
   ]
  },
  {
   "cell_type": "code",
   "execution_count": 13,
   "id": "0089edf0-4745-41aa-894a-3392e8225fdc",
   "metadata": {},
   "outputs": [
    {
     "data": {
      "text/plain": [
       "['one', 'two', 'three']"
      ]
     },
     "execution_count": 13,
     "metadata": {},
     "output_type": "execute_result"
    }
   ],
   "source": [
    "mylist"
   ]
  },
  {
   "cell_type": "code",
   "execution_count": 14,
   "id": "11aef90c-07b4-4117-9d7a-aa57a9a9e3e6",
   "metadata": {},
   "outputs": [
    {
     "data": {
      "text/plain": [
       "3"
      ]
     },
     "execution_count": 14,
     "metadata": {},
     "output_type": "execute_result"
    }
   ],
   "source": [
    "len(mylist)"
   ]
  },
  {
   "cell_type": "code",
   "execution_count": 15,
   "id": "9b673f66-56d1-400e-8ee0-48b4ad8e6966",
   "metadata": {},
   "outputs": [],
   "source": [
    "yourlist = ['four', 'five', 'six']"
   ]
  },
  {
   "cell_type": "code",
   "execution_count": 16,
   "id": "2d02c3d6-fd6d-43dc-ae3c-215b01df9053",
   "metadata": {},
   "outputs": [
    {
     "data": {
      "text/plain": [
       "['one', 'two', 'three', 'four', 'five', 'six']"
      ]
     },
     "execution_count": 16,
     "metadata": {},
     "output_type": "execute_result"
    }
   ],
   "source": [
    "mylist + yourlist"
   ]
  },
  {
   "cell_type": "code",
   "execution_count": 17,
   "id": "ab786590-01e3-451e-a8d1-e4b2af4e36db",
   "metadata": {},
   "outputs": [],
   "source": [
    "unsorted_list = ['x', 'e', 'h', 's', 'b', 'r']"
   ]
  },
  {
   "cell_type": "code",
   "execution_count": 18,
   "id": "a90e7874-20fe-4801-957a-4a6599ed978a",
   "metadata": {},
   "outputs": [
    {
     "data": {
      "text/plain": [
       "['x', 'e', 'h', 's', 'b', 'r']"
      ]
     },
     "execution_count": 18,
     "metadata": {},
     "output_type": "execute_result"
    }
   ],
   "source": [
    "unsorted_list"
   ]
  },
  {
   "cell_type": "code",
   "execution_count": null,
   "id": "3d8dfa2a-f882-4745-900f-73b3b523538c",
   "metadata": {},
   "outputs": [],
   "source": []
  },
  {
   "cell_type": "code",
   "execution_count": null,
   "id": "598ec316-a637-4855-8f1d-ae04a7cab758",
   "metadata": {},
   "outputs": [],
   "source": []
  },
  {
   "cell_type": "markdown",
   "id": "74e2370c-2cd2-4ec8-b068-dff7b82377d4",
   "metadata": {},
   "source": [
    "## List Methods\n",
    "### Operations (non-destructive)\n",
    ".len()\\\n",
    "list+list2\\\n",
    ".min()\\\n",
    ".max()\\\n",
    ".sum()\\\n",
    ".count(val)\\\n",
    ".index(num)\n",
    "\n",
    "### Methods\n",
    ".append(x)\\\n",
    ".extend(\\[x]) - appends full list\\\n",
    ".insert(i, x) - inserts x *before* position i\\\n",
    ".remove(x) :: pop() :: pop(i) - x = val. i = position\\\n",
    ".sort(x, reverse = Boolean) - asc default\\\n",
    ".sorted(x, reverse = Boolean) - returns *new* list\\\n",
    "\n",
    "### Iterators\n",
    "#### Boolean returns\n",
    "all(list)\\\n",
    "any(list)\n",
    "#### Value returns\n",
    "max(list) :: min(list) :: sum(list)"
   ]
  },
  {
   "cell_type": "code",
   "execution_count": 19,
   "id": "cd25caf3-c025-4b52-9139-2b99cd0ceb35",
   "metadata": {},
   "outputs": [],
   "source": [
    "unsorted_list.sort()"
   ]
  },
  {
   "cell_type": "code",
   "execution_count": 20,
   "id": "5020f42a-f087-4505-87a2-1f5709d247ca",
   "metadata": {},
   "outputs": [
    {
     "data": {
      "text/plain": [
       "['b', 'e', 'h', 'r', 's', 'x']"
      ]
     },
     "execution_count": 20,
     "metadata": {},
     "output_type": "execute_result"
    }
   ],
   "source": [
    "unsorted_list"
   ]
  },
  {
   "cell_type": "code",
   "execution_count": 21,
   "id": "c624bb22-f2b9-4b28-a7d9-907f9b21932d",
   "metadata": {},
   "outputs": [],
   "source": [
    "unsorted_list.reverse()"
   ]
  },
  {
   "cell_type": "code",
   "execution_count": 22,
   "id": "43ef2598-23e7-4ffb-bad3-9238f2f4b603",
   "metadata": {},
   "outputs": [
    {
     "data": {
      "text/plain": [
       "['x', 's', 'r', 'h', 'e', 'b']"
      ]
     },
     "execution_count": 22,
     "metadata": {},
     "output_type": "execute_result"
    }
   ],
   "source": [
    "unsorted_list"
   ]
  },
  {
   "cell_type": "code",
   "execution_count": null,
   "id": "1250458b-4103-4421-b35d-9b181abe7cae",
   "metadata": {},
   "outputs": [],
   "source": []
  },
  {
   "cell_type": "markdown",
   "id": "3d683266-348c-42b2-9659-fbf1571cbc93",
   "metadata": {},
   "source": [
    "## List Comprehension\n",
    "new_list = \\[expression for loop_var_name in iterable]"
   ]
  },
  {
   "cell_type": "code",
   "execution_count": 23,
   "id": "89282549-c319-45e4-ba68-02a7f5c68135",
   "metadata": {},
   "outputs": [],
   "source": [
    "num_list = [1, 2, 3, 4, 5]"
   ]
  },
  {
   "cell_type": "code",
   "execution_count": 31,
   "id": "78ce4b20-5c59-4504-918c-aa71139e532f",
   "metadata": {},
   "outputs": [],
   "source": [
    "add_two = 2"
   ]
  },
  {
   "cell_type": "code",
   "execution_count": 34,
   "id": "e69ac14b-652c-4771-94e3-fc662410a834",
   "metadata": {},
   "outputs": [],
   "source": [
    "add_two_list = [(i + 2) for i in num_list]"
   ]
  },
  {
   "cell_type": "code",
   "execution_count": 35,
   "id": "aab9b4f9-187f-4d93-8516-02b960b38163",
   "metadata": {},
   "outputs": [
    {
     "data": {
      "text/plain": [
       "[3, 4, 5, 6, 7]"
      ]
     },
     "execution_count": 35,
     "metadata": {},
     "output_type": "execute_result"
    }
   ],
   "source": [
    "add_two_list"
   ]
  },
  {
   "cell_type": "code",
   "execution_count": 38,
   "id": "0b1f5a26-86ec-4939-a5bb-5af29b8ee4be",
   "metadata": {},
   "outputs": [],
   "source": [
    "array_2d = [[1, 2, 3], [4, 5, 6], [1, 3, 5], [2, 5, 7]]"
   ]
  },
  {
   "cell_type": "code",
   "execution_count": 39,
   "id": "0320f660-5b99-431a-bb5d-92f1c090b48a",
   "metadata": {},
   "outputs": [
    {
     "data": {
      "text/plain": [
       "6"
      ]
     },
     "execution_count": 39,
     "metadata": {},
     "output_type": "execute_result"
    }
   ],
   "source": [
    "min([sum(row) for row in array_2d])"
   ]
  },
  {
   "cell_type": "code",
   "execution_count": null,
   "id": "8a39cee9-fc0f-45a3-b8fe-50e9e89a310a",
   "metadata": {},
   "outputs": [],
   "source": []
  },
  {
   "cell_type": "code",
   "execution_count": null,
   "id": "09f8a436-e3e4-4033-82c0-5dd9d1f68956",
   "metadata": {},
   "outputs": [],
   "source": []
  },
  {
   "cell_type": "markdown",
   "id": "82f8b6a7-1e6b-4c8d-aa73-a01d25a8686d",
   "metadata": {},
   "source": [
    "---\n",
    "# Dictionary\n",
    "Key-Value pairs.\\\n",
    "Retrieved by key name, cannot sort dictionaries like lists."
   ]
  },
  {
   "cell_type": "code",
   "execution_count": 1,
   "id": "299e4ad7-565f-4e7e-ab7e-66746cce5650",
   "metadata": {},
   "outputs": [],
   "source": [
    "my_dict = {\"key1\": \"value1\", \"key2\": \"value2\"}"
   ]
  },
  {
   "cell_type": "code",
   "execution_count": 2,
   "id": "37c3bf15-ae31-4fb0-9afb-d892b1fd93b6",
   "metadata": {},
   "outputs": [
    {
     "data": {
      "text/plain": [
       "{'key1': 'value1', 'key2': 'value2'}"
      ]
     },
     "execution_count": 2,
     "metadata": {},
     "output_type": "execute_result"
    }
   ],
   "source": [
    "my_dict"
   ]
  },
  {
   "cell_type": "code",
   "execution_count": 3,
   "id": "552b6039-cc1d-4ec4-9593-0be615fc7f72",
   "metadata": {},
   "outputs": [
    {
     "data": {
      "text/plain": [
       "'value1'"
      ]
     },
     "execution_count": 3,
     "metadata": {},
     "output_type": "execute_result"
    }
   ],
   "source": [
    "my_dict['key1']"
   ]
  },
  {
   "cell_type": "code",
   "execution_count": 4,
   "id": "f611a1d0-1be8-4d35-b157-512577b6badb",
   "metadata": {},
   "outputs": [],
   "source": [
    "price_lookup = {'apple': 2.99, 'orange': 1.99, 'pear': 0.89}"
   ]
  },
  {
   "cell_type": "code",
   "execution_count": 5,
   "id": "42f54beb-d04c-4481-8161-ca6ee355390e",
   "metadata": {},
   "outputs": [
    {
     "data": {
      "text/plain": [
       "2.99"
      ]
     },
     "execution_count": 5,
     "metadata": {},
     "output_type": "execute_result"
    }
   ],
   "source": [
    "price_lookup['apple']"
   ]
  },
  {
   "cell_type": "markdown",
   "id": "85338a9e-f015-488d-8346-edd163a80ad2",
   "metadata": {},
   "source": [
    "Dictionaries can hold lists and nested dictionaries."
   ]
  },
  {
   "cell_type": "code",
   "execution_count": 6,
   "id": "dc19f599-5967-4f36-ae68-6f2bd527555b",
   "metadata": {},
   "outputs": [],
   "source": [
    "nested_dict = {\n",
    "    'k1': {\n",
    "        'k1a': 'value1a',\n",
    "        'k2a': 'value2a'\n",
    "    },\n",
    "    'k2': {\n",
    "        'k1b': 'value1b', 'k2b': 'value2b'\n",
    "    }\n",
    "}"
   ]
  },
  {
   "cell_type": "code",
   "execution_count": 9,
   "id": "6ebf761c-3cea-48dc-9b29-aef978e5a00c",
   "metadata": {},
   "outputs": [
    {
     "data": {
      "text/plain": [
       "'VALUE1A'"
      ]
     },
     "execution_count": 9,
     "metadata": {},
     "output_type": "execute_result"
    }
   ],
   "source": [
    "nested_dict['k1']['k1a'].upper()"
   ]
  },
  {
   "cell_type": "markdown",
   "id": "b2345297-eb5f-4c00-80d5-be3566a39dee",
   "metadata": {},
   "source": [
    "---\n",
    "Display operations for dictionaries"
   ]
  },
  {
   "cell_type": "code",
   "execution_count": 10,
   "id": "d85d0bbe-c30b-46b0-8a2a-4f95cd4bb9b1",
   "metadata": {},
   "outputs": [
    {
     "data": {
      "text/plain": [
       "dict_keys(['k1', 'k2'])"
      ]
     },
     "execution_count": 10,
     "metadata": {},
     "output_type": "execute_result"
    }
   ],
   "source": [
    "nested_dict.keys()"
   ]
  },
  {
   "cell_type": "code",
   "execution_count": 11,
   "id": "c0897086-4e0c-41a7-bf36-acb0091bca81",
   "metadata": {},
   "outputs": [
    {
     "data": {
      "text/plain": [
       "dict_values([{'k1a': 'value1a', 'k2a': 'value2a'}, {'k1b': 'value1b', 'k2b': 'value2b'}])"
      ]
     },
     "execution_count": 11,
     "metadata": {},
     "output_type": "execute_result"
    }
   ],
   "source": [
    "nested_dict.values()"
   ]
  },
  {
   "cell_type": "code",
   "execution_count": 12,
   "id": "40a55e91-7175-461a-9e46-e5fd2725e858",
   "metadata": {},
   "outputs": [
    {
     "data": {
      "text/plain": [
       "dict_items([('k1', {'k1a': 'value1a', 'k2a': 'value2a'}), ('k2', {'k1b': 'value1b', 'k2b': 'value2b'})])"
      ]
     },
     "execution_count": 12,
     "metadata": {},
     "output_type": "execute_result"
    }
   ],
   "source": [
    "nested_dict.items()"
   ]
  },
  {
   "cell_type": "code",
   "execution_count": null,
   "id": "0c037df1-040d-49fd-a920-5222f9638fb9",
   "metadata": {},
   "outputs": [],
   "source": []
  },
  {
   "cell_type": "code",
   "execution_count": null,
   "id": "396ee21c-5edd-4af4-bd01-61ccd0a1c511",
   "metadata": {},
   "outputs": [],
   "source": []
  },
  {
   "cell_type": "markdown",
   "id": "a96eb96d-a411-4373-bba6-b3dac986ca3e",
   "metadata": {},
   "source": [
    "---\n",
    "# Tuples\n",
    "Very similar to lists, tuples are immutable. (1, 2, 3)"
   ]
  },
  {
   "cell_type": "code",
   "execution_count": 13,
   "id": "81f54ed7-c0d0-4288-8547-fe8f46db4bca",
   "metadata": {},
   "outputs": [],
   "source": [
    "t = (1,2,3)"
   ]
  },
  {
   "cell_type": "code",
   "execution_count": 14,
   "id": "f1d9135c-c927-4961-81a4-8d915ad9acff",
   "metadata": {},
   "outputs": [],
   "source": [
    "mylist = [1, 2, 3]"
   ]
  },
  {
   "cell_type": "code",
   "execution_count": 15,
   "id": "225a4d59-971c-4b81-84f1-55b2c9a35f48",
   "metadata": {},
   "outputs": [
    {
     "data": {
      "text/plain": [
       "tuple"
      ]
     },
     "execution_count": 15,
     "metadata": {},
     "output_type": "execute_result"
    }
   ],
   "source": [
    "type(t)"
   ]
  },
  {
   "cell_type": "code",
   "execution_count": 16,
   "id": "4c7856e1-e5c7-4291-bb64-365557219dae",
   "metadata": {},
   "outputs": [
    {
     "data": {
      "text/plain": [
       "list"
      ]
     },
     "execution_count": 16,
     "metadata": {},
     "output_type": "execute_result"
    }
   ],
   "source": [
    "type(mylist)"
   ]
  },
  {
   "cell_type": "code",
   "execution_count": 17,
   "id": "9e8f5104-9501-45a0-8daa-d6e12652f9e5",
   "metadata": {},
   "outputs": [],
   "source": [
    "t = ('one', 2)"
   ]
  },
  {
   "cell_type": "code",
   "execution_count": 18,
   "id": "30ece506-4881-4455-a73f-1fab4733816e",
   "metadata": {},
   "outputs": [
    {
     "data": {
      "text/plain": [
       "('one', 2)"
      ]
     },
     "execution_count": 18,
     "metadata": {},
     "output_type": "execute_result"
    }
   ],
   "source": [
    "t"
   ]
  },
  {
   "cell_type": "code",
   "execution_count": 19,
   "id": "f9727151-1c11-45bf-85e0-f25c9f904262",
   "metadata": {},
   "outputs": [
    {
     "data": {
      "text/plain": [
       "2"
      ]
     },
     "execution_count": 19,
     "metadata": {},
     "output_type": "execute_result"
    }
   ],
   "source": [
    "t[-1]"
   ]
  },
  {
   "cell_type": "markdown",
   "id": "a1718e99-08d5-49ce-92a9-67ced5346493",
   "metadata": {},
   "source": [
    "\\\n",
    "Tuples acknowledge items in a similar way to sets. They index at first occurence, and count uniques."
   ]
  },
  {
   "cell_type": "code",
   "execution_count": 20,
   "id": "e8bf12b5-21b3-4a0c-81d2-543fe5cd56f3",
   "metadata": {},
   "outputs": [],
   "source": [
    "t = ('a','a','b')"
   ]
  },
  {
   "cell_type": "code",
   "execution_count": 21,
   "id": "60a4dd0c-04e0-4f76-bfde-785c916c8f5e",
   "metadata": {},
   "outputs": [
    {
     "data": {
      "text/plain": [
       "2"
      ]
     },
     "execution_count": 21,
     "metadata": {},
     "output_type": "execute_result"
    }
   ],
   "source": [
    "t.count('a')"
   ]
  },
  {
   "cell_type": "code",
   "execution_count": 22,
   "id": "e2ee1cd7-584e-414d-8f5b-99f6f6a24e9a",
   "metadata": {},
   "outputs": [
    {
     "data": {
      "text/plain": [
       "0"
      ]
     },
     "execution_count": 22,
     "metadata": {},
     "output_type": "execute_result"
    }
   ],
   "source": [
    "t.index('a')"
   ]
  },
  {
   "cell_type": "markdown",
   "id": "726812df-457e-4059-90e6-554d62526a7a",
   "metadata": {},
   "source": [
    "Tuples have a different usability. They are immutable, and they can be *unpacked*\\\n",
    "Tuples are great for data integrity when moving objects around."
   ]
  },
  {
   "cell_type": "code",
   "execution_count": null,
   "id": "b70dd520-cac4-476b-a8c2-63c76e85363f",
   "metadata": {},
   "outputs": [],
   "source": []
  },
  {
   "cell_type": "markdown",
   "id": "14f90099-5332-4136-95cc-b611e934fb32",
   "metadata": {},
   "source": [
    "Tuples can also be named, creating new simple data types."
   ]
  },
  {
   "cell_type": "code",
   "execution_count": 26,
   "id": "cabd2391-8126-4580-9dd3-09202fff838e",
   "metadata": {},
   "outputs": [],
   "source": [
    "from collections import namedtuple\n",
    "\n",
    "Car = namedtuple('Car',['make','model','price'])"
   ]
  },
  {
   "cell_type": "code",
   "execution_count": 29,
   "id": "6f8be928-e2d6-4aac-b35b-e428d262567d",
   "metadata": {},
   "outputs": [],
   "source": [
    "honda_civic = Car('Honda', 'Civic', 500)"
   ]
  },
  {
   "cell_type": "code",
   "execution_count": null,
   "id": "c8e7196e-a2f8-49f6-920e-fd510d97bfe5",
   "metadata": {},
   "outputs": [],
   "source": []
  },
  {
   "cell_type": "code",
   "execution_count": null,
   "id": "9fd7740e-f826-4174-8352-e6a616a0c2e6",
   "metadata": {},
   "outputs": [],
   "source": []
  },
  {
   "cell_type": "markdown",
   "id": "eb3b262b-8f35-4d0b-a30b-387b473b028f",
   "metadata": {},
   "source": [
    "---\n",
    "# Sets\n",
    "Unordered collections of *unique* elements. Can't hold more than one representative of same object."
   ]
  },
  {
   "cell_type": "code",
   "execution_count": 23,
   "id": "67a882f5-3b51-4678-a2d8-9b9d3326c95a",
   "metadata": {},
   "outputs": [],
   "source": [
    "myset = set()"
   ]
  },
  {
   "cell_type": "code",
   "execution_count": 31,
   "id": "3cf608a6-e0b9-4769-81c6-f09d84c8e596",
   "metadata": {},
   "outputs": [],
   "source": [
    "myset.add(1)"
   ]
  },
  {
   "cell_type": "code",
   "execution_count": 32,
   "id": "35909319-446d-4683-8cc5-34ebf1e3915a",
   "metadata": {},
   "outputs": [],
   "source": [
    "myset.add(2)"
   ]
  },
  {
   "cell_type": "code",
   "execution_count": 33,
   "id": "56829a21-5033-40f6-a7f1-a0cd311b276f",
   "metadata": {},
   "outputs": [
    {
     "data": {
      "text/plain": [
       "{1, 2}"
      ]
     },
     "execution_count": 33,
     "metadata": {},
     "output_type": "execute_result"
    }
   ],
   "source": [
    "myset"
   ]
  },
  {
   "cell_type": "code",
   "execution_count": 34,
   "id": "8fb742d2-0aca-4003-842f-48eafe8bef01",
   "metadata": {},
   "outputs": [],
   "source": [
    "myset.add(1)"
   ]
  },
  {
   "cell_type": "code",
   "execution_count": 35,
   "id": "2929eee8-932f-4021-8bfc-0db02bd03629",
   "metadata": {},
   "outputs": [
    {
     "data": {
      "text/plain": [
       "{1, 2}"
      ]
     },
     "execution_count": 35,
     "metadata": {},
     "output_type": "execute_result"
    }
   ],
   "source": [
    "myset"
   ]
  },
  {
   "cell_type": "code",
   "execution_count": null,
   "id": "bb72dee9-ad01-4d11-bf51-7f1b47a52d7c",
   "metadata": {},
   "outputs": [],
   "source": []
  },
  {
   "cell_type": "code",
   "execution_count": null,
   "id": "22d29416-0dc9-4f21-a425-7d1929208102",
   "metadata": {},
   "outputs": [],
   "source": []
  },
  {
   "cell_type": "markdown",
   "id": "727d331b-f029-4ee0-b0ff-256c0f13d1e8",
   "metadata": {},
   "source": [
    "## Operations for literals\n",
    "len(set)\\\n",
    "set1.update(set2) :: adds elems from set2 into set1\\\n",
    "set.add(val) :: adds val into set\\\n",
    "set.remove(val)\\\n",
    "set.pop() :: removes random elem\\\n",
    "set.clear() :: clears all"
   ]
  },
  {
   "cell_type": "code",
   "execution_count": 36,
   "id": "b94b5148-e2a4-42ed-b866-e602339ddffa",
   "metadata": {},
   "outputs": [],
   "source": [
    "state = set('Mississippi')"
   ]
  },
  {
   "cell_type": "code",
   "execution_count": 37,
   "id": "43f5648c-ab21-41b8-beeb-29cac36ca6c8",
   "metadata": {},
   "outputs": [
    {
     "data": {
      "text/plain": [
       "{'M', 'i', 'p', 's'}"
      ]
     },
     "execution_count": 37,
     "metadata": {},
     "output_type": "execute_result"
    }
   ],
   "source": [
    "state"
   ]
  },
  {
   "cell_type": "code",
   "execution_count": null,
   "id": "2658a3df-5b44-4be2-a279-82a2c9c3312e",
   "metadata": {},
   "outputs": [],
   "source": []
  },
  {
   "cell_type": "code",
   "execution_count": null,
   "id": "a2ed74c7-020e-4aeb-b93f-a0f0e23c6494",
   "metadata": {},
   "outputs": [],
   "source": []
  },
  {
   "cell_type": "markdown",
   "id": "87a90360-7e38-4417-935d-65ece713b8d0",
   "metadata": {},
   "source": []
  },
  {
   "cell_type": "markdown",
   "id": "e865d0a2-1b54-4d5c-b8b3-8af25395f871",
   "metadata": {},
   "source": [
    "---\n",
    "# Control Flow"
   ]
  },
  {
   "cell_type": "markdown",
   "id": "a725410d-8971-44e5-8b93-c07fc557c8fb",
   "metadata": {},
   "source": [
    "## If Else\n",
    "if \\<conditional> | elif \\<conditional> | else:"
   ]
  },
  {
   "cell_type": "code",
   "execution_count": 6,
   "id": "fbfc13fa-e8cc-4a33-b120-5c9480b2ff4a",
   "metadata": {},
   "outputs": [
    {
     "name": "stdin",
     "output_type": "stream",
     "text": [
      " 4\n"
     ]
    },
    {
     "name": "stdout",
     "output_type": "stream",
     "text": [
      "4 is even\n"
     ]
    }
   ],
   "source": [
    "x = int(input())\n",
    "\n",
    "if (x % 2):\n",
    "    print('{} is odd'.format(x))\n",
    "else:\n",
    "    print('{} is even'.format(x))"
   ]
  },
  {
   "cell_type": "code",
   "execution_count": null,
   "id": "7e1699b2-b2be-4c1d-9e9f-51fbf3996fc5",
   "metadata": {},
   "outputs": [],
   "source": []
  },
  {
   "cell_type": "markdown",
   "id": "eece4f74-d643-4c57-b2ed-1400711915ac",
   "metadata": {},
   "source": [
    "## For Loop\n",
    "for item_name in my_iterable:\\\n",
    "    do something to item_name"
   ]
  },
  {
   "cell_type": "code",
   "execution_count": 7,
   "id": "b5bbe9f9-bfac-4561-b576-07b4bc5e6da5",
   "metadata": {},
   "outputs": [
    {
     "name": "stdout",
     "output_type": "stream",
     "text": [
      "w\n",
      "o\n",
      "r\n",
      "d\n",
      "s\n"
     ]
    }
   ],
   "source": [
    "for c in 'words':\n",
    "    print(c)"
   ]
  },
  {
   "cell_type": "markdown",
   "id": "7e1a7e9e-595e-4838-a681-6e1f4b02f10f",
   "metadata": {},
   "source": [
    "### Tuple Unpacking\n",
    "Used when iterating through a sequence that contains tuples.\\\n",
    "\\\n",
    "Tuples allow duplicating the structure of the items allowing two variables to be utilized within the loop from 'one' item_element\n",
    "- This "
   ]
  },
  {
   "cell_type": "code",
   "execution_count": 8,
   "id": "953983c8-82ee-4efc-9a6d-866962899b75",
   "metadata": {},
   "outputs": [],
   "source": [
    "my_tuple_list = [(1,2), (3,4), (5,6), (7,8), (9,10)]"
   ]
  },
  {
   "cell_type": "code",
   "execution_count": 9,
   "id": "43e0c6f1-0001-4a6c-8763-d02ef785c302",
   "metadata": {},
   "outputs": [
    {
     "data": {
      "text/plain": [
       "5"
      ]
     },
     "execution_count": 9,
     "metadata": {},
     "output_type": "execute_result"
    }
   ],
   "source": [
    "len(my_tuple_list)"
   ]
  },
  {
   "cell_type": "code",
   "execution_count": 10,
   "id": "be37633c-0063-462d-bc31-feb292aaafbf",
   "metadata": {},
   "outputs": [
    {
     "name": "stdout",
     "output_type": "stream",
     "text": [
      "(1, 2)\n",
      "(3, 4)\n",
      "(5, 6)\n",
      "(7, 8)\n",
      "(9, 10)\n"
     ]
    }
   ],
   "source": [
    "for item in my_tuple_list:\n",
    "    print(item)"
   ]
  },
  {
   "cell_type": "code",
   "execution_count": null,
   "id": "5f9d2861-8523-4f20-85d2-b43c9db01936",
   "metadata": {},
   "outputs": [],
   "source": []
  },
  {
   "cell_type": "code",
   "execution_count": 11,
   "id": "3df99a66-1963-4e76-ae80-57ce530bf696",
   "metadata": {},
   "outputs": [
    {
     "name": "stdout",
     "output_type": "stream",
     "text": [
      "1\n",
      "2\n",
      "3\n",
      "4\n",
      "5\n",
      "6\n",
      "7\n",
      "8\n",
      "9\n",
      "10\n"
     ]
    }
   ],
   "source": [
    "for (a,b) in my_tuple_list:\n",
    "    print(a)\n",
    "    print(b)"
   ]
  },
  {
   "cell_type": "markdown",
   "id": "9f21c586-4214-4722-a2ae-016f962aeb2b",
   "metadata": {},
   "source": [
    "Parenthesis are also not needed."
   ]
  },
  {
   "cell_type": "code",
   "execution_count": 12,
   "id": "f86beadd-c858-4720-9561-d9382d62f763",
   "metadata": {},
   "outputs": [
    {
     "name": "stdout",
     "output_type": "stream",
     "text": [
      "1\n",
      "2\n",
      "3\n",
      "4\n",
      "5\n",
      "6\n",
      "7\n",
      "8\n",
      "9\n",
      "10\n"
     ]
    }
   ],
   "source": [
    "for a,b in my_tuple_list:\n",
    "    print(a)\n",
    "    print(b)"
   ]
  },
  {
   "cell_type": "markdown",
   "id": "04fd740f-0064-4470-970d-3ef560229442",
   "metadata": {},
   "source": []
  },
  {
   "cell_type": "markdown",
   "id": "4dbe23ac-867e-493a-891e-575cb9c96ca1",
   "metadata": {},
   "source": [
    "enumerate() converts a list into a list of pairs where each element is joined with an index\\\n",
    "allows indexing one part of a tuple."
   ]
  },
  {
   "cell_type": "code",
   "execution_count": 40,
   "id": "70f03ab9-ee2e-4af2-b5bc-7a679ce26e68",
   "metadata": {},
   "outputs": [
    {
     "name": "stdout",
     "output_type": "stream",
     "text": [
      "list of tuples:  [(0, 'a'), (1, 'b'), (2, 'c')] \n",
      "\n",
      "tup holds: 0 (2, 'c')\n",
      "item in tup: 0 a\n",
      "\n",
      "tup holds: 1 (2, 'c')\n",
      "item in tup: 1 b\n",
      "\n",
      "tup holds: 2 (2, 'c')\n",
      "item in tup: 2 c\n",
      "\n"
     ]
    }
   ],
   "source": [
    "tuple_list = list(enumerate('abc'))\n",
    "\n",
    "print(\"list of tuples: \", tuple_list,'\\n')\n",
    "\n",
    "for num, tup in enumerate(tuple_list):\n",
    "    print(\"tup holds:\", num, letter)\n",
    "    print(\"item in tup:\", num, tup[1])\n",
    "    print()"
   ]
  },
  {
   "cell_type": "code",
   "execution_count": null,
   "id": "460e2fd2-449c-45d8-b908-6d7fe60f012d",
   "metadata": {},
   "outputs": [],
   "source": []
  },
  {
   "cell_type": "code",
   "execution_count": null,
   "id": "9e653d5b-a6cf-452a-b910-d7a7a8d80de6",
   "metadata": {},
   "outputs": [],
   "source": []
  },
  {
   "cell_type": "markdown",
   "id": "15308d5d-6e8e-484c-9f5a-4307d91f7a09",
   "metadata": {},
   "source": [
    "# Operators"
   ]
  },
  {
   "cell_type": "code",
   "execution_count": 3,
   "id": "548c50f3-a537-4c78-a039-9a208579db30",
   "metadata": {},
   "outputs": [
    {
     "data": {
      "text/plain": [
       "[0, 2, 4, 6, 8, 10]"
      ]
     },
     "execution_count": 3,
     "metadata": {},
     "output_type": "execute_result"
    }
   ],
   "source": [
    "# Generator\n",
    "# Creates list without storing in mem\n",
    "list(range(0,11,2))"
   ]
  },
  {
   "cell_type": "code",
   "execution_count": null,
   "id": "999c3d7e-6ca9-4ae2-8895-7131f835cd94",
   "metadata": {},
   "outputs": [],
   "source": []
  },
  {
   "cell_type": "code",
   "execution_count": 7,
   "id": "5fefcbdf-62cf-4496-a8ad-cc72fdc15382",
   "metadata": {},
   "outputs": [
    {
     "name": "stdout",
     "output_type": "stream",
     "text": [
      "At index 0 the letter is a.\n",
      "At index 1 the letter is b.\n",
      "At index 2 the letter is c.\n",
      "At index 3 the letter is d.\n",
      "At index 4 the letter is e.\n",
      "\n",
      "At index 0 the letter is R.\n",
      "At index 1 the letter is a.\n",
      "At index 2 the letter is n.\n",
      "At index 3 the letter is d.\n",
      "At index 4 the letter is o.\n",
      "At index 5 the letter is m.\n"
     ]
    }
   ],
   "source": [
    "# enumerate\n",
    "for index, letter in enumerate('abcde'):\n",
    "    print('At index {} the letter is {}.'.format(index, letter))\n",
    "\n",
    "print()\n",
    "\n",
    "word = 'Random'\n",
    "for index, letter in enumerate(word):\n",
    "    print('At index {} the letter is {}.'.format(index, letter))\n",
    "    "
   ]
  },
  {
   "cell_type": "code",
   "execution_count": null,
   "id": "4ce99907-e193-4e21-9741-10f2321df66e",
   "metadata": {},
   "outputs": [],
   "source": []
  },
  {
   "cell_type": "code",
   "execution_count": 9,
   "id": "0004e12a-b3a4-4161-a746-0007806013ad",
   "metadata": {},
   "outputs": [
    {
     "name": "stdout",
     "output_type": "stream",
     "text": [
      "(1, 'a')\n",
      "(2, 'b')\n",
      "(3, 'c')\n"
     ]
    }
   ],
   "source": [
    "# zip() function creates tuples with two lists\n",
    "# zips only create a tuple the length of the shortest list input\n",
    "\n",
    "mylist1 = [1,2,3]\n",
    "mylist2 = ['a', 'b', 'c']\n",
    "\n",
    "for item in zip(mylist1, mylist2):\n",
    "    print(item)"
   ]
  },
  {
   "cell_type": "code",
   "execution_count": null,
   "id": "06705db3-32c1-4183-b781-a54295412999",
   "metadata": {},
   "outputs": [],
   "source": []
  },
  {
   "cell_type": "code",
   "execution_count": 11,
   "id": "a47a3de8-669d-464f-86b1-1ba8b3c54d76",
   "metadata": {},
   "outputs": [
    {
     "data": {
      "text/plain": [
       "False"
      ]
     },
     "execution_count": 11,
     "metadata": {},
     "output_type": "execute_result"
    }
   ],
   "source": [
    "# in\n",
    "\n",
    "2 in ['x', 'y', 'z']"
   ]
  },
  {
   "cell_type": "code",
   "execution_count": 14,
   "id": "1a929567-5d96-4a0c-8610-3938e4b18597",
   "metadata": {},
   "outputs": [
    {
     "data": {
      "text/plain": [
       "True"
      ]
     },
     "execution_count": 14,
     "metadata": {},
     "output_type": "execute_result"
    }
   ],
   "source": [
    "'y' in ['x', 'y', 'z']\n"
   ]
  },
  {
   "cell_type": "code",
   "execution_count": null,
   "id": "09e83d9e-8a7c-4f08-92b2-5166dcd979c7",
   "metadata": {},
   "outputs": [],
   "source": []
  },
  {
   "cell_type": "code",
   "execution_count": null,
   "id": "0658172a-a4e4-449b-95f1-eb05e0d4dabd",
   "metadata": {},
   "outputs": [],
   "source": []
  },
  {
   "cell_type": "markdown",
   "id": "5cbcd4bc-aaca-43e6-ae46-839fbb19b517",
   "metadata": {},
   "source": [
    "---\n",
    "# Functions"
   ]
  },
  {
   "cell_type": "code",
   "execution_count": null,
   "id": "362e6b59-2c62-4729-baeb-eb58d1edfc06",
   "metadata": {},
   "outputs": [],
   "source": []
  }
 ],
 "metadata": {
  "kernelspec": {
   "display_name": "Python 3 (ipykernel)",
   "language": "python",
   "name": "python3"
  },
  "language_info": {
   "codemirror_mode": {
    "name": "ipython",
    "version": 3
   },
   "file_extension": ".py",
   "mimetype": "text/x-python",
   "name": "python",
   "nbconvert_exporter": "python",
   "pygments_lexer": "ipython3",
   "version": "3.13.3"
  }
 },
 "nbformat": 4,
 "nbformat_minor": 5
}
