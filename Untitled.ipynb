{
 "cells": [
  {
   "cell_type": "markdown",
   "id": "5bb864da-d066-4489-99a6-5c93e1026d41",
   "metadata": {},
   "source": [
    "# Jupyter Quick Commands\n",
    "esc :: switches to command mode\n",
    "Enter :: switches to edit mode\n",
    "\n",
    "## Command Mode\n",
    "m :: set curr cell to markdown\n",
    "y :: set curr cell to code\n"
   ]
  },
  {
   "cell_type": "markdown",
   "id": "653cf62f-ee24-4fba-ac33-510d935e52e2",
   "metadata": {},
   "source": [
    "# Math"
   ]
  },
  {
   "cell_type": "markdown",
   "id": "4ba3fc8a-c66a-43c6-83eb-77f5c25c3de6",
   "metadata": {},
   "source": [
    "### Default Division"
   ]
  },
  {
   "cell_type": "code",
   "execution_count": 2,
   "id": "ca5b2bb8-04ab-495d-87b5-be9ae2645b18",
   "metadata": {},
   "outputs": [
    {
     "data": {
      "text/plain": [
       "0.75"
      ]
     },
     "execution_count": 2,
     "metadata": {},
     "output_type": "execute_result"
    }
   ],
   "source": [
    "3/4"
   ]
  },
  {
   "cell_type": "markdown",
   "id": "52891040-30a4-4d3f-bb45-986c6d9a9276",
   "metadata": {},
   "source": [
    "### Integer Division"
   ]
  },
  {
   "cell_type": "code",
   "execution_count": 4,
   "id": "4b412f54-5b22-41fd-8be8-db05b199b6f0",
   "metadata": {},
   "outputs": [
    {
     "data": {
      "text/plain": [
       "0"
      ]
     },
     "execution_count": 4,
     "metadata": {},
     "output_type": "execute_result"
    }
   ],
   "source": [
    "3//4"
   ]
  },
  {
   "cell_type": "markdown",
   "id": "73eda749-d88e-4300-ab61-30e19a5f4726",
   "metadata": {},
   "source": [
    "### Multiplication"
   ]
  },
  {
   "cell_type": "code",
   "execution_count": 5,
   "id": "53e2f6c4-9fc3-46ad-9a37-4ec71316947e",
   "metadata": {},
   "outputs": [
    {
     "data": {
      "text/plain": [
       "12"
      ]
     },
     "execution_count": 5,
     "metadata": {},
     "output_type": "execute_result"
    }
   ],
   "source": [
    "3*4"
   ]
  },
  {
   "cell_type": "markdown",
   "id": "60f7794f-bdaa-47fe-a55b-3cabb0508057",
   "metadata": {},
   "source": [
    "### Power"
   ]
  },
  {
   "cell_type": "code",
   "execution_count": 7,
   "id": "fde073bb-06d4-459c-ae69-e81a0c2880a7",
   "metadata": {},
   "outputs": [
    {
     "data": {
      "text/plain": [
       "16"
      ]
     },
     "execution_count": 7,
     "metadata": {},
     "output_type": "execute_result"
    }
   ],
   "source": [
    "2**4"
   ]
  },
  {
   "cell_type": "markdown",
   "id": "8ca35d7c-4c9e-4598-b494-dba646f44fc0",
   "metadata": {},
   "source": [
    "### Using the last outputs results\n",
    "This applies to more than math.\n",
    "- Example below takes the most recent output result and adds 2"
   ]
  },
  {
   "cell_type": "code",
   "execution_count": 13,
   "id": "199447ca-4a9f-4ad3-8851-0a3133a4b0dc",
   "metadata": {},
   "outputs": [
    {
     "data": {
      "text/plain": [
       "18"
      ]
     },
     "execution_count": 13,
     "metadata": {},
     "output_type": "execute_result"
    }
   ],
   "source": [
    "_+2"
   ]
  },
  {
   "cell_type": "code",
   "execution_count": null,
   "id": "22363f9e-f27d-4048-a835-4eb52ed38dff",
   "metadata": {},
   "outputs": [],
   "source": []
  }
 ],
 "metadata": {
  "kernelspec": {
   "display_name": "Python 3 (ipykernel)",
   "language": "python",
   "name": "python3"
  },
  "language_info": {
   "codemirror_mode": {
    "name": "ipython",
    "version": 3
   },
   "file_extension": ".py",
   "mimetype": "text/x-python",
   "name": "python",
   "nbconvert_exporter": "python",
   "pygments_lexer": "ipython3",
   "version": "3.13.3"
  }
 },
 "nbformat": 4,
 "nbformat_minor": 5
}
