{
 "cells": [
  {
   "cell_type": "markdown",
   "id": "5bb864da-d066-4489-99a6-5c93e1026d41",
   "metadata": {},
   "source": [
    "# Jupyter Quick Commands\n",
    "esc :: switches to command mode\n",
    "Enter :: switches to edit mode\n",
    "\n",
    "## Command Mode\n",
    "m :: set curr cell to markdown\n",
    "y :: set curr cell to code\n"
   ]
  },
  {
   "cell_type": "markdown",
   "id": "653cf62f-ee24-4fba-ac33-510d935e52e2",
   "metadata": {},
   "source": [
    "# Math"
   ]
  },
  {
   "cell_type": "markdown",
   "id": "4ba3fc8a-c66a-43c6-83eb-77f5c25c3de6",
   "metadata": {},
   "source": [
    "### Default Division"
   ]
  },
  {
   "cell_type": "code",
   "execution_count": 2,
   "id": "ca5b2bb8-04ab-495d-87b5-be9ae2645b18",
   "metadata": {},
   "outputs": [
    {
     "data": {
      "text/plain": [
       "0.75"
      ]
     },
     "execution_count": 2,
     "metadata": {},
     "output_type": "execute_result"
    }
   ],
   "source": [
    "3/4"
   ]
  },
  {
   "cell_type": "markdown",
   "id": "52891040-30a4-4d3f-bb45-986c6d9a9276",
   "metadata": {},
   "source": [
    "### Integer Division"
   ]
  },
  {
   "cell_type": "code",
   "execution_count": 4,
   "id": "4b412f54-5b22-41fd-8be8-db05b199b6f0",
   "metadata": {},
   "outputs": [
    {
     "data": {
      "text/plain": [
       "0"
      ]
     },
     "execution_count": 4,
     "metadata": {},
     "output_type": "execute_result"
    }
   ],
   "source": [
    "3//4"
   ]
  },
  {
   "cell_type": "markdown",
   "id": "73eda749-d88e-4300-ab61-30e19a5f4726",
   "metadata": {},
   "source": [
    "### Multiplication"
   ]
  },
  {
   "cell_type": "code",
   "execution_count": 5,
   "id": "53e2f6c4-9fc3-46ad-9a37-4ec71316947e",
   "metadata": {},
   "outputs": [
    {
     "data": {
      "text/plain": [
       "12"
      ]
     },
     "execution_count": 5,
     "metadata": {},
     "output_type": "execute_result"
    }
   ],
   "source": [
    "3*4"
   ]
  },
  {
   "cell_type": "markdown",
   "id": "60f7794f-bdaa-47fe-a55b-3cabb0508057",
   "metadata": {},
   "source": [
    "### Power"
   ]
  },
  {
   "cell_type": "code",
   "execution_count": 7,
   "id": "fde073bb-06d4-459c-ae69-e81a0c2880a7",
   "metadata": {},
   "outputs": [
    {
     "data": {
      "text/plain": [
       "16"
      ]
     },
     "execution_count": 7,
     "metadata": {},
     "output_type": "execute_result"
    }
   ],
   "source": [
    "2**4"
   ]
  },
  {
   "cell_type": "markdown",
   "id": "8ca35d7c-4c9e-4598-b494-dba646f44fc0",
   "metadata": {},
   "source": [
    "### Using the last outputs results\n",
    "This applies to more than math.\n",
    "- Example below takes the most recent output result and adds 2"
   ]
  },
  {
   "cell_type": "code",
   "execution_count": 13,
   "id": "199447ca-4a9f-4ad3-8851-0a3133a4b0dc",
   "metadata": {},
   "outputs": [
    {
     "data": {
      "text/plain": [
       "18"
      ]
     },
     "execution_count": 13,
     "metadata": {},
     "output_type": "execute_result"
    }
   ],
   "source": [
    "_+2"
   ]
  },
  {
   "cell_type": "markdown",
   "id": "a145a160-5f90-4add-bf84-45230527d880",
   "metadata": {},
   "source": [
    "# IO\n",
    "## Output\n",
    "print() accepts argument for end char"
   ]
  },
  {
   "cell_type": "code",
   "execution_count": 3,
   "id": "1f5d9534-1bf1-4a73-a3b0-99f8f915aa57",
   "metadata": {},
   "outputs": [
    {
     "name": "stdout",
     "output_type": "stream",
     "text": [
      "output\n",
      "again\n"
     ]
    }
   ],
   "source": [
    "print(\"output\")\n",
    "print(\"again\")"
   ]
  },
  {
   "cell_type": "code",
   "execution_count": 4,
   "id": "57093e40-8d63-43f6-8540-e8ddca140b6f",
   "metadata": {},
   "outputs": [
    {
     "name": "stdout",
     "output_type": "stream",
     "text": [
      "output again\n"
     ]
    }
   ],
   "source": [
    "print(\"output\", end=' ')\n",
    "print(\"again\")"
   ]
  },
  {
   "cell_type": "markdown",
   "id": "61e74885-3f0f-4728-92d2-964bc88b0023",
   "metadata": {},
   "source": [
    "comma adds space between string literal and variable"
   ]
  },
  {
   "cell_type": "code",
   "execution_count": 6,
   "id": "39e46cff-90e0-4f51-a7aa-c49a6b3b94fa",
   "metadata": {},
   "outputs": [
    {
     "name": "stdout",
     "output_type": "stream",
     "text": [
      "hello world!\n"
     ]
    }
   ],
   "source": [
    "outVar = \"world!\"\n",
    "print(\"hello\", outVar)"
   ]
  },
  {
   "cell_type": "markdown",
   "id": "14e983a3-fe68-4a25-9b0c-14e025386e27",
   "metadata": {},
   "source": [
    "## Input"
   ]
  },
  {
   "cell_type": "code",
   "execution_count": 5,
   "id": "55479b6a-c50c-4eb3-beb4-2d94211d8744",
   "metadata": {},
   "outputs": [
    {
     "name": "stdin",
     "output_type": "stream",
     "text": [
      " 10\n"
     ]
    },
    {
     "name": "stdout",
     "output_type": "stream",
     "text": [
      "10\n"
     ]
    }
   ],
   "source": [
    "new_sal = int(input())\n",
    "print(new_sal)"
   ]
  },
  {
   "cell_type": "code",
   "execution_count": null,
   "id": "f44dc0ee-b3ae-4b89-b41a-acc271dd031c",
   "metadata": {},
   "outputs": [],
   "source": []
  },
  {
   "cell_type": "markdown",
   "id": "f93c7d84-ef9b-4f8c-8d82-24d887996c6e",
   "metadata": {},
   "source": [
    "# String Stuff"
   ]
  },
  {
   "cell_type": "code",
   "execution_count": 7,
   "id": "cf18893b-7867-491f-8bf9-af37f1c3d167",
   "metadata": {},
   "outputs": [],
   "source": [
    "mystring = \"Hello World\""
   ]
  },
  {
   "cell_type": "code",
   "execution_count": 8,
   "id": "763f8c0e-ecb3-45c3-8e59-f6b792913c7b",
   "metadata": {},
   "outputs": [
    {
     "data": {
      "text/plain": [
       "'Hello World'"
      ]
     },
     "execution_count": 8,
     "metadata": {},
     "output_type": "execute_result"
    }
   ],
   "source": [
    "mystring"
   ]
  },
  {
   "cell_type": "code",
   "execution_count": 9,
   "id": "9e4d9049-4eb3-4d89-9281-7b8ef9fd3862",
   "metadata": {},
   "outputs": [
    {
     "data": {
      "text/plain": [
       "'H'"
      ]
     },
     "execution_count": 9,
     "metadata": {},
     "output_type": "execute_result"
    }
   ],
   "source": [
    "mystring[0]"
   ]
  },
  {
   "cell_type": "code",
   "execution_count": 10,
   "id": "bbe3c5b3-7047-4b1c-b2f8-e7639bd7b79f",
   "metadata": {},
   "outputs": [
    {
     "data": {
      "text/plain": [
       "'r'"
      ]
     },
     "execution_count": 10,
     "metadata": {},
     "output_type": "execute_result"
    }
   ],
   "source": [
    "mystring[8]"
   ]
  },
  {
   "cell_type": "code",
   "execution_count": 11,
   "id": "cead0c95-f6bc-473e-a21e-14d4ab97d8f6",
   "metadata": {},
   "outputs": [
    {
     "data": {
      "text/plain": [
       "'l'"
      ]
     },
     "execution_count": 11,
     "metadata": {},
     "output_type": "execute_result"
    }
   ],
   "source": [
    "mystring[-2]"
   ]
  },
  {
   "cell_type": "markdown",
   "id": "f7c4b20c-4fd7-4dc3-b45d-227e857e0b2b",
   "metadata": {},
   "source": [
    "## Slicing\n",
    "Grabs a subsection of the string\n",
    "stringName\\[start\\:stop:jump]"
   ]
  },
  {
   "cell_type": "code",
   "execution_count": 12,
   "id": "6a807d32-f5ee-4142-b8cb-45982742f767",
   "metadata": {},
   "outputs": [],
   "source": [
    "mystring = 'abcdefghijk'"
   ]
  },
  {
   "cell_type": "markdown",
   "id": "e3b4c269-bb1c-4811-a550-2b4a247c823a",
   "metadata": {},
   "source": [
    "n:m specifies position n through exclusive m\n",
    "- go *up to* but *not including* m"
   ]
  },
  {
   "cell_type": "code",
   "execution_count": 15,
   "id": "a9968bed-cf4e-487d-9c2b-8d868f08c1e8",
   "metadata": {},
   "outputs": [
    {
     "data": {
      "text/plain": [
       "'abc'"
      ]
     },
     "execution_count": 15,
     "metadata": {},
     "output_type": "execute_result"
    }
   ],
   "source": [
    "mystring[0:3]"
   ]
  },
  {
   "cell_type": "code",
   "execution_count": 13,
   "id": "a47b9e5b-ec85-4e43-9b50-ca538ce35df0",
   "metadata": {},
   "outputs": [
    {
     "data": {
      "text/plain": [
       "'cdefghijk'"
      ]
     },
     "execution_count": 13,
     "metadata": {},
     "output_type": "execute_result"
    }
   ],
   "source": [
    "mystring[2:]"
   ]
  },
  {
   "cell_type": "code",
   "execution_count": 14,
   "id": "65b7d696-a317-46ad-897e-0068d2413f6b",
   "metadata": {},
   "outputs": [
    {
     "data": {
      "text/plain": [
       "'abc'"
      ]
     },
     "execution_count": 14,
     "metadata": {},
     "output_type": "execute_result"
    }
   ],
   "source": [
    "mystring[:3]"
   ]
  },
  {
   "cell_type": "code",
   "execution_count": 16,
   "id": "eebd5cc9-96c0-414d-80cb-ec994f3d6760",
   "metadata": {},
   "outputs": [
    {
     "data": {
      "text/plain": [
       "'def'"
      ]
     },
     "execution_count": 16,
     "metadata": {},
     "output_type": "execute_result"
    }
   ],
   "source": [
    "mystring[3:6]"
   ]
  },
  {
   "cell_type": "markdown",
   "id": "09fc23b0-6463-4197-8e32-1a7aff65affb",
   "metadata": {},
   "source": [
    "Grab every other letter"
   ]
  },
  {
   "cell_type": "code",
   "execution_count": 17,
   "id": "a76daf87-23d0-4df8-9c99-64eccd21feca",
   "metadata": {},
   "outputs": [
    {
     "data": {
      "text/plain": [
       "'acegik'"
      ]
     },
     "execution_count": 17,
     "metadata": {},
     "output_type": "execute_result"
    }
   ],
   "source": [
    "mystring[::2]"
   ]
  },
  {
   "cell_type": "raw",
   "id": "4baaa4ee-67de-41a7-ac0a-e53125ec205c",
   "metadata": {},
   "source": [
    "Grab every other letter backwards"
   ]
  },
  {
   "cell_type": "code",
   "execution_count": 18,
   "id": "fd17d5ae-2a59-44d7-89cf-386f2db4b080",
   "metadata": {},
   "outputs": [
    {
     "data": {
      "text/plain": [
       "'kigeca'"
      ]
     },
     "execution_count": 18,
     "metadata": {},
     "output_type": "execute_result"
    }
   ],
   "source": [
    "mystring[::-2]"
   ]
  },
  {
   "cell_type": "markdown",
   "id": "139ffe38-a605-4583-a95e-ace343a51b9f",
   "metadata": {},
   "source": [
    "Reverse a string"
   ]
  },
  {
   "cell_type": "code",
   "execution_count": 19,
   "id": "44a2bf0c-cbdf-4a48-bc57-fcb2736221cb",
   "metadata": {},
   "outputs": [
    {
     "data": {
      "text/plain": [
       "'kjihgfedcba'"
      ]
     },
     "execution_count": 19,
     "metadata": {},
     "output_type": "execute_result"
    }
   ],
   "source": [
    "mystring[::-1]"
   ]
  },
  {
   "cell_type": "markdown",
   "id": "485f1e00-174a-4b90-89f0-6d76720149e9",
   "metadata": {},
   "source": [
    "\\"
   ]
  },
  {
   "cell_type": "markdown",
   "id": "270d97ea-e2bc-462b-b908-684c39a71743",
   "metadata": {},
   "source": [
    "Strings are immutable. Modifications need to create a new string through concatenation or reassigning"
   ]
  },
  {
   "cell_type": "code",
   "execution_count": 20,
   "id": "e0e27f9a-6f21-4935-ad2c-4a3fb39061ed",
   "metadata": {},
   "outputs": [],
   "source": [
    "mystring = 'Sam'\n",
    "# mystring[0] = 'P' #this won't work"
   ]
  },
  {
   "cell_type": "code",
   "execution_count": 21,
   "id": "d088eedb-f7f4-4f75-a033-3df6f7f6bd28",
   "metadata": {},
   "outputs": [
    {
     "data": {
      "text/plain": [
       "'Sam says hi'"
      ]
     },
     "execution_count": 21,
     "metadata": {},
     "output_type": "execute_result"
    }
   ],
   "source": [
    "mystring + ' says hi'"
   ]
  },
  {
   "cell_type": "code",
   "execution_count": 22,
   "id": "0803ec1c-03a3-45e9-992e-d54e7b846f53",
   "metadata": {},
   "outputs": [],
   "source": [
    "mystring += ' says hi'"
   ]
  },
  {
   "cell_type": "code",
   "execution_count": 23,
   "id": "cbb4d0f0-3136-42fe-af6f-a55b58af88d6",
   "metadata": {},
   "outputs": [
    {
     "data": {
      "text/plain": [
       "'Sam says hi'"
      ]
     },
     "execution_count": 23,
     "metadata": {},
     "output_type": "execute_result"
    }
   ],
   "source": [
    "mystring"
   ]
  },
  {
   "cell_type": "code",
   "execution_count": 24,
   "id": "740d8a93-830f-45e2-bdc6-e1b50b94495a",
   "metadata": {},
   "outputs": [],
   "source": [
    "letter = 'Z'"
   ]
  },
  {
   "cell_type": "code",
   "execution_count": 25,
   "id": "5938447c-c669-43c2-807b-61ff27bba299",
   "metadata": {},
   "outputs": [
    {
     "data": {
      "text/plain": [
       "'ZZZZZZZZZZ'"
      ]
     },
     "execution_count": 25,
     "metadata": {},
     "output_type": "execute_result"
    }
   ],
   "source": [
    "letter * 10"
   ]
  },
  {
   "cell_type": "code",
   "execution_count": 27,
   "id": "ac58dd64-4c33-4ba7-9408-34806b7fb15c",
   "metadata": {},
   "outputs": [
    {
     "data": {
      "text/plain": [
       "5"
      ]
     },
     "execution_count": 27,
     "metadata": {},
     "output_type": "execute_result"
    }
   ],
   "source": [
    "2 + 3"
   ]
  },
  {
   "cell_type": "code",
   "execution_count": 28,
   "id": "5a317399-6a1f-4425-bbc0-f9aa866fca0e",
   "metadata": {},
   "outputs": [
    {
     "data": {
      "text/plain": [
       "'23'"
      ]
     },
     "execution_count": 28,
     "metadata": {},
     "output_type": "execute_result"
    }
   ],
   "source": [
    "'2' + '3'"
   ]
  },
  {
   "cell_type": "code",
   "execution_count": 29,
   "id": "2b37d8b6-4237-4ae2-b14b-c3d227dd5e12",
   "metadata": {},
   "outputs": [],
   "source": [
    "x = 'Hello World'"
   ]
  },
  {
   "cell_type": "code",
   "execution_count": 30,
   "id": "0f175e47-e296-48b5-89d2-8e6d73998089",
   "metadata": {},
   "outputs": [
    {
     "data": {
      "text/plain": [
       "'HELLO WORLD'"
      ]
     },
     "execution_count": 30,
     "metadata": {},
     "output_type": "execute_result"
    }
   ],
   "source": [
    "x.upper()"
   ]
  },
  {
   "cell_type": "code",
   "execution_count": 31,
   "id": "137cb321-ec70-4a45-959f-a96caacd8eb3",
   "metadata": {},
   "outputs": [],
   "source": [
    "x = 'This is a string'"
   ]
  },
  {
   "cell_type": "code",
   "execution_count": 32,
   "id": "bd0314ee-b340-4f0f-9cf4-c540cb799f56",
   "metadata": {},
   "outputs": [
    {
     "data": {
      "text/plain": [
       "['This', 'is', 'a', 'string']"
      ]
     },
     "execution_count": 32,
     "metadata": {},
     "output_type": "execute_result"
    }
   ],
   "source": [
    "x.split()"
   ]
  },
  {
   "cell_type": "code",
   "execution_count": 33,
   "id": "79b8c665-08e4-47b5-9815-abb45c26fcfd",
   "metadata": {},
   "outputs": [],
   "source": [
    "y = '5:2:3:1:this:is:delimited:by:colons'"
   ]
  },
  {
   "cell_type": "code",
   "execution_count": 34,
   "id": "3b710fb4-215b-499f-b200-43a021d76964",
   "metadata": {},
   "outputs": [
    {
     "data": {
      "text/plain": [
       "['5', '2', '3', '1', 'this', 'is', 'delimited', 'by', 'colons']"
      ]
     },
     "execution_count": 34,
     "metadata": {},
     "output_type": "execute_result"
    }
   ],
   "source": [
    "y.split(':')"
   ]
  },
  {
   "cell_type": "markdown",
   "id": "0c65525b-6737-49f5-8d91-41569e8687f9",
   "metadata": {},
   "source": [
    "\n",
    "\n",
    "# Print Formatting"
   ]
  },
  {
   "cell_type": "code",
   "execution_count": null,
   "id": "8dd896e3-297b-4a79-a533-67db8b3b4c52",
   "metadata": {},
   "outputs": [],
   "source": []
  }
 ],
 "metadata": {
  "kernelspec": {
   "display_name": "Python 3 (ipykernel)",
   "language": "python",
   "name": "python3"
  },
  "language_info": {
   "codemirror_mode": {
    "name": "ipython",
    "version": 3
   },
   "file_extension": ".py",
   "mimetype": "text/x-python",
   "name": "python",
   "nbconvert_exporter": "python",
   "pygments_lexer": "ipython3",
   "version": "3.13.3"
  }
 },
 "nbformat": 4,
 "nbformat_minor": 5
}
