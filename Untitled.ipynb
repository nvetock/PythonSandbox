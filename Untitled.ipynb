{
 "cells": [
  {
   "cell_type": "code",
   "execution_count": 1,
   "id": "1b79662e-fb76-4358-bb35-c7479de5f15b",
   "metadata": {},
   "outputs": [
    {
     "data": {
      "text/plain": [
       "4"
      ]
     },
     "execution_count": 1,
     "metadata": {},
     "output_type": "execute_result"
    }
   ],
   "source": [
    "2 + 2"
   ]
  },
  {
   "cell_type": "code",
   "execution_count": null,
   "id": "d8c70dab-5726-48b0-9d11-f2b1b794996b",
   "metadata": {},
   "outputs": [],
   "source": []
  },
  {
   "cell_type": "markdown",
   "id": "082859c2-ef55-4c81-8f45-c9d15c0cc37c",
   "metadata": {},
   "source": [
    "# Markdown text?\n",
    "I guess this is markdown"
   ]
  },
  {
   "cell_type": "markdown",
   "id": "403490c0-559a-4557-9674-e9cbf5823e52",
   "metadata": {},
   "source": [
    "Writing more markdown"
   ]
  },
  {
   "cell_type": "code",
   "execution_count": null,
   "id": "eee10a69-5f0e-49ed-b999-38b6c9985bcf",
   "metadata": {},
   "outputs": [],
   "source": [
    "\n",
    "\n",
    "\n",
    "\n"
   ]
  },
  {
   "cell_type": "code",
   "execution_count": null,
   "id": "c3bcb6d4-bda5-44ce-ba04-5ee0ad4bd7f0",
   "metadata": {},
   "outputs": [],
   "source": []
  }
 ],
 "metadata": {
  "kernelspec": {
   "display_name": "Python 3 (ipykernel)",
   "language": "python",
   "name": "python3"
  },
  "language_info": {
   "codemirror_mode": {
    "name": "ipython",
    "version": 3
   },
   "file_extension": ".py",
   "mimetype": "text/x-python",
   "name": "python",
   "nbconvert_exporter": "python",
   "pygments_lexer": "ipython3",
   "version": "3.13.3"
  }
 },
 "nbformat": 4,
 "nbformat_minor": 5
}
