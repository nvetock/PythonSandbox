{
 "cells": [
  {
   "cell_type": "markdown",
   "id": "a0216853-4076-4579-8a42-889f893cb4a9",
   "metadata": {},
   "source": [
    "# Functions\n",
    "def name_of_func(param):\\\n",
    "    '''\\\n",
    "    Docstring explainer\\\n",
    "    '''\\\n",
    "    function stuff\\\n",
    "    return x\\"
   ]
  },
  {
   "cell_type": "code",
   "execution_count": 1,
   "id": "e4a920ca-fb30-4d85-beb5-7c5c4f1b72a9",
   "metadata": {},
   "outputs": [],
   "source": [
    "def temp_function():\n",
    "    pass"
   ]
  },
  {
   "cell_type": "code",
   "execution_count": 2,
   "id": "8b0c5121-dca9-435a-b146-1b308c47844f",
   "metadata": {},
   "outputs": [],
   "source": [
    "def add_numbers(num1, num2):\n",
    "    return num1 + num2"
   ]
  },
  {
   "cell_type": "code",
   "execution_count": 3,
   "id": "dd07cd09-2c59-4df7-b73a-c8b097b6cc0a",
   "metadata": {},
   "outputs": [
    {
     "data": {
      "text/plain": [
       "3"
      ]
     },
     "execution_count": 3,
     "metadata": {},
     "output_type": "execute_result"
    }
   ],
   "source": [
    "add_numbers(1,2)"
   ]
  },
  {
   "cell_type": "code",
   "execution_count": null,
   "id": "b46bc8a7-e478-4d94-af11-dfbbefdb5df1",
   "metadata": {},
   "outputs": [],
   "source": []
  },
  {
   "cell_type": "code",
   "execution_count": null,
   "id": "41e6c7fc-42c0-45ea-b5a0-440d37174b8e",
   "metadata": {},
   "outputs": [],
   "source": []
  },
  {
   "cell_type": "markdown",
   "id": "12f70656-8565-4f3b-8ab3-e55103a2ad77",
   "metadata": {},
   "source": [
    "## Functions with Tuple Unpacking"
   ]
  },
  {
   "cell_type": "code",
   "execution_count": 9,
   "id": "1e331e04-8619-4bbd-8778-565f26e65532",
   "metadata": {},
   "outputs": [],
   "source": [
    "work_hours = [('Abby',100),('Billy',400),('Cassie',800)]"
   ]
  },
  {
   "cell_type": "code",
   "execution_count": 5,
   "id": "47afccd7-b31a-4eb7-8cbd-5e0a3d2315bb",
   "metadata": {},
   "outputs": [],
   "source": [
    "def employee_check(work_hours):\n",
    "    current_max = 0\n",
    "    employee_of_month = ''\n",
    "\n",
    "    for employee, hours in work_hours:\n",
    "        if (hours > current_max):\n",
    "            current_max = hours\n",
    "            employee_of_month = employee\n",
    "        else:\n",
    "            pass\n",
    "    \n",
    "    ## return tuple\n",
    "    return (employee_of_month, current_max)"
   ]
  },
  {
   "cell_type": "code",
   "execution_count": 10,
   "id": "e86f2d4b-986f-4038-ac42-59f3cef779f4",
   "metadata": {},
   "outputs": [
    {
     "data": {
      "text/plain": [
       "('Cassie', 800)"
      ]
     },
     "execution_count": 10,
     "metadata": {},
     "output_type": "execute_result"
    }
   ],
   "source": [
    "employee_check(work_hours)"
   ]
  },
  {
   "cell_type": "code",
   "execution_count": 14,
   "id": "48d20e65-3429-4dfc-8a3f-2aa13bd41cea",
   "metadata": {},
   "outputs": [],
   "source": [
    "result = employee_check(work_hours)"
   ]
  },
  {
   "cell_type": "code",
   "execution_count": 15,
   "id": "7316cf07-325d-4bc1-a3b1-fef0e8c2e651",
   "metadata": {},
   "outputs": [
    {
     "data": {
      "text/plain": [
       "('Cassie', 800)"
      ]
     },
     "execution_count": 15,
     "metadata": {},
     "output_type": "execute_result"
    }
   ],
   "source": [
    "result"
   ]
  },
  {
   "cell_type": "code",
   "execution_count": null,
   "id": "6bf1a315-c233-411f-9589-31c507bfc570",
   "metadata": {},
   "outputs": [],
   "source": []
  },
  {
   "cell_type": "markdown",
   "id": "52a846d4-6664-41f1-a7d6-cdcf28fa9256",
   "metadata": {},
   "source": [
    "Tuple unpacking can be returned from a function call returning a tuple"
   ]
  },
  {
   "cell_type": "code",
   "execution_count": 11,
   "id": "78c21e0a-a2b5-457c-8895-77b2a50632a5",
   "metadata": {},
   "outputs": [],
   "source": [
    "name,hours = employee_check(work_hours)"
   ]
  },
  {
   "cell_type": "code",
   "execution_count": 12,
   "id": "88eeba5a-26c1-45ae-919f-e727ea91ec50",
   "metadata": {},
   "outputs": [
    {
     "data": {
      "text/plain": [
       "'Cassie'"
      ]
     },
     "execution_count": 12,
     "metadata": {},
     "output_type": "execute_result"
    }
   ],
   "source": [
    "name"
   ]
  },
  {
   "cell_type": "code",
   "execution_count": 13,
   "id": "126c3b77-869b-4f02-b8dc-4eb65388c10f",
   "metadata": {},
   "outputs": [
    {
     "data": {
      "text/plain": [
       "800"
      ]
     },
     "execution_count": 13,
     "metadata": {},
     "output_type": "execute_result"
    }
   ],
   "source": [
    "hours"
   ]
  },
  {
   "cell_type": "code",
   "execution_count": null,
   "id": "77886ffd-dde7-4b20-a781-9aec62db5ec1",
   "metadata": {},
   "outputs": [],
   "source": []
  },
  {
   "cell_type": "code",
   "execution_count": null,
   "id": "85fb5e44-4c27-4bcb-b023-a7b09d0c129b",
   "metadata": {},
   "outputs": [],
   "source": []
  },
  {
   "cell_type": "markdown",
   "id": "442695e3-34ff-4583-b1f6-78e0f2093d14",
   "metadata": {},
   "source": [
    "---\n",
    "# Ball in Cup\n",
    "List holds \\['','','ball']\\\n",
    "Function shuffles list positions\\\n",
    "Another function takes input from user\\"
   ]
  },
  {
   "cell_type": "code",
   "execution_count": 17,
   "id": "520011a9-2f7a-4428-b257-e8672b774cac",
   "metadata": {},
   "outputs": [],
   "source": [
    "cups = ['','','ball']"
   ]
  },
  {
   "cell_type": "code",
   "execution_count": 22,
   "id": "a818ebf6-340d-4dd2-884b-e46eee4308fe",
   "metadata": {},
   "outputs": [],
   "source": [
    "from random import shuffle\n",
    "\n",
    "def play_game(cup_list):\n",
    "    shuffle(cup_list)\n",
    "    guess = int(input('Which cup is the ball in?\\nChoose cups: 1, 2, or 3:\\n'))\n",
    "    print(cup_list)\n",
    "    return 'ball' == cup_list[guess - 1]"
   ]
  },
  {
   "cell_type": "code",
   "execution_count": 25,
   "id": "efeec45d-7eb5-44b2-a312-e28eb6311d27",
   "metadata": {},
   "outputs": [
    {
     "name": "stdin",
     "output_type": "stream",
     "text": [
      "Which cup is the ball in?\n",
      "Choose cups: 1, 2, or 3:\n",
      " 1\n"
     ]
    },
    {
     "name": "stdout",
     "output_type": "stream",
     "text": [
      "['ball', '', '']\n"
     ]
    },
    {
     "data": {
      "text/plain": [
       "True"
      ]
     },
     "execution_count": 25,
     "metadata": {},
     "output_type": "execute_result"
    }
   ],
   "source": [
    "play_game(cups)"
   ]
  },
  {
   "cell_type": "code",
   "execution_count": null,
   "id": "80c06964-27c4-4fa2-be57-3b678c1df3de",
   "metadata": {},
   "outputs": [],
   "source": []
  },
  {
   "cell_type": "code",
   "execution_count": null,
   "id": "5963f75f-5d34-48b3-8647-77b8754ad0a9",
   "metadata": {},
   "outputs": [],
   "source": []
  },
  {
   "cell_type": "markdown",
   "id": "e3c50227-6a49-41aa-a8a2-eb0d3d07fa4d",
   "metadata": {},
   "source": [
    "---\n",
    "# Args & Kwargs\n",
    "Accepts arbitrary number of arguments and/or keyword arguments"
   ]
  },
  {
   "cell_type": "markdown",
   "id": "c66145a0-815a-4208-9a25-66f385379791",
   "metadata": {},
   "source": [
    "## Args\n",
    "treats args as tuple"
   ]
  },
  {
   "cell_type": "code",
   "execution_count": 26,
   "id": "ad399ce2-e5e7-4cdf-82ea-1e3aec5d2e2e",
   "metadata": {},
   "outputs": [],
   "source": [
    "def myfunc(a,b):\n",
    "    # returns 5% of sum of a and b\n",
    "    return sum((a,b)) * 0.05"
   ]
  },
  {
   "cell_type": "code",
   "execution_count": 27,
   "id": "bad199ad-d8d1-4bfe-b8a4-8048da3aaac1",
   "metadata": {},
   "outputs": [
    {
     "data": {
      "text/plain": [
       "5.0"
      ]
     },
     "execution_count": 27,
     "metadata": {},
     "output_type": "execute_result"
    }
   ],
   "source": [
    "myfunc(40,60)"
   ]
  },
  {
   "cell_type": "code",
   "execution_count": null,
   "id": "8582d36a-7ab4-46d2-bbc4-06e35c5bcfa9",
   "metadata": {},
   "outputs": [],
   "source": []
  },
  {
   "cell_type": "code",
   "execution_count": 30,
   "id": "7802ce0b-88fa-4bcb-aeb9-2f9c16530d7c",
   "metadata": {},
   "outputs": [],
   "source": [
    "def summation(*args):\n",
    "    return sum(args) * 0.05"
   ]
  },
  {
   "cell_type": "code",
   "execution_count": 32,
   "id": "f79729c7-b2f4-4168-8b50-6f61d9c2c342",
   "metadata": {},
   "outputs": [
    {
     "data": {
      "text/plain": [
       "5.0"
      ]
     },
     "execution_count": 32,
     "metadata": {},
     "output_type": "execute_result"
    }
   ],
   "source": [
    "summation(40,60)"
   ]
  },
  {
   "cell_type": "code",
   "execution_count": null,
   "id": "4073b8dd-2e3a-4654-b591-225789653f6c",
   "metadata": {},
   "outputs": [],
   "source": []
  },
  {
   "cell_type": "markdown",
   "id": "05788c7d-8417-4ad4-ac9a-3e03a987843c",
   "metadata": {},
   "source": [
    "Python treats *args as a tuple of input"
   ]
  },
  {
   "cell_type": "code",
   "execution_count": 34,
   "id": "c202737e-150e-4a94-a79e-ec6dd854c168",
   "metadata": {},
   "outputs": [],
   "source": [
    "def show_args(*args):\n",
    "    print(args)"
   ]
  },
  {
   "cell_type": "code",
   "execution_count": 35,
   "id": "0a7684b6-1eb2-4792-8a1d-9a76b406085c",
   "metadata": {},
   "outputs": [
    {
     "name": "stdout",
     "output_type": "stream",
     "text": [
      "(10, 20, 30, 'word', True)\n"
     ]
    }
   ],
   "source": [
    "show_args(10, 20, 30, 'word', True)"
   ]
  },
  {
   "cell_type": "code",
   "execution_count": null,
   "id": "9b1eefec-73e0-41e9-b367-89b13c9837d3",
   "metadata": {},
   "outputs": [],
   "source": []
  },
  {
   "cell_type": "markdown",
   "id": "fe24e287-97ec-4eeb-8527-f52838afe74a",
   "metadata": {},
   "source": [
    "## Kwargs\n",
    "treats kwargs as dictionary"
   ]
  },
  {
   "cell_type": "code",
   "execution_count": 38,
   "id": "cc6f1584-d45f-41ec-9576-2fcf8de5a773",
   "metadata": {},
   "outputs": [],
   "source": [
    "def myfunc(**kwargs):\n",
    "    if 'fruit' in kwargs:\n",
    "        print('My fruit of choice is {}.'.format(kwargs['fruit']))\n",
    "        "
   ]
  },
  {
   "cell_type": "code",
   "execution_count": 39,
   "id": "983fc8e5-428f-44c5-a94b-b48b1f76d7cf",
   "metadata": {},
   "outputs": [
    {
     "name": "stdout",
     "output_type": "stream",
     "text": [
      "My fruit of choice is strawberry.\n"
     ]
    }
   ],
   "source": [
    "myfunc(fruit='strawberry')"
   ]
  },
  {
   "cell_type": "code",
   "execution_count": null,
   "id": "67257bd6-f320-4428-b0e0-babe0540a707",
   "metadata": {},
   "outputs": [],
   "source": []
  },
  {
   "cell_type": "code",
   "execution_count": 40,
   "id": "9b850153-81b6-4074-9d81-1071c523f090",
   "metadata": {},
   "outputs": [],
   "source": [
    "def print_kwargs(**kwargs):\n",
    "    print(kwargs)"
   ]
  },
  {
   "cell_type": "code",
   "execution_count": 41,
   "id": "85c1458a-9a65-4d2a-894e-df83380e3502",
   "metadata": {},
   "outputs": [
    {
     "name": "stdout",
     "output_type": "stream",
     "text": [
      "{'fruit': 'strawberry', 'veggie': 'lettuce'}\n"
     ]
    }
   ],
   "source": [
    "print_kwargs(fruit='strawberry', veggie='lettuce')"
   ]
  },
  {
   "cell_type": "code",
   "execution_count": null,
   "id": "0c1762db-91e2-42d0-af9a-094601a0a2fb",
   "metadata": {},
   "outputs": [],
   "source": []
  },
  {
   "cell_type": "code",
   "execution_count": 42,
   "id": "630f78e3-ed60-4cdc-aef5-cb685e24e1d3",
   "metadata": {},
   "outputs": [],
   "source": [
    "temp = 'RandOMwOrd'"
   ]
  },
  {
   "cell_type": "code",
   "execution_count": 44,
   "id": "bff3d237-64e5-401a-bad4-448005c4b68a",
   "metadata": {},
   "outputs": [
    {
     "data": {
      "text/plain": [
       "'ADMOD'"
      ]
     },
     "execution_count": 44,
     "metadata": {},
     "output_type": "execute_result"
    }
   ],
   "source": [
    "temp[1::2].upper()"
   ]
  },
  {
   "cell_type": "code",
   "execution_count": 45,
   "id": "e0fd3505-d8aa-42ab-a1db-ca72629db48d",
   "metadata": {},
   "outputs": [
    {
     "data": {
      "text/plain": [
       "'RandOMwOrd'"
      ]
     },
     "execution_count": 45,
     "metadata": {},
     "output_type": "execute_result"
    }
   ],
   "source": [
    "temp"
   ]
  },
  {
   "cell_type": "code",
   "execution_count": 46,
   "id": "47eda7b6-3884-42b9-86df-2e689a3d58e8",
   "metadata": {},
   "outputs": [],
   "source": [
    "new_temp = ''"
   ]
  },
  {
   "cell_type": "code",
   "execution_count": 47,
   "id": "a83ae0e0-c9f5-4f18-b482-d84d32896db2",
   "metadata": {},
   "outputs": [],
   "source": [
    "new_temp += temp[0].lower()"
   ]
  },
  {
   "cell_type": "code",
   "execution_count": 48,
   "id": "520261dd-7784-4579-8c40-927ee7163dd7",
   "metadata": {},
   "outputs": [
    {
     "data": {
      "text/plain": [
       "'r'"
      ]
     },
     "execution_count": 48,
     "metadata": {},
     "output_type": "execute_result"
    }
   ],
   "source": [
    "new_temp"
   ]
  },
  {
   "cell_type": "code",
   "execution_count": 49,
   "id": "db7d4f23-b398-4e11-ab04-fd2ae2736f70",
   "metadata": {},
   "outputs": [],
   "source": [
    "new_temp += temp[1].upper()"
   ]
  },
  {
   "cell_type": "code",
   "execution_count": 50,
   "id": "10c742e7-29bf-4e32-abdd-fed920e07e99",
   "metadata": {},
   "outputs": [
    {
     "data": {
      "text/plain": [
       "'rA'"
      ]
     },
     "execution_count": 50,
     "metadata": {},
     "output_type": "execute_result"
    }
   ],
   "source": [
    "new_temp"
   ]
  },
  {
   "cell_type": "code",
   "execution_count": null,
   "id": "de14bafb-07a7-4c13-a516-d4ca17c58f95",
   "metadata": {},
   "outputs": [],
   "source": []
  },
  {
   "cell_type": "markdown",
   "id": "91a38593-d370-4811-91d0-02c4cbc10385",
   "metadata": {},
   "source": [
    "---\n",
    "# Practice Problems"
   ]
  },
  {
   "cell_type": "code",
   "execution_count": 53,
   "id": "f22ad6e3-8957-4512-81f7-6ae7b594fe2d",
   "metadata": {},
   "outputs": [],
   "source": [
    "def lesser_or_greater(num1, num2):\n",
    "    if num1 % 2 == 0 and num2 % 2 == 0:\n",
    "        return min(num1, num2)\n",
    "    else:\n",
    "        return max(num1, num2)"
   ]
  },
  {
   "cell_type": "code",
   "execution_count": 55,
   "id": "b2efd8f4-25f3-4e6f-9f73-39eb55a69007",
   "metadata": {},
   "outputs": [
    {
     "data": {
      "text/plain": [
       "5"
      ]
     },
     "execution_count": 55,
     "metadata": {},
     "output_type": "execute_result"
    }
   ],
   "source": [
    "lesser_or_greater(2, 5)"
   ]
  },
  {
   "cell_type": "code",
   "execution_count": null,
   "id": "cf369021-e954-4200-8faa-b7c8163341ce",
   "metadata": {},
   "outputs": [],
   "source": []
  },
  {
   "cell_type": "code",
   "execution_count": 56,
   "id": "db6a0e80-632a-4943-a8e9-5e408d280e5a",
   "metadata": {},
   "outputs": [],
   "source": [
    "def animal_crackers(s):\n",
    "    '''\n",
    "    Takes two word string and returns True if both words\n",
    "    begin with the same letter\n",
    "    '''\n",
    "    words = s.split(' ')\n",
    "    return words[0][0] == words[1][0]"
   ]
  },
  {
   "cell_type": "code",
   "execution_count": 57,
   "id": "1ad3d00d-5541-4727-8d15-3bcac3e8939b",
   "metadata": {},
   "outputs": [
    {
     "data": {
      "text/plain": [
       "False"
      ]
     },
     "execution_count": 57,
     "metadata": {},
     "output_type": "execute_result"
    }
   ],
   "source": [
    "animal_crackers('Crazy Kangaroo')"
   ]
  },
  {
   "cell_type": "code",
   "execution_count": 58,
   "id": "45492175-01f5-4fb0-82f2-33fa769118df",
   "metadata": {},
   "outputs": [
    {
     "data": {
      "text/plain": [
       "True"
      ]
     },
     "execution_count": 58,
     "metadata": {},
     "output_type": "execute_result"
    }
   ],
   "source": [
    "animal_crackers('Leemur Leaping')"
   ]
  },
  {
   "cell_type": "code",
   "execution_count": null,
   "id": "40bd3255-3021-48ef-a1f6-e56e1ae165b8",
   "metadata": {},
   "outputs": [],
   "source": []
  },
  {
   "cell_type": "code",
   "execution_count": 59,
   "id": "a9f409cd-43e9-4dea-8b09-157506dee6d7",
   "metadata": {},
   "outputs": [],
   "source": [
    "def dist_from_seven(num):\n",
    "    '''\n",
    "    Takes number input and returns a new number twice the distance from 7\n",
    "    '''\n",
    "    return 7 + ((7-num) * 2)"
   ]
  },
  {
   "cell_type": "code",
   "execution_count": 63,
   "id": "89705b44-a647-4b5b-b345-ba2920285597",
   "metadata": {},
   "outputs": [
    {
     "data": {
      "text/plain": [
       "13"
      ]
     },
     "execution_count": 63,
     "metadata": {},
     "output_type": "execute_result"
    }
   ],
   "source": [
    "dist_from_seven(4)"
   ]
  },
  {
   "cell_type": "code",
   "execution_count": 64,
   "id": "2f866e60-d5b6-47d6-ae54-f6e7412922ad",
   "metadata": {},
   "outputs": [
    {
     "data": {
      "text/plain": [
       "-3"
      ]
     },
     "execution_count": 64,
     "metadata": {},
     "output_type": "execute_result"
    }
   ],
   "source": [
    "dist_from_seven(12)"
   ]
  },
  {
   "cell_type": "code",
   "execution_count": null,
   "id": "b5119516-3636-4225-acc9-53bba8245864",
   "metadata": {},
   "outputs": [],
   "source": []
  },
  {
   "cell_type": "code",
   "execution_count": 74,
   "id": "004ae675-ac92-4d97-98ac-e024cc3be524",
   "metadata": {},
   "outputs": [],
   "source": [
    "def spy_game(num_list):\n",
    "    code = [0,0,7,'exit']\n",
    "    \n",
    "    for n in num_list:\n",
    "        if n == code[0]:\n",
    "            code.pop(0)\n",
    "        \n",
    "    return len(code) == 1"
   ]
  },
  {
   "cell_type": "code",
   "execution_count": 75,
   "id": "1cdd51bd-8c69-45d4-b758-dfd641c84da2",
   "metadata": {},
   "outputs": [
    {
     "data": {
      "text/plain": [
       "True"
      ]
     },
     "execution_count": 75,
     "metadata": {},
     "output_type": "execute_result"
    }
   ],
   "source": [
    "spy_game([1,2,4,0,0,7,5])"
   ]
  },
  {
   "cell_type": "code",
   "execution_count": 76,
   "id": "6c53c0bd-750e-4f7d-9007-b0179b12ddb4",
   "metadata": {},
   "outputs": [
    {
     "data": {
      "text/plain": [
       "True"
      ]
     },
     "execution_count": 76,
     "metadata": {},
     "output_type": "execute_result"
    }
   ],
   "source": [
    "spy_game([1,2,0,6,0,7,7])"
   ]
  },
  {
   "cell_type": "code",
   "execution_count": 77,
   "id": "63566e05-4c15-47af-95b6-1cfa3d46d404",
   "metadata": {},
   "outputs": [
    {
     "data": {
      "text/plain": [
       "False"
      ]
     },
     "execution_count": 77,
     "metadata": {},
     "output_type": "execute_result"
    }
   ],
   "source": [
    "spy_game([1,7,2,0,6,0,2,3])"
   ]
  },
  {
   "cell_type": "code",
   "execution_count": null,
   "id": "520accb9-47cd-4b19-b3c3-31a194d7cf84",
   "metadata": {},
   "outputs": [],
   "source": []
  },
  {
   "cell_type": "markdown",
   "id": "c4d9d4e4-f6e7-4304-a6fe-70960c1a592f",
   "metadata": {},
   "source": []
  },
  {
   "cell_type": "markdown",
   "id": "0ea53463-6355-450a-9227-f9ecd6c2b497",
   "metadata": {},
   "source": [
    "---\n",
    "# Lambda, Map, Filter"
   ]
  },
  {
   "cell_type": "code",
   "execution_count": null,
   "id": "122d0fe3-37a1-4ac1-9d71-9f8e3013537c",
   "metadata": {},
   "outputs": [],
   "source": []
  },
  {
   "cell_type": "code",
   "execution_count": null,
   "id": "5c551563-c381-495d-b981-d8a989d8132a",
   "metadata": {},
   "outputs": [],
   "source": []
  },
  {
   "cell_type": "markdown",
   "id": "b16d11ca-beb0-4636-8216-72492790315b",
   "metadata": {},
   "source": [
    "## Map"
   ]
  },
  {
   "cell_type": "code",
   "execution_count": 78,
   "id": "d7b01d1a-82c4-434e-9103-5e38783e3da0",
   "metadata": {},
   "outputs": [],
   "source": [
    "def square(num):\n",
    "    return num**2"
   ]
  },
  {
   "cell_type": "code",
   "execution_count": 11,
   "id": "e18338f0-76e3-4f76-9cd0-89ee36793f0e",
   "metadata": {},
   "outputs": [],
   "source": [
    "my_nums = [1,2,3,4,5]"
   ]
  },
  {
   "cell_type": "code",
   "execution_count": 81,
   "id": "b30411ba-9f0f-461b-80be-e8c8be68c2ca",
   "metadata": {},
   "outputs": [
    {
     "name": "stdout",
     "output_type": "stream",
     "text": [
      "1\n",
      "4\n",
      "9\n",
      "16\n",
      "25\n"
     ]
    }
   ],
   "source": [
    "for item in map(square,my_nums):\n",
    "    print(item)"
   ]
  },
  {
   "cell_type": "code",
   "execution_count": 82,
   "id": "950a73ec-af19-47ec-bb6b-ce7e30cb421e",
   "metadata": {},
   "outputs": [
    {
     "data": {
      "text/plain": [
       "[1, 4, 9, 16, 25]"
      ]
     },
     "execution_count": 82,
     "metadata": {},
     "output_type": "execute_result"
    }
   ],
   "source": [
    "list(map(square,my_nums))"
   ]
  },
  {
   "cell_type": "code",
   "execution_count": null,
   "id": "baee8f5d-9072-43e0-b0a2-7f566961e6b4",
   "metadata": {},
   "outputs": [],
   "source": []
  },
  {
   "cell_type": "markdown",
   "id": "a73da408-993e-4146-ace5-04f4d10d0ebe",
   "metadata": {},
   "source": [
    "Version that works with strings"
   ]
  },
  {
   "cell_type": "code",
   "execution_count": 83,
   "id": "271be1c5-6403-4f09-a1db-95167fe7700b",
   "metadata": {},
   "outputs": [],
   "source": [
    "def splicer(mystring):\n",
    "    if len(mystring)%2 == 0:\n",
    "        return 'EVEN'\n",
    "    else:\n",
    "        return mystring[0]"
   ]
  },
  {
   "cell_type": "code",
   "execution_count": 84,
   "id": "11672180-496e-4ddc-ab8b-4ea442f3ce64",
   "metadata": {},
   "outputs": [],
   "source": [
    "names = ['Andy', 'Billy', 'Charlie', 'Damien']"
   ]
  },
  {
   "cell_type": "code",
   "execution_count": 85,
   "id": "e7ddc062-108b-4e25-ac69-e25c85a2a44f",
   "metadata": {},
   "outputs": [
    {
     "data": {
      "text/plain": [
       "['EVEN', 'B', 'C', 'EVEN']"
      ]
     },
     "execution_count": 85,
     "metadata": {},
     "output_type": "execute_result"
    }
   ],
   "source": [
    "list(map(splicer,names))"
   ]
  },
  {
   "cell_type": "code",
   "execution_count": null,
   "id": "009a525c-a260-4025-a673-6f94b8a18822",
   "metadata": {},
   "outputs": [],
   "source": []
  },
  {
   "cell_type": "markdown",
   "id": "9312cb3c-69c9-44df-bec9-7a51779e5379",
   "metadata": {},
   "source": [
    "## Filter\n",
    "Iterates based on a Boolean function"
   ]
  },
  {
   "cell_type": "code",
   "execution_count": 86,
   "id": "1d67ca72-4d4c-49f0-97a5-ce13be9df8a9",
   "metadata": {},
   "outputs": [],
   "source": [
    "def check_even(num):\n",
    "    return num%2 == 0"
   ]
  },
  {
   "cell_type": "code",
   "execution_count": 87,
   "id": "913de9fb-ba3c-4aff-847b-d2762f899bc5",
   "metadata": {},
   "outputs": [
    {
     "data": {
      "text/plain": [
       "[2, 4]"
      ]
     },
     "execution_count": 87,
     "metadata": {},
     "output_type": "execute_result"
    }
   ],
   "source": [
    "list(filter(check_even, my_nums))"
   ]
  },
  {
   "cell_type": "code",
   "execution_count": null,
   "id": "b54a7953-a27c-474a-8265-c6c8098ff4a1",
   "metadata": {},
   "outputs": [],
   "source": []
  },
  {
   "cell_type": "markdown",
   "id": "1f6e5945-228f-488a-a530-cf891dbbf9f9",
   "metadata": {},
   "source": [
    "## Lambda\n",
    "Functionality only intended to be used one time. AKA anon function"
   ]
  },
  {
   "cell_type": "code",
   "execution_count": 8,
   "id": "4eea013a-69b5-482e-9e1f-ae79ecd13317",
   "metadata": {},
   "outputs": [],
   "source": [
    "square_num = lambda num: num ** 2"
   ]
  },
  {
   "cell_type": "code",
   "execution_count": 9,
   "id": "15a4c017-0409-4d87-bd4c-de06432777f3",
   "metadata": {},
   "outputs": [
    {
     "data": {
      "text/plain": [
       "9"
      ]
     },
     "execution_count": 9,
     "metadata": {},
     "output_type": "execute_result"
    }
   ],
   "source": [
    "square_num(3)"
   ]
  },
  {
   "cell_type": "code",
   "execution_count": null,
   "id": "24ce5de1-b58e-41ed-bdae-714f1849d3d9",
   "metadata": {},
   "outputs": [],
   "source": []
  },
  {
   "cell_type": "markdown",
   "id": "d59169f5-a944-4f70-b2c6-c49690fbc358",
   "metadata": {},
   "source": [
    "Normally lambdas would be sent into something like a map or filter"
   ]
  },
  {
   "cell_type": "code",
   "execution_count": 14,
   "id": "2f4219a4-b3dd-4e2a-a3d9-1db37cfacf12",
   "metadata": {},
   "outputs": [
    {
     "data": {
      "text/plain": [
       "[1, 4, 9, 16, 25]"
      ]
     },
     "execution_count": 14,
     "metadata": {},
     "output_type": "execute_result"
    }
   ],
   "source": [
    "list(map(lambda num:num**2,my_nums))"
   ]
  },
  {
   "cell_type": "code",
   "execution_count": null,
   "id": "c18651b8-74eb-4eb6-a282-7334ca307783",
   "metadata": {},
   "outputs": [],
   "source": []
  },
  {
   "cell_type": "code",
   "execution_count": 21,
   "id": "6d2c69ae-bf34-4ed0-a470-6294915da4eb",
   "metadata": {},
   "outputs": [],
   "source": [
    "nums1 = [1, 2, 3, 4, 5]\n",
    "nums2 = [2, 3, 4, 5, 6]"
   ]
  },
  {
   "cell_type": "code",
   "execution_count": 22,
   "id": "52960b7b-0a0b-48e6-aa15-fd65fb279c63",
   "metadata": {},
   "outputs": [
    {
     "data": {
      "text/plain": [
       "[3, 5, 7, 9, 11]"
      ]
     },
     "execution_count": 22,
     "metadata": {},
     "output_type": "execute_result"
    }
   ],
   "source": [
    "list(map(lambda num1, num2: num1+num2, nums1, nums2))"
   ]
  },
  {
   "cell_type": "code",
   "execution_count": null,
   "id": "ecce75b7-98df-4856-9696-fa2b1a6ec1a9",
   "metadata": {},
   "outputs": [],
   "source": []
  },
  {
   "cell_type": "markdown",
   "id": "8d5120e9-95db-4804-a7eb-8ce7cb723c63",
   "metadata": {},
   "source": [
    "Lambda expressions can be hard to read, only use for simple, easy to understand funcs"
   ]
  },
  {
   "cell_type": "code",
   "execution_count": null,
   "id": "5e11cb57-9e1c-4c85-9832-2c06fdd0a1c1",
   "metadata": {},
   "outputs": [],
   "source": []
  },
  {
   "cell_type": "code",
   "execution_count": null,
   "id": "41b6abbe-bfdd-42bd-87a9-a7e7a6d5001e",
   "metadata": {},
   "outputs": [],
   "source": []
  },
  {
   "cell_type": "markdown",
   "id": "a61f48ce-8eb1-4f40-b14a-5aaca42f34c5",
   "metadata": {},
   "source": [
    "---\n",
    "# OOP"
   ]
  },
  {
   "cell_type": "code",
   "execution_count": 2,
   "id": "2d06e00d-f0f7-4f39-98fd-e5aafe7e7f7f",
   "metadata": {},
   "outputs": [],
   "source": [
    "class NameOfClass():\n",
    "    def __init__(self,):\n",
    "                 #params initialized here\n",
    "                 pass\n",
    "\n",
    "    def some_method(self,):\n",
    "        # perform some action\n",
    "        pass"
   ]
  },
  {
   "cell_type": "code",
   "execution_count": null,
   "id": "44b044dc-9c49-4481-b739-ab6bf36b7fe6",
   "metadata": {},
   "outputs": [],
   "source": []
  },
  {
   "cell_type": "markdown",
   "id": "12565354-5579-4479-a8e9-e65535aa54cd",
   "metadata": {},
   "source": [
    "Object attributes are defined within the constructor"
   ]
  },
  {
   "cell_type": "code",
   "execution_count": 25,
   "id": "1b97787e-6d16-46c8-9c23-5cda08869103",
   "metadata": {},
   "outputs": [],
   "source": [
    "class Dog():\n",
    "\n",
    "    # Class Attributes - same for any instance of class\n",
    "    # doesn't use self.attr syntax\n",
    "    species = 'mammal'\n",
    "    \n",
    "    def __init__(self,breed,name,spots):\n",
    "        # Attributes at each instance level\n",
    "        self.breed = breed\n",
    "        self.name = name\n",
    "\n",
    "        # Expect boolean for this\n",
    "        self.spots = spots\n",
    "\n",
    "    # OPERATIONS / Actions --> Methods\n",
    "    # self param connects it to the object instance\n",
    "    def bark(self,number):\n",
    "        # self. is used only when referencing instance attributes\n",
    "        print('Barking {} times.'.format(number))\n",
    "        for i in range(number):\n",
    "            print('WOOF! My name is {}'.format(self.name))"
   ]
  },
  {
   "cell_type": "code",
   "execution_count": 26,
   "id": "a500fc0b-9bcb-4276-9872-8ee1ad2d450b",
   "metadata": {},
   "outputs": [],
   "source": [
    "my_dog = Dog(breed='Lab', name=\"Grommit\", spots='1')"
   ]
  },
  {
   "cell_type": "code",
   "execution_count": 16,
   "id": "145eaa25-fab9-4d64-8c5b-b28f1b20fee4",
   "metadata": {},
   "outputs": [
    {
     "data": {
      "text/plain": [
       "__main__.Dog"
      ]
     },
     "execution_count": 16,
     "metadata": {},
     "output_type": "execute_result"
    }
   ],
   "source": [
    "type(my_dog)"
   ]
  },
  {
   "cell_type": "code",
   "execution_count": 17,
   "id": "00d15137-c190-4bfb-9b81-d24a292ef15a",
   "metadata": {},
   "outputs": [
    {
     "data": {
      "text/plain": [
       "'Lab'"
      ]
     },
     "execution_count": 17,
     "metadata": {},
     "output_type": "execute_result"
    }
   ],
   "source": [
    "my_dog.breed"
   ]
  },
  {
   "cell_type": "code",
   "execution_count": 27,
   "id": "40618661-fb3c-458b-aeb8-e96dd527cd3e",
   "metadata": {},
   "outputs": [
    {
     "name": "stdout",
     "output_type": "stream",
     "text": [
      "Barking 5 times.\n",
      "WOOF! My name is Grommit\n",
      "WOOF! My name is Grommit\n",
      "WOOF! My name is Grommit\n",
      "WOOF! My name is Grommit\n",
      "WOOF! My name is Grommit\n"
     ]
    }
   ],
   "source": [
    "my_dog.bark(5)"
   ]
  },
  {
   "cell_type": "code",
   "execution_count": null,
   "id": "882952a4-ea6c-4e91-a84c-74654f5380cf",
   "metadata": {},
   "outputs": [],
   "source": []
  },
  {
   "cell_type": "code",
   "execution_count": null,
   "id": "d45e4de7-1731-48d3-8665-bbacaa474296",
   "metadata": {},
   "outputs": [],
   "source": []
  },
  {
   "cell_type": "markdown",
   "id": "955172ed-6e48-4690-9f10-2a0a9b01cdb5",
   "metadata": {},
   "source": [
    "---\n",
    "# Inheritance & Polymorphism"
   ]
  },
  {
   "cell_type": "markdown",
   "id": "8a0323d0-a50d-4d6a-9b10-ad87b098d858",
   "metadata": {},
   "source": [
    "## Inheritance"
   ]
  },
  {
   "cell_type": "code",
   "execution_count": 28,
   "id": "a84a653e-c46b-45ef-8a46-026b06e71312",
   "metadata": {},
   "outputs": [],
   "source": [
    "class Animal():\n",
    "\n",
    "    def __init__(self):\n",
    "        print('Animal Created')\n",
    "\n",
    "    def who_am_i(self,):\n",
    "        print('I am animal')\n",
    "\n",
    "    def eat(self,):\n",
    "        print('I am eating')"
   ]
  },
  {
   "cell_type": "code",
   "execution_count": 29,
   "id": "afd01689-86f7-44a2-a221-0b9e3e461f3f",
   "metadata": {},
   "outputs": [],
   "source": [
    "class Cat(Animal):\n",
    "    def __init__(self,):\n",
    "        Animal.__init__(self)\n",
    "        print('Cat created')"
   ]
  },
  {
   "cell_type": "code",
   "execution_count": null,
   "id": "9f7c1c17-c728-48fd-ab35-e072849b5c9b",
   "metadata": {},
   "outputs": [],
   "source": []
  },
  {
   "cell_type": "markdown",
   "id": "d2d7f154-2249-4247-b82d-56d61d3cad4a",
   "metadata": {},
   "source": [
    "Object inherits all super's methods"
   ]
  },
  {
   "cell_type": "code",
   "execution_count": 30,
   "id": "f3ef3032-89eb-4dc6-beac-113355aa276e",
   "metadata": {},
   "outputs": [
    {
     "name": "stdout",
     "output_type": "stream",
     "text": [
      "Animal Created\n",
      "Cat created\n"
     ]
    }
   ],
   "source": [
    "my_cat = Cat()"
   ]
  },
  {
   "cell_type": "code",
   "execution_count": null,
   "id": "beae231d-0b5d-4f5d-a20b-78e8cc917aa4",
   "metadata": {},
   "outputs": [],
   "source": []
  },
  {
   "cell_type": "code",
   "execution_count": null,
   "id": "c29a57a4-d92e-4b42-89d8-823a09ffbd63",
   "metadata": {},
   "outputs": [],
   "source": []
  },
  {
   "cell_type": "markdown",
   "id": "11f4a28e-4176-4852-810b-fd6243cea446",
   "metadata": {},
   "source": [
    "## Polymorphism\n",
    "Different objects can share similar methods with different functionality"
   ]
  },
  {
   "cell_type": "code",
   "execution_count": 31,
   "id": "e0f9e08d-04e8-4ab1-a86b-2c029876d87e",
   "metadata": {},
   "outputs": [],
   "source": [
    "class Mouse():\n",
    "\n",
    "    def __init__(self,name):\n",
    "        self.name = name\n",
    "\n",
    "    def speak(self,):\n",
    "        return self.name + ' squeaks!'"
   ]
  },
  {
   "cell_type": "code",
   "execution_count": 33,
   "id": "f7077108-6bb8-4b5a-9efd-4e40e5f6fda0",
   "metadata": {},
   "outputs": [],
   "source": [
    "class Fox():\n",
    "\n",
    "    def __init__(self,name):\n",
    "        self.name = name\n",
    "\n",
    "    def speak(self,):\n",
    "        return self.name + ' barks!'"
   ]
  },
  {
   "cell_type": "code",
   "execution_count": 35,
   "id": "d2b066ce-b236-4574-957b-eda0f992c7da",
   "metadata": {},
   "outputs": [],
   "source": [
    "def pet_speak(pet):\n",
    "    print(pet.speak())"
   ]
  },
  {
   "cell_type": "code",
   "execution_count": 36,
   "id": "f9396bb3-f1a8-4861-8db0-8d3b7d2b0b0f",
   "metadata": {},
   "outputs": [],
   "source": [
    "f = Fox('foxName')"
   ]
  },
  {
   "cell_type": "code",
   "execution_count": 37,
   "id": "5d237af6-adb3-48a9-b66f-f66a2e1b64a8",
   "metadata": {},
   "outputs": [],
   "source": [
    "m = Mouse('mouseName')"
   ]
  },
  {
   "cell_type": "code",
   "execution_count": 38,
   "id": "e5e5db2e-c3ee-4600-9246-2d20c7fd9378",
   "metadata": {},
   "outputs": [
    {
     "name": "stdout",
     "output_type": "stream",
     "text": [
      "foxName barks!\n"
     ]
    }
   ],
   "source": [
    "pet_speak(f)"
   ]
  },
  {
   "cell_type": "code",
   "execution_count": null,
   "id": "b1c07566-1c87-45d2-89e9-6816e5557b0e",
   "metadata": {},
   "outputs": [],
   "source": []
  },
  {
   "cell_type": "markdown",
   "id": "e2123fa2-df6e-480e-9a40-4b9ba09e0a78",
   "metadata": {},
   "source": [
    "## Polymorphism Abstract Classes"
   ]
  },
  {
   "cell_type": "code",
   "execution_count": 39,
   "id": "aed92d71-bf19-4cbf-8069-cb251e7cd62b",
   "metadata": {},
   "outputs": [],
   "source": [
    "class Animal():\n",
    "\n",
    "    def __init__(self,name):\n",
    "        self.name = name\n",
    "\n",
    "    def speak(self,):\n",
    "        raise NotImplementedError('Subclass must implement this abstract method')"
   ]
  },
  {
   "cell_type": "code",
   "execution_count": 41,
   "id": "65e42bec-c8b2-4bfd-a6a6-d95819adea18",
   "metadata": {},
   "outputs": [],
   "source": [
    "testAnimal = Animal('test')"
   ]
  },
  {
   "cell_type": "code",
   "execution_count": 42,
   "id": "07d5fd18-f5b2-4fdc-bad2-b0b8900e9d6d",
   "metadata": {},
   "outputs": [
    {
     "ename": "NotImplementedError",
     "evalue": "Subclass must implement this abstract method",
     "output_type": "error",
     "traceback": [
      "\u001b[31m---------------------------------------------------------------------------\u001b[39m",
      "\u001b[31mNotImplementedError\u001b[39m                       Traceback (most recent call last)",
      "\u001b[36mCell\u001b[39m\u001b[36m \u001b[39m\u001b[32mIn[42]\u001b[39m\u001b[32m, line 1\u001b[39m\n\u001b[32m----> \u001b[39m\u001b[32m1\u001b[39m \u001b[43mtestAnimal\u001b[49m\u001b[43m.\u001b[49m\u001b[43mspeak\u001b[49m\u001b[43m(\u001b[49m\u001b[43m)\u001b[49m\n",
      "\u001b[36mCell\u001b[39m\u001b[36m \u001b[39m\u001b[32mIn[39]\u001b[39m\u001b[32m, line 7\u001b[39m, in \u001b[36mAnimal.speak\u001b[39m\u001b[34m(self)\u001b[39m\n\u001b[32m      6\u001b[39m \u001b[38;5;28;01mdef\u001b[39;00m\u001b[38;5;250m \u001b[39m\u001b[34mspeak\u001b[39m(\u001b[38;5;28mself\u001b[39m,):\n\u001b[32m----> \u001b[39m\u001b[32m7\u001b[39m     \u001b[38;5;28;01mraise\u001b[39;00m \u001b[38;5;167;01mNotImplementedError\u001b[39;00m(\u001b[33m'\u001b[39m\u001b[33mSubclass must implement this abstract method\u001b[39m\u001b[33m'\u001b[39m)\n",
      "\u001b[31mNotImplementedError\u001b[39m: Subclass must implement this abstract method"
     ]
    }
   ],
   "source": [
    "testAnimal.speak()"
   ]
  },
  {
   "cell_type": "code",
   "execution_count": null,
   "id": "94732159-4223-41cb-93ef-3f6646ecb558",
   "metadata": {},
   "outputs": [],
   "source": []
  },
  {
   "cell_type": "code",
   "execution_count": 43,
   "id": "6e6d2779-0a5a-4c12-ac47-c98c1f6775f8",
   "metadata": {},
   "outputs": [],
   "source": [
    "class Wolf(Animal):\n",
    "\n",
    "    def speak(self,):\n",
    "        return self.name + ' says woof!'"
   ]
  },
  {
   "cell_type": "code",
   "execution_count": 44,
   "id": "7123c0a8-d596-4e1e-a72c-70e823c06f46",
   "metadata": {},
   "outputs": [],
   "source": [
    "wolfy = Wolf('Wolfy')"
   ]
  },
  {
   "cell_type": "code",
   "execution_count": 46,
   "id": "33b7a332-3816-4b3e-a959-ba5270fec263",
   "metadata": {},
   "outputs": [
    {
     "data": {
      "text/plain": [
       "'Wolfy says woof!'"
      ]
     },
     "execution_count": 46,
     "metadata": {},
     "output_type": "execute_result"
    }
   ],
   "source": [
    "wolfy.speak()"
   ]
  },
  {
   "cell_type": "code",
   "execution_count": null,
   "id": "81e5de87-15da-48c2-8d47-61b6679723a2",
   "metadata": {},
   "outputs": [],
   "source": []
  },
  {
   "cell_type": "code",
   "execution_count": null,
   "id": "32edc9ea-7ce6-4ccc-a04f-21037db8491c",
   "metadata": {},
   "outputs": [],
   "source": []
  },
  {
   "cell_type": "code",
   "execution_count": null,
   "id": "538e920c-2d0d-4ba2-bbdd-cb28badfaa3b",
   "metadata": {},
   "outputs": [],
   "source": []
  },
  {
   "cell_type": "markdown",
   "id": "22c929a7-0da6-474d-9fc8-7da9bb0b6802",
   "metadata": {},
   "source": [
    "---\n",
    "# Magic Methods"
   ]
  },
  {
   "cell_type": "markdown",
   "id": "dc78d7fd-1eea-47fc-a7a5-5d61ae721c6b",
   "metadata": {},
   "source": [
    "How to make typical python functions apply to user-defined types"
   ]
  },
  {
   "cell_type": "code",
   "execution_count": 47,
   "id": "41d5ffc0-30ec-4d43-b597-08f162bb9bfc",
   "metadata": {},
   "outputs": [],
   "source": [
    "class Sample():\n",
    "    pass"
   ]
  },
  {
   "cell_type": "code",
   "execution_count": 48,
   "id": "c4af9db3-7cda-4d4c-a8d8-a1bf22ff09b7",
   "metadata": {},
   "outputs": [],
   "source": [
    "mysample = Sample()"
   ]
  },
  {
   "cell_type": "code",
   "execution_count": 50,
   "id": "a97ad99c-8bbe-4971-a45e-2f708d9b038b",
   "metadata": {},
   "outputs": [],
   "source": [
    "mylist = [1,2,3]"
   ]
  },
  {
   "cell_type": "code",
   "execution_count": null,
   "id": "2c268ede-34fe-487f-bbf6-48fb08b7d430",
   "metadata": {},
   "outputs": [],
   "source": []
  },
  {
   "cell_type": "code",
   "execution_count": 51,
   "id": "6224bf03-0457-457b-b83f-94216d426755",
   "metadata": {},
   "outputs": [
    {
     "data": {
      "text/plain": [
       "3"
      ]
     },
     "execution_count": 51,
     "metadata": {},
     "output_type": "execute_result"
    }
   ],
   "source": [
    "len(mylist)"
   ]
  },
  {
   "cell_type": "code",
   "execution_count": 52,
   "id": "c50abb06-8007-49a8-b6b4-5ce983913a5e",
   "metadata": {},
   "outputs": [
    {
     "ename": "TypeError",
     "evalue": "object of type 'Sample' has no len()",
     "output_type": "error",
     "traceback": [
      "\u001b[31m---------------------------------------------------------------------------\u001b[39m",
      "\u001b[31mTypeError\u001b[39m                                 Traceback (most recent call last)",
      "\u001b[36mCell\u001b[39m\u001b[36m \u001b[39m\u001b[32mIn[52]\u001b[39m\u001b[32m, line 1\u001b[39m\n\u001b[32m----> \u001b[39m\u001b[32m1\u001b[39m \u001b[38;5;28;43mlen\u001b[39;49m\u001b[43m(\u001b[49m\u001b[43mmysample\u001b[49m\u001b[43m)\u001b[49m\n",
      "\u001b[31mTypeError\u001b[39m: object of type 'Sample' has no len()"
     ]
    }
   ],
   "source": [
    "len(mysample)"
   ]
  },
  {
   "cell_type": "code",
   "execution_count": 53,
   "id": "a578f8f2-4f42-462e-9862-e30b82edd6b2",
   "metadata": {},
   "outputs": [
    {
     "name": "stdout",
     "output_type": "stream",
     "text": [
      "[1, 2, 3]\n"
     ]
    }
   ],
   "source": [
    "print(mylist)"
   ]
  },
  {
   "cell_type": "code",
   "execution_count": 54,
   "id": "4ecd3e3e-a2af-46a3-9207-f94bf784cb63",
   "metadata": {},
   "outputs": [
    {
     "name": "stdout",
     "output_type": "stream",
     "text": [
      "<__main__.Sample object at 0x000001292408E7B0>\n"
     ]
    }
   ],
   "source": [
    "print(mysample)"
   ]
  },
  {
   "cell_type": "code",
   "execution_count": null,
   "id": "d3306c99-1a88-4ad1-9854-55b0f71c6741",
   "metadata": {},
   "outputs": [],
   "source": []
  },
  {
   "cell_type": "code",
   "execution_count": null,
   "id": "7495190f-8842-4962-ae8a-e1ca8b5f04c4",
   "metadata": {},
   "outputs": [],
   "source": []
  },
  {
   "cell_type": "code",
   "execution_count": 62,
   "id": "d1667f27-6b45-4f79-b398-a80859fd2d6f",
   "metadata": {},
   "outputs": [],
   "source": [
    "class Book():\n",
    "\n",
    "    def __init__(self,title,author,pages):\n",
    "\n",
    "        self.title = title\n",
    "        self.author = author\n",
    "        self.pages = pages\n",
    "\n",
    "    # Defines what print() outputs\n",
    "    def __str__(self,):\n",
    "        return f\"{self.title} by {self.author}\"\n",
    "\n",
    "    # Defines what len() outputs\n",
    "    def __len__(self,):\n",
    "        return self.pages\n",
    "\n",
    "    # Defines how del behaves\n",
    "    def __del__(self,):\n",
    "        print('A book object has been deleted.')"
   ]
  },
  {
   "cell_type": "code",
   "execution_count": 63,
   "id": "a1466bbd-c222-4e12-a026-4e0f1d95f464",
   "metadata": {},
   "outputs": [],
   "source": [
    "b = Book('Python rocks', 'Jose', 200)"
   ]
  },
  {
   "cell_type": "code",
   "execution_count": 59,
   "id": "17d22b61-bec1-45e0-a3f4-44a65574a724",
   "metadata": {},
   "outputs": [
    {
     "data": {
      "text/plain": [
       "'Python rocks by Jose'"
      ]
     },
     "execution_count": 59,
     "metadata": {},
     "output_type": "execute_result"
    }
   ],
   "source": [
    "str(b)"
   ]
  },
  {
   "cell_type": "code",
   "execution_count": 60,
   "id": "65a037c9-2501-4e5a-a97f-f0d8137fe5c8",
   "metadata": {},
   "outputs": [
    {
     "name": "stdout",
     "output_type": "stream",
     "text": [
      "Python rocks by Jose\n"
     ]
    }
   ],
   "source": [
    "print(b)"
   ]
  },
  {
   "cell_type": "code",
   "execution_count": null,
   "id": "7eedada1-8f34-4f05-99f2-6cdbd8b219d0",
   "metadata": {},
   "outputs": [],
   "source": []
  },
  {
   "cell_type": "code",
   "execution_count": 64,
   "id": "fc30abbc-77c2-4d6e-8a7a-8770bab273cd",
   "metadata": {},
   "outputs": [
    {
     "data": {
      "text/plain": [
       "200"
      ]
     },
     "execution_count": 64,
     "metadata": {},
     "output_type": "execute_result"
    }
   ],
   "source": [
    "len(b)"
   ]
  },
  {
   "cell_type": "code",
   "execution_count": null,
   "id": "020576a5-eb5a-4a64-817b-f3944857cda2",
   "metadata": {},
   "outputs": [],
   "source": []
  },
  {
   "cell_type": "code",
   "execution_count": 65,
   "id": "c519736f-0331-41a8-a145-51fe59924c3b",
   "metadata": {},
   "outputs": [
    {
     "name": "stdout",
     "output_type": "stream",
     "text": [
      "A book object has been deleted.\n"
     ]
    }
   ],
   "source": [
    "del b"
   ]
  },
  {
   "cell_type": "code",
   "execution_count": 66,
   "id": "e2372d97-2e87-47fe-a448-702994cd960e",
   "metadata": {},
   "outputs": [
    {
     "ename": "NameError",
     "evalue": "name 'b' is not defined",
     "output_type": "error",
     "traceback": [
      "\u001b[31m---------------------------------------------------------------------------\u001b[39m",
      "\u001b[31mNameError\u001b[39m                                 Traceback (most recent call last)",
      "\u001b[36mCell\u001b[39m\u001b[36m \u001b[39m\u001b[32mIn[66]\u001b[39m\u001b[32m, line 1\u001b[39m\n\u001b[32m----> \u001b[39m\u001b[32m1\u001b[39m \u001b[43mb\u001b[49m\n",
      "\u001b[31mNameError\u001b[39m: name 'b' is not defined"
     ]
    }
   ],
   "source": [
    "b"
   ]
  },
  {
   "cell_type": "code",
   "execution_count": null,
   "id": "587134be-17d9-4f29-9e69-117f51abbbc0",
   "metadata": {},
   "outputs": [],
   "source": []
  }
 ],
 "metadata": {
  "kernelspec": {
   "display_name": "Python 3 (ipykernel)",
   "language": "python",
   "name": "python3"
  },
  "language_info": {
   "codemirror_mode": {
    "name": "ipython",
    "version": 3
   },
   "file_extension": ".py",
   "mimetype": "text/x-python",
   "name": "python",
   "nbconvert_exporter": "python",
   "pygments_lexer": "ipython3",
   "version": "3.13.3"
  }
 },
 "nbformat": 4,
 "nbformat_minor": 5
}
