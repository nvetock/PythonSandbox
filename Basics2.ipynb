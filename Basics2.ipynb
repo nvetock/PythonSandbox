{
 "cells": [
  {
   "cell_type": "markdown",
   "id": "a0216853-4076-4579-8a42-889f893cb4a9",
   "metadata": {},
   "source": [
    "# Functions\n",
    "def name_of_func(param):\\\n",
    "    '''\\\n",
    "    Docstring explainer\\\n",
    "    '''\\\n",
    "    function stuff\\\n",
    "    return x\\"
   ]
  },
  {
   "cell_type": "code",
   "execution_count": 1,
   "id": "e4a920ca-fb30-4d85-beb5-7c5c4f1b72a9",
   "metadata": {},
   "outputs": [],
   "source": [
    "def temp_function():\n",
    "    pass"
   ]
  },
  {
   "cell_type": "code",
   "execution_count": 2,
   "id": "8b0c5121-dca9-435a-b146-1b308c47844f",
   "metadata": {},
   "outputs": [],
   "source": [
    "def add_numbers(num1, num2):\n",
    "    return num1 + num2"
   ]
  },
  {
   "cell_type": "code",
   "execution_count": 3,
   "id": "dd07cd09-2c59-4df7-b73a-c8b097b6cc0a",
   "metadata": {},
   "outputs": [
    {
     "data": {
      "text/plain": [
       "3"
      ]
     },
     "execution_count": 3,
     "metadata": {},
     "output_type": "execute_result"
    }
   ],
   "source": [
    "add_numbers(1,2)"
   ]
  },
  {
   "cell_type": "code",
   "execution_count": null,
   "id": "b46bc8a7-e478-4d94-af11-dfbbefdb5df1",
   "metadata": {},
   "outputs": [],
   "source": []
  },
  {
   "cell_type": "code",
   "execution_count": null,
   "id": "41e6c7fc-42c0-45ea-b5a0-440d37174b8e",
   "metadata": {},
   "outputs": [],
   "source": []
  },
  {
   "cell_type": "markdown",
   "id": "12f70656-8565-4f3b-8ab3-e55103a2ad77",
   "metadata": {},
   "source": [
    "## Functions with Tuple Unpacking"
   ]
  },
  {
   "cell_type": "code",
   "execution_count": 9,
   "id": "1e331e04-8619-4bbd-8778-565f26e65532",
   "metadata": {},
   "outputs": [],
   "source": [
    "work_hours = [('Abby',100),('Billy',400),('Cassie',800)]"
   ]
  },
  {
   "cell_type": "code",
   "execution_count": 5,
   "id": "47afccd7-b31a-4eb7-8cbd-5e0a3d2315bb",
   "metadata": {},
   "outputs": [],
   "source": [
    "def employee_check(work_hours):\n",
    "    current_max = 0\n",
    "    employee_of_month = ''\n",
    "\n",
    "    for employee, hours in work_hours:\n",
    "        if (hours > current_max):\n",
    "            current_max = hours\n",
    "            employee_of_month = employee\n",
    "        else:\n",
    "            pass\n",
    "    \n",
    "    ## return tuple\n",
    "    return (employee_of_month, current_max)"
   ]
  },
  {
   "cell_type": "code",
   "execution_count": 10,
   "id": "e86f2d4b-986f-4038-ac42-59f3cef779f4",
   "metadata": {},
   "outputs": [
    {
     "data": {
      "text/plain": [
       "('Cassie', 800)"
      ]
     },
     "execution_count": 10,
     "metadata": {},
     "output_type": "execute_result"
    }
   ],
   "source": [
    "employee_check(work_hours)"
   ]
  },
  {
   "cell_type": "code",
   "execution_count": 14,
   "id": "48d20e65-3429-4dfc-8a3f-2aa13bd41cea",
   "metadata": {},
   "outputs": [],
   "source": [
    "result = employee_check(work_hours)"
   ]
  },
  {
   "cell_type": "code",
   "execution_count": 15,
   "id": "7316cf07-325d-4bc1-a3b1-fef0e8c2e651",
   "metadata": {},
   "outputs": [
    {
     "data": {
      "text/plain": [
       "('Cassie', 800)"
      ]
     },
     "execution_count": 15,
     "metadata": {},
     "output_type": "execute_result"
    }
   ],
   "source": [
    "result"
   ]
  },
  {
   "cell_type": "code",
   "execution_count": null,
   "id": "6bf1a315-c233-411f-9589-31c507bfc570",
   "metadata": {},
   "outputs": [],
   "source": []
  },
  {
   "cell_type": "markdown",
   "id": "52a846d4-6664-41f1-a7d6-cdcf28fa9256",
   "metadata": {},
   "source": [
    "Tuple unpacking can be returned from a function call returning a tuple"
   ]
  },
  {
   "cell_type": "code",
   "execution_count": 11,
   "id": "78c21e0a-a2b5-457c-8895-77b2a50632a5",
   "metadata": {},
   "outputs": [],
   "source": [
    "name,hours = employee_check(work_hours)"
   ]
  },
  {
   "cell_type": "code",
   "execution_count": 12,
   "id": "88eeba5a-26c1-45ae-919f-e727ea91ec50",
   "metadata": {},
   "outputs": [
    {
     "data": {
      "text/plain": [
       "'Cassie'"
      ]
     },
     "execution_count": 12,
     "metadata": {},
     "output_type": "execute_result"
    }
   ],
   "source": [
    "name"
   ]
  },
  {
   "cell_type": "code",
   "execution_count": 13,
   "id": "126c3b77-869b-4f02-b8dc-4eb65388c10f",
   "metadata": {},
   "outputs": [
    {
     "data": {
      "text/plain": [
       "800"
      ]
     },
     "execution_count": 13,
     "metadata": {},
     "output_type": "execute_result"
    }
   ],
   "source": [
    "hours"
   ]
  },
  {
   "cell_type": "code",
   "execution_count": null,
   "id": "77886ffd-dde7-4b20-a781-9aec62db5ec1",
   "metadata": {},
   "outputs": [],
   "source": []
  },
  {
   "cell_type": "code",
   "execution_count": null,
   "id": "85fb5e44-4c27-4bcb-b023-a7b09d0c129b",
   "metadata": {},
   "outputs": [],
   "source": []
  },
  {
   "cell_type": "markdown",
   "id": "442695e3-34ff-4583-b1f6-78e0f2093d14",
   "metadata": {},
   "source": [
    "---\n",
    "# Ball in Cup\n",
    "List holds \\['','','ball']\\\n",
    "Function shuffles list positions\\\n",
    "Another function takes input from user\\"
   ]
  },
  {
   "cell_type": "code",
   "execution_count": 17,
   "id": "520011a9-2f7a-4428-b257-e8672b774cac",
   "metadata": {},
   "outputs": [],
   "source": [
    "cups = ['','','ball']"
   ]
  },
  {
   "cell_type": "code",
   "execution_count": 22,
   "id": "a818ebf6-340d-4dd2-884b-e46eee4308fe",
   "metadata": {},
   "outputs": [],
   "source": [
    "from random import shuffle\n",
    "\n",
    "def play_game(cup_list):\n",
    "    shuffle(cup_list)\n",
    "    guess = int(input('Which cup is the ball in?\\nChoose cups: 1, 2, or 3:\\n'))\n",
    "    print(cup_list)\n",
    "    return 'ball' == cup_list[guess - 1]"
   ]
  },
  {
   "cell_type": "code",
   "execution_count": 25,
   "id": "efeec45d-7eb5-44b2-a312-e28eb6311d27",
   "metadata": {},
   "outputs": [
    {
     "name": "stdin",
     "output_type": "stream",
     "text": [
      "Which cup is the ball in?\n",
      "Choose cups: 1, 2, or 3:\n",
      " 1\n"
     ]
    },
    {
     "name": "stdout",
     "output_type": "stream",
     "text": [
      "['ball', '', '']\n"
     ]
    },
    {
     "data": {
      "text/plain": [
       "True"
      ]
     },
     "execution_count": 25,
     "metadata": {},
     "output_type": "execute_result"
    }
   ],
   "source": [
    "play_game(cups)"
   ]
  },
  {
   "cell_type": "code",
   "execution_count": null,
   "id": "80c06964-27c4-4fa2-be57-3b678c1df3de",
   "metadata": {},
   "outputs": [],
   "source": []
  },
  {
   "cell_type": "code",
   "execution_count": null,
   "id": "5963f75f-5d34-48b3-8647-77b8754ad0a9",
   "metadata": {},
   "outputs": [],
   "source": []
  },
  {
   "cell_type": "markdown",
   "id": "e3c50227-6a49-41aa-a8a2-eb0d3d07fa4d",
   "metadata": {},
   "source": [
    "---\n",
    "# Args & Kwargs\n",
    "Accepts arbitrary number of arguments and/or keyword arguments"
   ]
  },
  {
   "cell_type": "markdown",
   "id": "c66145a0-815a-4208-9a25-66f385379791",
   "metadata": {},
   "source": [
    "## Args\n",
    "treats args as tuple"
   ]
  },
  {
   "cell_type": "code",
   "execution_count": 26,
   "id": "ad399ce2-e5e7-4cdf-82ea-1e3aec5d2e2e",
   "metadata": {},
   "outputs": [],
   "source": [
    "def myfunc(a,b):\n",
    "    # returns 5% of sum of a and b\n",
    "    return sum((a,b)) * 0.05"
   ]
  },
  {
   "cell_type": "code",
   "execution_count": 27,
   "id": "bad199ad-d8d1-4bfe-b8a4-8048da3aaac1",
   "metadata": {},
   "outputs": [
    {
     "data": {
      "text/plain": [
       "5.0"
      ]
     },
     "execution_count": 27,
     "metadata": {},
     "output_type": "execute_result"
    }
   ],
   "source": [
    "myfunc(40,60)"
   ]
  },
  {
   "cell_type": "code",
   "execution_count": null,
   "id": "8582d36a-7ab4-46d2-bbc4-06e35c5bcfa9",
   "metadata": {},
   "outputs": [],
   "source": []
  },
  {
   "cell_type": "code",
   "execution_count": 30,
   "id": "7802ce0b-88fa-4bcb-aeb9-2f9c16530d7c",
   "metadata": {},
   "outputs": [],
   "source": [
    "def summation(*args):\n",
    "    return sum(args) * 0.05"
   ]
  },
  {
   "cell_type": "code",
   "execution_count": 32,
   "id": "f79729c7-b2f4-4168-8b50-6f61d9c2c342",
   "metadata": {},
   "outputs": [
    {
     "data": {
      "text/plain": [
       "5.0"
      ]
     },
     "execution_count": 32,
     "metadata": {},
     "output_type": "execute_result"
    }
   ],
   "source": [
    "summation(40,60)"
   ]
  },
  {
   "cell_type": "code",
   "execution_count": null,
   "id": "4073b8dd-2e3a-4654-b591-225789653f6c",
   "metadata": {},
   "outputs": [],
   "source": []
  },
  {
   "cell_type": "markdown",
   "id": "05788c7d-8417-4ad4-ac9a-3e03a987843c",
   "metadata": {},
   "source": [
    "Python treats *args as a tuple of input"
   ]
  },
  {
   "cell_type": "code",
   "execution_count": 34,
   "id": "c202737e-150e-4a94-a79e-ec6dd854c168",
   "metadata": {},
   "outputs": [],
   "source": [
    "def show_args(*args):\n",
    "    print(args)"
   ]
  },
  {
   "cell_type": "code",
   "execution_count": 35,
   "id": "0a7684b6-1eb2-4792-8a1d-9a76b406085c",
   "metadata": {},
   "outputs": [
    {
     "name": "stdout",
     "output_type": "stream",
     "text": [
      "(10, 20, 30, 'word', True)\n"
     ]
    }
   ],
   "source": [
    "show_args(10, 20, 30, 'word', True)"
   ]
  },
  {
   "cell_type": "code",
   "execution_count": null,
   "id": "9b1eefec-73e0-41e9-b367-89b13c9837d3",
   "metadata": {},
   "outputs": [],
   "source": []
  },
  {
   "cell_type": "markdown",
   "id": "fe24e287-97ec-4eeb-8527-f52838afe74a",
   "metadata": {},
   "source": [
    "## Kwargs\n",
    "treats kwargs as dictionary"
   ]
  },
  {
   "cell_type": "code",
   "execution_count": 38,
   "id": "cc6f1584-d45f-41ec-9576-2fcf8de5a773",
   "metadata": {},
   "outputs": [],
   "source": [
    "def myfunc(**kwargs):\n",
    "    if 'fruit' in kwargs:\n",
    "        print('My fruit of choice is {}.'.format(kwargs['fruit']))\n",
    "        "
   ]
  },
  {
   "cell_type": "code",
   "execution_count": 39,
   "id": "983fc8e5-428f-44c5-a94b-b48b1f76d7cf",
   "metadata": {},
   "outputs": [
    {
     "name": "stdout",
     "output_type": "stream",
     "text": [
      "My fruit of choice is strawberry.\n"
     ]
    }
   ],
   "source": [
    "myfunc(fruit='strawberry')"
   ]
  },
  {
   "cell_type": "code",
   "execution_count": null,
   "id": "67257bd6-f320-4428-b0e0-babe0540a707",
   "metadata": {},
   "outputs": [],
   "source": []
  },
  {
   "cell_type": "code",
   "execution_count": 40,
   "id": "9b850153-81b6-4074-9d81-1071c523f090",
   "metadata": {},
   "outputs": [],
   "source": [
    "def print_kwargs(**kwargs):\n",
    "    print(kwargs)"
   ]
  },
  {
   "cell_type": "code",
   "execution_count": 41,
   "id": "85c1458a-9a65-4d2a-894e-df83380e3502",
   "metadata": {},
   "outputs": [
    {
     "name": "stdout",
     "output_type": "stream",
     "text": [
      "{'fruit': 'strawberry', 'veggie': 'lettuce'}\n"
     ]
    }
   ],
   "source": [
    "print_kwargs(fruit='strawberry', veggie='lettuce')"
   ]
  },
  {
   "cell_type": "code",
   "execution_count": null,
   "id": "0c1762db-91e2-42d0-af9a-094601a0a2fb",
   "metadata": {},
   "outputs": [],
   "source": []
  },
  {
   "cell_type": "code",
   "execution_count": 42,
   "id": "630f78e3-ed60-4cdc-aef5-cb685e24e1d3",
   "metadata": {},
   "outputs": [],
   "source": [
    "temp = 'RandOMwOrd'"
   ]
  },
  {
   "cell_type": "code",
   "execution_count": 44,
   "id": "bff3d237-64e5-401a-bad4-448005c4b68a",
   "metadata": {},
   "outputs": [
    {
     "data": {
      "text/plain": [
       "'ADMOD'"
      ]
     },
     "execution_count": 44,
     "metadata": {},
     "output_type": "execute_result"
    }
   ],
   "source": [
    "temp[1::2].upper()"
   ]
  },
  {
   "cell_type": "code",
   "execution_count": 45,
   "id": "e0fd3505-d8aa-42ab-a1db-ca72629db48d",
   "metadata": {},
   "outputs": [
    {
     "data": {
      "text/plain": [
       "'RandOMwOrd'"
      ]
     },
     "execution_count": 45,
     "metadata": {},
     "output_type": "execute_result"
    }
   ],
   "source": [
    "temp"
   ]
  },
  {
   "cell_type": "code",
   "execution_count": 46,
   "id": "47eda7b6-3884-42b9-86df-2e689a3d58e8",
   "metadata": {},
   "outputs": [],
   "source": [
    "new_temp = ''"
   ]
  },
  {
   "cell_type": "code",
   "execution_count": 47,
   "id": "a83ae0e0-c9f5-4f18-b482-d84d32896db2",
   "metadata": {},
   "outputs": [],
   "source": [
    "new_temp += temp[0].lower()"
   ]
  },
  {
   "cell_type": "code",
   "execution_count": 48,
   "id": "520261dd-7784-4579-8c40-927ee7163dd7",
   "metadata": {},
   "outputs": [
    {
     "data": {
      "text/plain": [
       "'r'"
      ]
     },
     "execution_count": 48,
     "metadata": {},
     "output_type": "execute_result"
    }
   ],
   "source": [
    "new_temp"
   ]
  },
  {
   "cell_type": "code",
   "execution_count": 49,
   "id": "db7d4f23-b398-4e11-ab04-fd2ae2736f70",
   "metadata": {},
   "outputs": [],
   "source": [
    "new_temp += temp[1].upper()"
   ]
  },
  {
   "cell_type": "code",
   "execution_count": 50,
   "id": "10c742e7-29bf-4e32-abdd-fed920e07e99",
   "metadata": {},
   "outputs": [
    {
     "data": {
      "text/plain": [
       "'rA'"
      ]
     },
     "execution_count": 50,
     "metadata": {},
     "output_type": "execute_result"
    }
   ],
   "source": [
    "new_temp"
   ]
  },
  {
   "cell_type": "code",
   "execution_count": null,
   "id": "de14bafb-07a7-4c13-a516-d4ca17c58f95",
   "metadata": {},
   "outputs": [],
   "source": []
  },
  {
   "cell_type": "markdown",
   "id": "91a38593-d370-4811-91d0-02c4cbc10385",
   "metadata": {},
   "source": [
    "---\n",
    "# Practice Problems"
   ]
  },
  {
   "cell_type": "code",
   "execution_count": 53,
   "id": "f22ad6e3-8957-4512-81f7-6ae7b594fe2d",
   "metadata": {},
   "outputs": [],
   "source": [
    "def lesser_or_greater(num1, num2):\n",
    "    if num1 % 2 == 0 and num2 % 2 == 0:\n",
    "        return min(num1, num2)\n",
    "    else:\n",
    "        return max(num1, num2)"
   ]
  },
  {
   "cell_type": "code",
   "execution_count": 55,
   "id": "b2efd8f4-25f3-4e6f-9f73-39eb55a69007",
   "metadata": {},
   "outputs": [
    {
     "data": {
      "text/plain": [
       "5"
      ]
     },
     "execution_count": 55,
     "metadata": {},
     "output_type": "execute_result"
    }
   ],
   "source": [
    "lesser_or_greater(2, 5)"
   ]
  },
  {
   "cell_type": "code",
   "execution_count": null,
   "id": "cf369021-e954-4200-8faa-b7c8163341ce",
   "metadata": {},
   "outputs": [],
   "source": []
  },
  {
   "cell_type": "code",
   "execution_count": 56,
   "id": "db6a0e80-632a-4943-a8e9-5e408d280e5a",
   "metadata": {},
   "outputs": [],
   "source": [
    "def animal_crackers(s):\n",
    "    '''\n",
    "    Takes two word string and returns True if both words\n",
    "    begin with the same letter\n",
    "    '''\n",
    "    words = s.split(' ')\n",
    "    return words[0][0] == words[1][0]"
   ]
  },
  {
   "cell_type": "code",
   "execution_count": 57,
   "id": "1ad3d00d-5541-4727-8d15-3bcac3e8939b",
   "metadata": {},
   "outputs": [
    {
     "data": {
      "text/plain": [
       "False"
      ]
     },
     "execution_count": 57,
     "metadata": {},
     "output_type": "execute_result"
    }
   ],
   "source": [
    "animal_crackers('Crazy Kangaroo')"
   ]
  },
  {
   "cell_type": "code",
   "execution_count": 58,
   "id": "45492175-01f5-4fb0-82f2-33fa769118df",
   "metadata": {},
   "outputs": [
    {
     "data": {
      "text/plain": [
       "True"
      ]
     },
     "execution_count": 58,
     "metadata": {},
     "output_type": "execute_result"
    }
   ],
   "source": [
    "animal_crackers('Leemur Leaping')"
   ]
  },
  {
   "cell_type": "code",
   "execution_count": null,
   "id": "40bd3255-3021-48ef-a1f6-e56e1ae165b8",
   "metadata": {},
   "outputs": [],
   "source": []
  },
  {
   "cell_type": "code",
   "execution_count": 59,
   "id": "a9f409cd-43e9-4dea-8b09-157506dee6d7",
   "metadata": {},
   "outputs": [],
   "source": [
    "def dist_from_seven(num):\n",
    "    '''\n",
    "    Takes number input and returns a new number twice the distance from 7\n",
    "    '''\n",
    "    return 7 + ((7-num) * 2)"
   ]
  },
  {
   "cell_type": "code",
   "execution_count": 63,
   "id": "89705b44-a647-4b5b-b345-ba2920285597",
   "metadata": {},
   "outputs": [
    {
     "data": {
      "text/plain": [
       "13"
      ]
     },
     "execution_count": 63,
     "metadata": {},
     "output_type": "execute_result"
    }
   ],
   "source": [
    "dist_from_seven(4)"
   ]
  },
  {
   "cell_type": "code",
   "execution_count": 64,
   "id": "2f866e60-d5b6-47d6-ae54-f6e7412922ad",
   "metadata": {},
   "outputs": [
    {
     "data": {
      "text/plain": [
       "-3"
      ]
     },
     "execution_count": 64,
     "metadata": {},
     "output_type": "execute_result"
    }
   ],
   "source": [
    "dist_from_seven(12)"
   ]
  },
  {
   "cell_type": "code",
   "execution_count": null,
   "id": "b5119516-3636-4225-acc9-53bba8245864",
   "metadata": {},
   "outputs": [],
   "source": []
  },
  {
   "cell_type": "code",
   "execution_count": 74,
   "id": "004ae675-ac92-4d97-98ac-e024cc3be524",
   "metadata": {},
   "outputs": [],
   "source": [
    "def spy_game(num_list):\n",
    "    code = [0,0,7,'exit']\n",
    "    \n",
    "    for n in num_list:\n",
    "        if n == code[0]:\n",
    "            code.pop(0)\n",
    "        \n",
    "    return len(code) == 1"
   ]
  },
  {
   "cell_type": "code",
   "execution_count": 75,
   "id": "1cdd51bd-8c69-45d4-b758-dfd641c84da2",
   "metadata": {},
   "outputs": [
    {
     "data": {
      "text/plain": [
       "True"
      ]
     },
     "execution_count": 75,
     "metadata": {},
     "output_type": "execute_result"
    }
   ],
   "source": [
    "spy_game([1,2,4,0,0,7,5])"
   ]
  },
  {
   "cell_type": "code",
   "execution_count": 76,
   "id": "6c53c0bd-750e-4f7d-9007-b0179b12ddb4",
   "metadata": {},
   "outputs": [
    {
     "data": {
      "text/plain": [
       "True"
      ]
     },
     "execution_count": 76,
     "metadata": {},
     "output_type": "execute_result"
    }
   ],
   "source": [
    "spy_game([1,2,0,6,0,7,7])"
   ]
  },
  {
   "cell_type": "code",
   "execution_count": 77,
   "id": "63566e05-4c15-47af-95b6-1cfa3d46d404",
   "metadata": {},
   "outputs": [
    {
     "data": {
      "text/plain": [
       "False"
      ]
     },
     "execution_count": 77,
     "metadata": {},
     "output_type": "execute_result"
    }
   ],
   "source": [
    "spy_game([1,7,2,0,6,0,2,3])"
   ]
  },
  {
   "cell_type": "code",
   "execution_count": null,
   "id": "520accb9-47cd-4b19-b3c3-31a194d7cf84",
   "metadata": {},
   "outputs": [],
   "source": []
  },
  {
   "cell_type": "markdown",
   "id": "c4d9d4e4-f6e7-4304-a6fe-70960c1a592f",
   "metadata": {},
   "source": []
  },
  {
   "cell_type": "markdown",
   "id": "0ea53463-6355-450a-9227-f9ecd6c2b497",
   "metadata": {},
   "source": [
    "---\n",
    "# Lambda, Map, Filter"
   ]
  },
  {
   "cell_type": "code",
   "execution_count": null,
   "id": "122d0fe3-37a1-4ac1-9d71-9f8e3013537c",
   "metadata": {},
   "outputs": [],
   "source": []
  },
  {
   "cell_type": "code",
   "execution_count": null,
   "id": "5c551563-c381-495d-b981-d8a989d8132a",
   "metadata": {},
   "outputs": [],
   "source": []
  },
  {
   "cell_type": "markdown",
   "id": "b16d11ca-beb0-4636-8216-72492790315b",
   "metadata": {},
   "source": [
    "## Map"
   ]
  },
  {
   "cell_type": "code",
   "execution_count": 78,
   "id": "d7b01d1a-82c4-434e-9103-5e38783e3da0",
   "metadata": {},
   "outputs": [],
   "source": [
    "def square(num):\n",
    "    return num**2"
   ]
  },
  {
   "cell_type": "code",
   "execution_count": 11,
   "id": "e18338f0-76e3-4f76-9cd0-89ee36793f0e",
   "metadata": {},
   "outputs": [],
   "source": [
    "my_nums = [1,2,3,4,5]"
   ]
  },
  {
   "cell_type": "code",
   "execution_count": 81,
   "id": "b30411ba-9f0f-461b-80be-e8c8be68c2ca",
   "metadata": {},
   "outputs": [
    {
     "name": "stdout",
     "output_type": "stream",
     "text": [
      "1\n",
      "4\n",
      "9\n",
      "16\n",
      "25\n"
     ]
    }
   ],
   "source": [
    "for item in map(square,my_nums):\n",
    "    print(item)"
   ]
  },
  {
   "cell_type": "code",
   "execution_count": 82,
   "id": "950a73ec-af19-47ec-bb6b-ce7e30cb421e",
   "metadata": {},
   "outputs": [
    {
     "data": {
      "text/plain": [
       "[1, 4, 9, 16, 25]"
      ]
     },
     "execution_count": 82,
     "metadata": {},
     "output_type": "execute_result"
    }
   ],
   "source": [
    "list(map(square,my_nums))"
   ]
  },
  {
   "cell_type": "code",
   "execution_count": null,
   "id": "baee8f5d-9072-43e0-b0a2-7f566961e6b4",
   "metadata": {},
   "outputs": [],
   "source": []
  },
  {
   "cell_type": "markdown",
   "id": "a73da408-993e-4146-ace5-04f4d10d0ebe",
   "metadata": {},
   "source": [
    "Version that works with strings"
   ]
  },
  {
   "cell_type": "code",
   "execution_count": 83,
   "id": "271be1c5-6403-4f09-a1db-95167fe7700b",
   "metadata": {},
   "outputs": [],
   "source": [
    "def splicer(mystring):\n",
    "    if len(mystring)%2 == 0:\n",
    "        return 'EVEN'\n",
    "    else:\n",
    "        return mystring[0]"
   ]
  },
  {
   "cell_type": "code",
   "execution_count": 84,
   "id": "11672180-496e-4ddc-ab8b-4ea442f3ce64",
   "metadata": {},
   "outputs": [],
   "source": [
    "names = ['Andy', 'Billy', 'Charlie', 'Damien']"
   ]
  },
  {
   "cell_type": "code",
   "execution_count": 85,
   "id": "e7ddc062-108b-4e25-ac69-e25c85a2a44f",
   "metadata": {},
   "outputs": [
    {
     "data": {
      "text/plain": [
       "['EVEN', 'B', 'C', 'EVEN']"
      ]
     },
     "execution_count": 85,
     "metadata": {},
     "output_type": "execute_result"
    }
   ],
   "source": [
    "list(map(splicer,names))"
   ]
  },
  {
   "cell_type": "code",
   "execution_count": null,
   "id": "009a525c-a260-4025-a673-6f94b8a18822",
   "metadata": {},
   "outputs": [],
   "source": []
  },
  {
   "cell_type": "markdown",
   "id": "9312cb3c-69c9-44df-bec9-7a51779e5379",
   "metadata": {},
   "source": [
    "## Filter\n",
    "Iterates based on a Boolean function"
   ]
  },
  {
   "cell_type": "code",
   "execution_count": 86,
   "id": "1d67ca72-4d4c-49f0-97a5-ce13be9df8a9",
   "metadata": {},
   "outputs": [],
   "source": [
    "def check_even(num):\n",
    "    return num%2 == 0"
   ]
  },
  {
   "cell_type": "code",
   "execution_count": 87,
   "id": "913de9fb-ba3c-4aff-847b-d2762f899bc5",
   "metadata": {},
   "outputs": [
    {
     "data": {
      "text/plain": [
       "[2, 4]"
      ]
     },
     "execution_count": 87,
     "metadata": {},
     "output_type": "execute_result"
    }
   ],
   "source": [
    "list(filter(check_even, my_nums))"
   ]
  },
  {
   "cell_type": "code",
   "execution_count": null,
   "id": "b54a7953-a27c-474a-8265-c6c8098ff4a1",
   "metadata": {},
   "outputs": [],
   "source": []
  },
  {
   "cell_type": "markdown",
   "id": "1f6e5945-228f-488a-a530-cf891dbbf9f9",
   "metadata": {},
   "source": [
    "## Lambda\n",
    "Functionality only intended to be used one time. AKA anon function"
   ]
  },
  {
   "cell_type": "code",
   "execution_count": 8,
   "id": "4eea013a-69b5-482e-9e1f-ae79ecd13317",
   "metadata": {},
   "outputs": [],
   "source": [
    "square_num = lambda num: num ** 2"
   ]
  },
  {
   "cell_type": "code",
   "execution_count": 9,
   "id": "15a4c017-0409-4d87-bd4c-de06432777f3",
   "metadata": {},
   "outputs": [
    {
     "data": {
      "text/plain": [
       "9"
      ]
     },
     "execution_count": 9,
     "metadata": {},
     "output_type": "execute_result"
    }
   ],
   "source": [
    "square_num(3)"
   ]
  },
  {
   "cell_type": "code",
   "execution_count": null,
   "id": "24ce5de1-b58e-41ed-bdae-714f1849d3d9",
   "metadata": {},
   "outputs": [],
   "source": []
  },
  {
   "cell_type": "markdown",
   "id": "d59169f5-a944-4f70-b2c6-c49690fbc358",
   "metadata": {},
   "source": [
    "Normally lambdas would be sent into something like a map or filter"
   ]
  },
  {
   "cell_type": "code",
   "execution_count": 14,
   "id": "2f4219a4-b3dd-4e2a-a3d9-1db37cfacf12",
   "metadata": {},
   "outputs": [
    {
     "data": {
      "text/plain": [
       "[1, 4, 9, 16, 25]"
      ]
     },
     "execution_count": 14,
     "metadata": {},
     "output_type": "execute_result"
    }
   ],
   "source": [
    "list(map(lambda num:num**2,my_nums))"
   ]
  },
  {
   "cell_type": "code",
   "execution_count": null,
   "id": "c18651b8-74eb-4eb6-a282-7334ca307783",
   "metadata": {},
   "outputs": [],
   "source": []
  },
  {
   "cell_type": "code",
   "execution_count": 21,
   "id": "6d2c69ae-bf34-4ed0-a470-6294915da4eb",
   "metadata": {},
   "outputs": [],
   "source": [
    "nums1 = [1, 2, 3, 4, 5]\n",
    "nums2 = [2, 3, 4, 5, 6]"
   ]
  },
  {
   "cell_type": "code",
   "execution_count": 22,
   "id": "52960b7b-0a0b-48e6-aa15-fd65fb279c63",
   "metadata": {},
   "outputs": [
    {
     "data": {
      "text/plain": [
       "[3, 5, 7, 9, 11]"
      ]
     },
     "execution_count": 22,
     "metadata": {},
     "output_type": "execute_result"
    }
   ],
   "source": [
    "list(map(lambda num1, num2: num1+num2, nums1, nums2))"
   ]
  },
  {
   "cell_type": "code",
   "execution_count": null,
   "id": "ecce75b7-98df-4856-9696-fa2b1a6ec1a9",
   "metadata": {},
   "outputs": [],
   "source": []
  },
  {
   "cell_type": "markdown",
   "id": "8d5120e9-95db-4804-a7eb-8ce7cb723c63",
   "metadata": {},
   "source": [
    "Lambda expressions can be hard to read, only use for simple, easy to understand funcs"
   ]
  },
  {
   "cell_type": "code",
   "execution_count": null,
   "id": "5e11cb57-9e1c-4c85-9832-2c06fdd0a1c1",
   "metadata": {},
   "outputs": [],
   "source": []
  },
  {
   "cell_type": "code",
   "execution_count": null,
   "id": "41b6abbe-bfdd-42bd-87a9-a7e7a6d5001e",
   "metadata": {},
   "outputs": [],
   "source": []
  },
  {
   "cell_type": "code",
   "execution_count": null,
   "id": "71e12e3d-2885-4e0c-9ffe-4e99e3469624",
   "metadata": {},
   "outputs": [],
   "source": []
  }
 ],
 "metadata": {
  "kernelspec": {
   "display_name": "Python 3 (ipykernel)",
   "language": "python",
   "name": "python3"
  },
  "language_info": {
   "codemirror_mode": {
    "name": "ipython",
    "version": 3
   },
   "file_extension": ".py",
   "mimetype": "text/x-python",
   "name": "python",
   "nbconvert_exporter": "python",
   "pygments_lexer": "ipython3",
   "version": "3.13.3"
  }
 },
 "nbformat": 4,
 "nbformat_minor": 5
}
