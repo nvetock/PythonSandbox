{
 "cells": [
  {
   "cell_type": "markdown",
   "id": "a47cc71b-91bb-4231-a58c-05ca48ef4f96",
   "metadata": {},
   "source": [
    "# LRs\n",
    "\n",
    "- [Basic Practice | CodingBat](http://codingbat.com/python)\n",
    "- [Mathematical Practice | ProjectEuler](https://projecteuler.net/archives)\n",
    "- [Practice Problems | CodeAbbey](http://www.codeabbey.com/index/task_list)\n",
    "- [SubReddit Daily Practice](https://www.reddit.com/r/dailyprogrammer)\n",
    "- [Python Challenge](http://www.pythonchallenge.com/)\n"
   ]
  },
  {
   "cell_type": "code",
   "execution_count": null,
   "id": "6a95e239-70ee-4b67-b321-cc1abc02d019",
   "metadata": {},
   "outputs": [],
   "source": []
  }
 ],
 "metadata": {
  "kernelspec": {
   "display_name": "Python 3 (ipykernel)",
   "language": "python",
   "name": "python3"
  },
  "language_info": {
   "codemirror_mode": {
    "name": "ipython",
    "version": 3
   },
   "file_extension": ".py",
   "mimetype": "text/x-python",
   "name": "python",
   "nbconvert_exporter": "python",
   "pygments_lexer": "ipython3",
   "version": "3.13.3"
  }
 },
 "nbformat": 4,
 "nbformat_minor": 5
}
