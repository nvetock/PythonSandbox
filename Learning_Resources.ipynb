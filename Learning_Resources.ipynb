{
 "cells": [
  {
   "cell_type": "markdown",
   "id": "a47cc71b-91bb-4231-a58c-05ca48ef4f96",
   "metadata": {},
   "source": [
    "# LRs\n",
    "\n",
    "- [Basic Practice | CodingBat](http://codingbat.com/python)\n",
    "- [Mathematical Practice | ProjectEuler](https://projecteuler.net/archives)\n",
    "- [Practice Problems | CodeAbbey](http://www.codeabbey.com/index/task_list)\n",
    "- [SubReddit Daily Practice](https://www.reddit.com/r/dailyprogrammer)\n",
    "- [Python Challenge](http://www.pythonchallenge.com/)\n"
   ]
  },
  {
   "cell_type": "markdown",
   "id": "6bd78057-97c2-41d7-808b-911ab25dace2",
   "metadata": {},
   "source": []
  },
  {
   "cell_type": "markdown",
   "id": "bc0d6046-f24c-4ca4-bc65-afd7fa978db1",
   "metadata": {},
   "source": [
    "---\n",
    "# Methods & Built-in Objects\n",
    "\n",
    "help('method')\\\n",
    "docs.pythong.org"
   ]
  },
  {
   "cell_type": "code",
   "execution_count": null,
   "id": "25bba434-7bf9-447a-9ed0-011bf9e9dc5a",
   "metadata": {},
   "outputs": [],
   "source": []
  }
 ],
 "metadata": {
  "kernelspec": {
   "display_name": "Python 3 (ipykernel)",
   "language": "python",
   "name": "python3"
  },
  "language_info": {
   "codemirror_mode": {
    "name": "ipython",
    "version": 3
   },
   "file_extension": ".py",
   "mimetype": "text/x-python",
   "name": "python",
   "nbconvert_exporter": "python",
   "pygments_lexer": "ipython3",
   "version": "3.13.3"
  }
 },
 "nbformat": 4,
 "nbformat_minor": 5
}
